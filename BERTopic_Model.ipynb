{
  "cells": [
    {
      "cell_type": "markdown",
      "metadata": {
        "id": "a1Q4Nv0aOIjB"
      },
      "source": [
        "# BERTopic Model\n",
        "BERTopic is a topic modeling technique that leverages 🤗 transformers and c-TF-IDF to create dense clusters allowing for easily interpretable topics whilst keeping important words in the topic descriptions.\n",
        "### This will be used for the Topic Modelling phase\n",
        "It implements DTM and multiple visualisation for the topics extracted\n"
      ]
    },
    {
      "cell_type": "markdown",
      "metadata": {
        "id": "9f5KxMSNPKuP"
      },
      "source": [
        "Setup phase\n",
        "- Installing third-party libraries and extensions\n",
        "- Import data"
      ]
    },
    {
      "cell_type": "code",
      "execution_count": null,
      "metadata": {
        "id": "1CljqJnDEIGd"
      },
      "outputs": [],
      "source": [
        "from copy import deepcopy\n",
        "\n",
        "import nltk\n",
        "import pandas as pd\n",
        "import plotly.express as px\n",
        "import swifter\n",
        "import tensorflow_hub\n",
        "from bertopic import BERTopic\n",
        "from hdbscan import HDBSCAN\n",
        "from keras.preprocessing.text import text_to_word_sequence\n",
        "from nltk.corpus import stopwords\n",
        "from sentence_transformers import SentenceTransformer\n",
        "from umap import UMAP\n"
      ]
    },
    {
      "cell_type": "code",
      "execution_count": null,
      "metadata": {
        "colab": {
          "base_uri": "https://localhost:8080/"
        },
        "id": "7vKo-uRkqGPp",
        "outputId": "6c6e46a3-9ea0-417a-ef24-6471c42ce4fa"
      },
      "outputs": [],
      "source": [
        "nltk.download('stopwords')"
      ]
    },
    {
      "cell_type": "markdown",
      "metadata": {
        "id": "m0mnO3omQ6l0"
      },
      "source": [
        "Adjust parameters"
      ]
    },
    {
      "cell_type": "code",
      "execution_count": null,
      "metadata": {
        "id": "uBgsQD3EQ963"
      },
      "outputs": [],
      "source": [
        "dataset = 'collab_test'\n",
        "# Available cleaning methods are:\n",
        "# - emma: The cleaning pipeline used by Emma Tattershall in the paper:\n",
        "#                     https://github.com/etattershall/burst-detection\n",
        "# - auto:\n",
        "# - manual:\n",
        "cleaning_method = 'manual'\n",
        "\n",
        "# Available cleaning methods are:\n",
        "# - sentece-transformers: https://www.sbert.net/docs/pretrained_models.html\n",
        "# - flair: using flair library to utilize any hugging face model available\n",
        "# - spacy:\n",
        "# - use: Universal Sentence Encoder from tensorflow\n",
        "embedding = 'sentence-transformers'\n",
        "\n",
        "# BERTopic parameter tuning\n",
        "parameters_str = f'{dataset}_{cleaning_method}_{embedding}'\n",
        "# Available hyperparameter tuning options:\n",
        "# - default : uses the default BERTopic configuration\n",
        "# - custom : uses separate submodules for each step of the algorithm\n",
        "#           it requires extra parameters to be set (default values for each\n",
        "#           parameter are the best based on the experiments ran)\n",
        "# - full : uses a breakdown of BERTopic to drill further down into the separate\n",
        "#          submodules for each step of the algorithm. (default values for each\n",
        "#          parameter are the best based on the experiments ran)\n",
        "model_complexity = 'default'\n",
        "top_n_words = 15\n",
        "n_gram_range = (1, 3)\n"
      ]
    },
    {
      "cell_type": "code",
      "execution_count": null,
      "metadata": {
        "id": "ATrfN29VE5KJ"
      },
      "outputs": [],
      "source": [
        "df = pd.read_csv(f'{dataset}.csv')"
      ]
    },
    {
      "cell_type": "markdown",
      "metadata": {
        "id": "-oHU9CbyP5Fy"
      },
      "source": [
        "Cleaning the dataset"
      ]
    },
    {
      "cell_type": "code",
      "execution_count": null,
      "metadata": {
        "id": "DY7o_KqBr1zH"
      },
      "outputs": [],
      "source": [
        "# cleaning method - emma\n",
        "def get_stopwords():\n",
        "    stop = set(stopwords.words('english'))\n",
        "    stop = set([s.replace(\"'\", \"\") for s in stop])\n",
        "\n",
        "    # Add years to prevent spikes\n",
        "    for year in range(1900, 2020):\n",
        "        stop.add(str(year))\n",
        "\n",
        "    # Add small numbers\n",
        "    for num in range(0, 100):\n",
        "        if len(str(num)) < 2:\n",
        "            stop.add(str(num))\n",
        "            num = '0' + str(num)\n",
        "\n",
        "        stop.add(str(num))\n",
        "\n",
        "    # Add these extra stopwords to the list\n",
        "    # TODO: Look through the corpus and decide which are\n",
        "    # extra stopwords needed for this specific domain\n",
        "    extra = [\n",
        "        'use', 'using', 'uses', 'used', 'based', 'including', 'include',\n",
        "        'approach', 'factors', 'business', 'risk', 'factors16',\n",
        "        'wa', 'ha', 'doe', 'item', '1a', 'factor', '1b', '1aitem', '10-k',\n",
        "        'item', '1arisk', 'factors11', '1arisk', 'factors10k', 'factorsk13', 'could',\n",
        "        'factorsk10', 'may', 'looking', 'forward', 'statement'\n",
        "    ]\n",
        "\n",
        "    for number in range(1, 300):\n",
        "        factor_string = 'factors'+str(number)\n",
        "        stop.add(factor_string)\n",
        "\n",
        "    for word in extra:\n",
        "        stop.add(word)\n",
        "\n",
        "    return stop\n"
      ]
    },
    {
      "cell_type": "code",
      "execution_count": null,
      "metadata": {
        "id": "FlrB9YWlpEjB"
      },
      "outputs": [],
      "source": [
        "# cleaning method - manual\n",
        "def get_stopwords():\n",
        "    stop = set(stopwords.words('english'))\n",
        "    stop = set([s.replace(\"'\", \"\") for s in stop])\n",
        "\n",
        "    # Add years to prevent spikes\n",
        "    for year in range(1900, 2020):\n",
        "        stop.add(str(year))\n",
        "\n",
        "    # Add small numbers\n",
        "    for num in range(0, 100):\n",
        "        if len(str(num)) < 2:\n",
        "            stop.add(str(num))\n",
        "            num = '0' + str(num)\n",
        "\n",
        "        stop.add(str(num))\n",
        "\n",
        "    # Add these extra stopwords to the list\n",
        "    # TODO: Look through the corpus and decide which are\n",
        "    # extra stopwords needed for this specific domain\n",
        "    extra = [\n",
        "        'use', 'using', 'uses', 'used', 'based', 'including', 'include',\n",
        "        'approach', 'factors', 'business', 'risk', 'factors16',\n",
        "        'wa', 'ha', 'doe', 'item', '1a', 'factor', '1b', '1aitem', '10-k',\n",
        "        'item', '1arisk', 'factors11', '1arisk', 'factors10k', 'factorsk13', 'could',\n",
        "        'factorsk10', 'may', 'looking', 'forward', 'statement'\n",
        "    ]\n",
        "\n",
        "    for number in range(1, 300):\n",
        "        factor_string = 'factors'+str(number)\n",
        "        stop.add(factor_string)\n",
        "\n",
        "    for word in extra:\n",
        "        stop.add(word)\n",
        "\n",
        "    return stop\n"
      ]
    },
    {
      "cell_type": "code",
      "execution_count": null,
      "metadata": {
        "id": "EiPs6RtdpTEX"
      },
      "outputs": [],
      "source": [
        "# cleaning method - auto"
      ]
    },
    {
      "cell_type": "code",
      "execution_count": null,
      "metadata": {
        "colab": {
          "base_uri": "https://localhost:8080/",
          "height": 81,
          "referenced_widgets": [
            "a3549628f2e141ffa270d81a963b7ae4",
            "7b74fdbdab4a4f49b71f40e7d7aad387",
            "937364f588cc45fcbd1ac5ad85c5fda7",
            "8850a13c22884d93863ef97667ede3c3",
            "2db404f7c3074134b1796eb2e243f37e",
            "29d4e4847c1e4c13b6d02d8484de5104",
            "dacc38680c3e46759109023ffaba74a7",
            "0584c95b01804ca181115153bc0f664d",
            "b0c7ebfbae504d009f45b719bf24071d",
            "002add361629433eb2c11fd717236185",
            "da9319509b984ffb9bf527a35ddd1f5c",
            "39023286bfd243389270c3849626d000",
            "cb4ab7de0897412f9d79cac2a68419ab",
            "227aef1a31bd474cbcb6c15e5db5808e",
            "b86ef7ed03434563b5f202a3c492a7e1",
            "68ebf1f5d6164539b4c2adc080060e99",
            "d5a5df010ab9437394a6ddf02cb5f597",
            "5f560b24de7a44bfb2a8f33c16b589bc",
            "ca0660a5d79c4e9596b3665361044d9a",
            "1a82c669c340421eae351a3cff70bb45",
            "2dc60619a7a749bfa13ad7e0b8fdafc4",
            "4c5dd9f52e544e8e98d53d5afc3efc01"
          ]
        },
        "id": "ik8de7uTreig",
        "outputId": "f666296d-e7d8-487d-ef70-1179b2e1de3e"
      },
      "outputs": [],
      "source": [
        "if cleaning_method == 'manual':\n",
        "    df['clean_text'] = df['text'].str.lower()\n",
        "    df['clean_text'] = df['clean_text'].swifter.apply(lambda x: ' '.join(\n",
        "        [word for word in text_to_word_sequence(x)]))\n",
        "    stop_words = get_stopwords()\n",
        "    df['clean_text'] = df['clean_text'].swifter.apply(lambda x: ' '.join(\n",
        "        [word for word in x.split() if word not in (stop_words)]))\n",
        "elif cleaning_method == 'emma':\n",
        "    print('Not implemented yet')\n",
        "else:\n",
        "    print('Not implemented yet')\n"
      ]
    },
    {
      "cell_type": "code",
      "execution_count": null,
      "metadata": {
        "id": "AVEp7EZ-E3lZ"
      },
      "outputs": [],
      "source": [
        "# Extracting the text with timestamps\n",
        "timestamps = df.year.to_list()\n",
        "text = df.clean_text.to_list()"
      ]
    },
    {
      "cell_type": "markdown",
      "metadata": {
        "id": "Smf7mB7rpz_I"
      },
      "source": [
        "Sentence embedding"
      ]
    },
    {
      "cell_type": "code",
      "execution_count": null,
      "metadata": {
        "colab": {
          "base_uri": "https://localhost:8080/",
          "height": 49,
          "referenced_widgets": [
            "7195e30de4c34743a554d3da0502f779",
            "980f34af61104d5b86056cc8326ca5dd",
            "596631911a3d423a83002a3d3f391063",
            "5969b67290074a44a2be4194187e1739",
            "102ea82cec774572bc17fc268884596e",
            "fcd6e1eedf1b4e1c8886b064e3d2241b",
            "4360fcf0f7424f6a9b075191ccefae32",
            "3faa1fc8f6c84cc88dbbc3f62c4d9777",
            "132710cc21dd44b28447ff61205ed09a",
            "33e905948a1c40b086b15e252cddff2e",
            "1703bed2886b4360b9e15f91b8574d9a"
          ]
        },
        "id": "SzvXX8kdE9Gy",
        "outputId": "fa659a93-4101-4b69-f04b-512d831e5bb3"
      },
      "outputs": [],
      "source": [
        "if embedding == 'sentence-transformers':\n",
        "    sentence_model = SentenceTransformer(\"all-mpnet-base-v2\")\n",
        "    embeddings = sentence_model.encode(text, show_progress_bar=True)\n",
        "elif embedding == 'flair':\n",
        "    print('Not implemented yet')\n",
        "elif embedding == 'spacy':\n",
        "    print('Not implemented yet')\n",
        "elif embedding == 'use':\n",
        "    embeddings = tensorflow_hub.load(\n",
        "        \"https://tfhub.dev/google/universal-sentence-encoder/4\")\n"
      ]
    },
    {
      "cell_type": "code",
      "execution_count": null,
      "metadata": {
        "colab": {
          "base_uri": "https://localhost:8080/"
        },
        "id": "T-8dExtzND2E",
        "outputId": "03f4df9d-fb8c-4766-eeb0-68e6551c8129"
      },
      "outputs": [],
      "source": [
        "if model_complexity == 'default':\n",
        "    topic_model = BERTopic(calculate_probabilities=True, language=\"english\",\n",
        "                           nr_topics=\"auto\")\n",
        "elif model_complexity == 'custom':\n",
        "    topic_model = BERTopic(verbose=True, n_gram_range=n_gram_range,\n",
        "                           calculate_probabilities=True, language=\"english\",\n",
        "                           nr_topics=\"auto\")\n",
        "else:\n",
        "    umap_model = UMAP(n_neighbors=15, n_components=10, metric='cosine',\n",
        "                      low_memory=False)\n",
        "    hdbscan_model = HDBSCAN(min_cluster_size=10, metric='euclidean',\n",
        "                            prediction_data=True)\n",
        "    topic_model = BERTopic(verbose=True, n_gram_range=n_gram_range,\n",
        "                           calculate_probabilities=True,\n",
        "                           nr_topics=\"auto\", umap_model=umap_model,\n",
        "                           hdbscan_model=hdbscan_model)\n",
        "topics, probs = topic_model.fit_transform(text, embeddings=embeddings)\n"
      ]
    },
    {
      "cell_type": "code",
      "execution_count": null,
      "metadata": {
        "id": "xtwbr8KJNBoo"
      },
      "outputs": [],
      "source": [
        "topic_model.save(f\"BERTopic_model_{parameters_str}\")\n"
      ]
    },
    {
      "cell_type": "code",
      "execution_count": null,
      "metadata": {
        "id": "RAxBzlkVE_cH"
      },
      "outputs": [],
      "source": [
        "# Explore a topic\n",
        "topic_model.get_topic(21)"
      ]
    },
    {
      "cell_type": "code",
      "execution_count": null,
      "metadata": {
        "id": "vCTo9NgZFBJP"
      },
      "outputs": [],
      "source": [
        "# Overview of the topics\n",
        "topic_info = topic_model.get_topic_info()\n",
        "topic_info"
      ]
    },
    {
      "cell_type": "code",
      "execution_count": null,
      "metadata": {
        "id": "Rx1WL1QuFCPE"
      },
      "outputs": [],
      "source": [
        "topic_model.visualize_hierarchy()"
      ]
    },
    {
      "cell_type": "code",
      "execution_count": null,
      "metadata": {
        "id": "-gnAFtfUFCvJ"
      },
      "outputs": [],
      "source": [
        "topic_model.visualize_barchart()"
      ]
    },
    {
      "cell_type": "code",
      "execution_count": null,
      "metadata": {
        "id": "5ak4xjCHFFv0"
      },
      "outputs": [],
      "source": [
        "topic_model.visualize_heatmap()"
      ]
    },
    {
      "cell_type": "code",
      "execution_count": null,
      "metadata": {
        "id": "jkNgpFYVFG0q"
      },
      "outputs": [],
      "source": [
        "topic_model.visualize_topics()"
      ]
    },
    {
      "cell_type": "markdown",
      "metadata": {
        "id": "IKWheuFOMQBp"
      },
      "source": [
        "DTM"
      ]
    },
    {
      "cell_type": "code",
      "execution_count": null,
      "metadata": {
        "id": "y8D7isawFIOz"
      },
      "outputs": [],
      "source": [
        "# Running DTM on the entire dataset\n",
        "topics_over_time = topic_model.topics_over_time(text, topics, timestamps)"
      ]
    },
    {
      "cell_type": "code",
      "execution_count": null,
      "metadata": {
        "id": "Xw091rocQUni"
      },
      "outputs": [],
      "source": [
        "topics_over_time.to_csv(f'DTM_{parameters_str}.csv')"
      ]
    },
    {
      "cell_type": "code",
      "execution_count": null,
      "metadata": {
        "id": "qucSJqqRFJdJ"
      },
      "outputs": [],
      "source": [
        "topics_over_time=topics_over_time[topics_over_time['Topic'] != -1]"
      ]
    },
    {
      "cell_type": "code",
      "execution_count": null,
      "metadata": {
        "id": "Lkp5XpUCFKc9"
      },
      "outputs": [],
      "source": [
        "# First 10 topics bases on frequency\n",
        "topics_over_time.head(10)"
      ]
    },
    {
      "cell_type": "code",
      "execution_count": null,
      "metadata": {
        "id": "S7dBW8SdFLgv"
      },
      "outputs": [],
      "source": [
        "topic_model.visualize_topics_over_time(topics_over_time,top_n_topics=10)"
      ]
    },
    {
      "cell_type": "code",
      "execution_count": null,
      "metadata": {
        "id": "kdHAW6FzFMz1"
      },
      "outputs": [],
      "source": [
        "topic_model.visualize_topics_over_time(topics_over_time)"
      ]
    },
    {
      "cell_type": "markdown",
      "metadata": {
        "id": "u1xbIaAmKO4l"
      },
      "source": [
        "YoY Changes in importance of topics extracted"
      ]
    },
    {
      "cell_type": "code",
      "execution_count": null,
      "metadata": {
        "id": "wQacIlrzFNgH"
      },
      "outputs": [],
      "source": [
        "topic_evolution = pd.DataFrame()\n",
        "timestamps_set = sorted(set(timestamps))\n",
        "for timestamp in timestamps_set:\n",
        "    temp_df = topics_over_time[topics_over_time['Timestamp'] == timestamp]\n",
        "    if topic_evolution.shape[0] == 0:\n",
        "        temp_df = temp_df[['Topic', 'Name', 'Words', 'Frequency']]\n",
        "        temp_df = temp_df.rename(columns={'Frequency': str(timestamp)})\n",
        "        topic_evolution = deepcopy(temp_df)\n",
        "    else:\n",
        "        temp_df = temp_df[['Topic', 'Frequency']]\n",
        "        temp_df = temp_df.rename(columns={'Frequency': str(timestamp)})\n",
        "        topic_evolution = topic_evolution.merge(temp_df, on='Topic', how='outer')\n"
      ]
    },
    {
      "cell_type": "code",
      "execution_count": null,
      "metadata": {
        "id": "mIGkv437FQGj"
      },
      "outputs": [],
      "source": [
        "topic_evolution = topic_evolution.fillna(0)"
      ]
    },
    {
      "cell_type": "code",
      "execution_count": null,
      "metadata": {
        "id": "NQ1S4iUrFRvx"
      },
      "outputs": [],
      "source": [
        "topic_evolution.head(10)"
      ]
    },
    {
      "cell_type": "code",
      "execution_count": null,
      "metadata": {
        "id": "-PumDlncFSX9"
      },
      "outputs": [],
      "source": [
        "columns_to_process = topic_evolution.columns.to_list()\n",
        "columns_to_process.remove('Topic')\n",
        "columns_to_process.remove('Name')\n",
        "columns_to_process.remove('Words')\n",
        "columns_to_process\n"
      ]
    },
    {
      "cell_type": "code",
      "execution_count": null,
      "metadata": {
        "id": "fPNrumI-FTq_"
      },
      "outputs": [],
      "source": [
        "for index in range(0, len(columns_to_process)-1):\n",
        "    new_column = columns_to_process[index+1].split('-')[0] + '-' + columns_to_process[index].split('-')[0]\n",
        "    topic_evolution[new_column] = topic_evolution[columns_to_process[index+1]\n",
        "                                                  ] - topic_evolution[columns_to_process[index]]\n",
        "topic_evolution.head(10)\n"
      ]
    },
    {
      "cell_type": "code",
      "execution_count": null,
      "metadata": {
        "id": "WeKHQ4cvFVr_"
      },
      "outputs": [],
      "source": [
        "topics = topics_over_time.Topic.unique()\n",
        "change_in_topics = pd.DataFrame()\n",
        "for topic in topics:\n",
        "    topic_df = topics_over_time[topics_over_time['Topic'] == topic]\n",
        "    topic_df = topic_df.sort_values('Timestamp')\n",
        "    topic_df['Previous_Frequency'] = topic_df.Frequency.shift(1)\n",
        "    topic_df['Change'] = topic_df['Frequency'] - topic_df['Previous_Frequency']\n",
        "    max_freq = max(topic_df['Frequency'])\n",
        "    topic_df['%_Change'] = topic_df['Change']*100/max_freq\n",
        "    change_in_topics = change_in_topics.append(topic_df, ignore_index=True)\n",
        "change_in_topics = change_in_topics[change_in_topics['Topic'] != -1]\n",
        "change_in_topics = change_in_topics.dropna()\n",
        "change_in_topics = change_in_topics.groupby(by=['Topic', 'Timestamp']).agg({\n",
        "    'Frequency': 'sum',\n",
        "    'Name': 'count',\n",
        "    'Previous_Frequency': 'sum',\n",
        "    'Change': 'sum',\n",
        "    '%_Change': 'mean',\n",
        "    'Words': ' '.join\n",
        "}).reset_index()\n",
        "change_in_topics.head(10)\n"
      ]
    },
    {
      "cell_type": "code",
      "execution_count": null,
      "metadata": {
        "id": "rq7ZrZTsFXWB"
      },
      "outputs": [],
      "source": [
        "fig = px.line(change_in_topics, x=\"Timestamp\", y=\"Change\", color='Topic', title='YOY change in topic frequency')\n",
        "fig.show()\n"
      ]
    }
  ],
  "metadata": {
    "accelerator": "GPU",
    "colab": {
      "name": "BERTopic Model.ipynb",
      "provenance": []
    },
    "kernelspec": {
      "display_name": "Python 3",
      "name": "python3"
    },
    "language_info": {
      "codemirror_mode": {
        "name": "ipython",
        "version": 3
      },
      "file_extension": ".py",
      "mimetype": "text/x-python",
      "name": "python",
      "nbconvert_exporter": "python",
      "pygments_lexer": "ipython3",
      "version": "3.9.10"
    },
    "widgets": {
      "application/vnd.jupyter.widget-state+json": {
        "002add361629433eb2c11fd717236185": {
          "model_module": "@jupyter-widgets/controls",
          "model_module_version": "1.5.0",
          "model_name": "DescriptionStyleModel",
          "state": {
            "_model_module": "@jupyter-widgets/controls",
            "_model_module_version": "1.5.0",
            "_model_name": "DescriptionStyleModel",
            "_view_count": null,
            "_view_module": "@jupyter-widgets/base",
            "_view_module_version": "1.2.0",
            "_view_name": "StyleView",
            "description_width": ""
          }
        },
        "0584c95b01804ca181115153bc0f664d": {
          "model_module": "@jupyter-widgets/controls",
          "model_module_version": "1.5.0",
          "model_name": "ProgressStyleModel",
          "state": {
            "_model_module": "@jupyter-widgets/controls",
            "_model_module_version": "1.5.0",
            "_model_name": "ProgressStyleModel",
            "_view_count": null,
            "_view_module": "@jupyter-widgets/base",
            "_view_module_version": "1.2.0",
            "_view_name": "StyleView",
            "bar_color": null,
            "description_width": ""
          }
        },
        "102ea82cec774572bc17fc268884596e": {
          "model_module": "@jupyter-widgets/controls",
          "model_module_version": "1.5.0",
          "model_name": "HTMLModel",
          "state": {
            "_dom_classes": [],
            "_model_module": "@jupyter-widgets/controls",
            "_model_module_version": "1.5.0",
            "_model_name": "HTMLModel",
            "_view_count": null,
            "_view_module": "@jupyter-widgets/controls",
            "_view_module_version": "1.5.0",
            "_view_name": "HTMLView",
            "description": "",
            "description_tooltip": null,
            "layout": "IPY_MODEL_1703bed2886b4360b9e15f91b8574d9a",
            "placeholder": "​",
            "style": "IPY_MODEL_33e905948a1c40b086b15e252cddff2e",
            "value": " 540/540 [20:43&lt;00:00, 12.32it/s]"
          }
        },
        "132710cc21dd44b28447ff61205ed09a": {
          "model_module": "@jupyter-widgets/base",
          "model_module_version": "1.2.0",
          "model_name": "LayoutModel",
          "state": {
            "_model_module": "@jupyter-widgets/base",
            "_model_module_version": "1.2.0",
            "_model_name": "LayoutModel",
            "_view_count": null,
            "_view_module": "@jupyter-widgets/base",
            "_view_module_version": "1.2.0",
            "_view_name": "LayoutView",
            "align_content": null,
            "align_items": null,
            "align_self": null,
            "border": null,
            "bottom": null,
            "display": null,
            "flex": null,
            "flex_flow": null,
            "grid_area": null,
            "grid_auto_columns": null,
            "grid_auto_flow": null,
            "grid_auto_rows": null,
            "grid_column": null,
            "grid_gap": null,
            "grid_row": null,
            "grid_template_areas": null,
            "grid_template_columns": null,
            "grid_template_rows": null,
            "height": null,
            "justify_content": null,
            "justify_items": null,
            "left": null,
            "margin": null,
            "max_height": null,
            "max_width": null,
            "min_height": null,
            "min_width": null,
            "object_fit": null,
            "object_position": null,
            "order": null,
            "overflow": null,
            "overflow_x": null,
            "overflow_y": null,
            "padding": null,
            "right": null,
            "top": null,
            "visibility": null,
            "width": null
          }
        },
        "1703bed2886b4360b9e15f91b8574d9a": {
          "model_module": "@jupyter-widgets/base",
          "model_module_version": "1.2.0",
          "model_name": "LayoutModel",
          "state": {
            "_model_module": "@jupyter-widgets/base",
            "_model_module_version": "1.2.0",
            "_model_name": "LayoutModel",
            "_view_count": null,
            "_view_module": "@jupyter-widgets/base",
            "_view_module_version": "1.2.0",
            "_view_name": "LayoutView",
            "align_content": null,
            "align_items": null,
            "align_self": null,
            "border": null,
            "bottom": null,
            "display": null,
            "flex": null,
            "flex_flow": null,
            "grid_area": null,
            "grid_auto_columns": null,
            "grid_auto_flow": null,
            "grid_auto_rows": null,
            "grid_column": null,
            "grid_gap": null,
            "grid_row": null,
            "grid_template_areas": null,
            "grid_template_columns": null,
            "grid_template_rows": null,
            "height": null,
            "justify_content": null,
            "justify_items": null,
            "left": null,
            "margin": null,
            "max_height": null,
            "max_width": null,
            "min_height": null,
            "min_width": null,
            "object_fit": null,
            "object_position": null,
            "order": null,
            "overflow": null,
            "overflow_x": null,
            "overflow_y": null,
            "padding": null,
            "right": null,
            "top": null,
            "visibility": null,
            "width": null
          }
        },
        "1a82c669c340421eae351a3cff70bb45": {
          "model_module": "@jupyter-widgets/base",
          "model_module_version": "1.2.0",
          "model_name": "LayoutModel",
          "state": {
            "_model_module": "@jupyter-widgets/base",
            "_model_module_version": "1.2.0",
            "_model_name": "LayoutModel",
            "_view_count": null,
            "_view_module": "@jupyter-widgets/base",
            "_view_module_version": "1.2.0",
            "_view_name": "LayoutView",
            "align_content": null,
            "align_items": null,
            "align_self": null,
            "border": null,
            "bottom": null,
            "display": null,
            "flex": null,
            "flex_flow": null,
            "grid_area": null,
            "grid_auto_columns": null,
            "grid_auto_flow": null,
            "grid_auto_rows": null,
            "grid_column": null,
            "grid_gap": null,
            "grid_row": null,
            "grid_template_areas": null,
            "grid_template_columns": null,
            "grid_template_rows": null,
            "height": null,
            "justify_content": null,
            "justify_items": null,
            "left": null,
            "margin": null,
            "max_height": null,
            "max_width": null,
            "min_height": null,
            "min_width": null,
            "object_fit": null,
            "object_position": null,
            "order": null,
            "overflow": null,
            "overflow_x": null,
            "overflow_y": null,
            "padding": null,
            "right": null,
            "top": null,
            "visibility": null,
            "width": null
          }
        },
        "227aef1a31bd474cbcb6c15e5db5808e": {
          "model_module": "@jupyter-widgets/controls",
          "model_module_version": "1.5.0",
          "model_name": "HTMLModel",
          "state": {
            "_dom_classes": [],
            "_model_module": "@jupyter-widgets/controls",
            "_model_module_version": "1.5.0",
            "_model_name": "HTMLModel",
            "_view_count": null,
            "_view_module": "@jupyter-widgets/controls",
            "_view_module_version": "1.5.0",
            "_view_name": "HTMLView",
            "description": "",
            "description_tooltip": null,
            "layout": "IPY_MODEL_5f560b24de7a44bfb2a8f33c16b589bc",
            "placeholder": "​",
            "style": "IPY_MODEL_d5a5df010ab9437394a6ddf02cb5f597",
            "value": "Pandas Apply: 100%"
          }
        },
        "29d4e4847c1e4c13b6d02d8484de5104": {
          "model_module": "@jupyter-widgets/controls",
          "model_module_version": "1.5.0",
          "model_name": "DescriptionStyleModel",
          "state": {
            "_model_module": "@jupyter-widgets/controls",
            "_model_module_version": "1.5.0",
            "_model_name": "DescriptionStyleModel",
            "_view_count": null,
            "_view_module": "@jupyter-widgets/base",
            "_view_module_version": "1.2.0",
            "_view_name": "StyleView",
            "description_width": ""
          }
        },
        "2db404f7c3074134b1796eb2e243f37e": {
          "model_module": "@jupyter-widgets/controls",
          "model_module_version": "1.5.0",
          "model_name": "HTMLModel",
          "state": {
            "_dom_classes": [],
            "_model_module": "@jupyter-widgets/controls",
            "_model_module_version": "1.5.0",
            "_model_name": "HTMLModel",
            "_view_count": null,
            "_view_module": "@jupyter-widgets/controls",
            "_view_module_version": "1.5.0",
            "_view_name": "HTMLView",
            "description": "",
            "description_tooltip": null,
            "layout": "IPY_MODEL_da9319509b984ffb9bf527a35ddd1f5c",
            "placeholder": "​",
            "style": "IPY_MODEL_002add361629433eb2c11fd717236185",
            "value": " 17276/17276 [00:37&lt;00:00, 440.54it/s]"
          }
        },
        "2dc60619a7a749bfa13ad7e0b8fdafc4": {
          "model_module": "@jupyter-widgets/controls",
          "model_module_version": "1.5.0",
          "model_name": "DescriptionStyleModel",
          "state": {
            "_model_module": "@jupyter-widgets/controls",
            "_model_module_version": "1.5.0",
            "_model_name": "DescriptionStyleModel",
            "_view_count": null,
            "_view_module": "@jupyter-widgets/base",
            "_view_module_version": "1.2.0",
            "_view_name": "StyleView",
            "description_width": ""
          }
        },
        "33e905948a1c40b086b15e252cddff2e": {
          "model_module": "@jupyter-widgets/controls",
          "model_module_version": "1.5.0",
          "model_name": "DescriptionStyleModel",
          "state": {
            "_model_module": "@jupyter-widgets/controls",
            "_model_module_version": "1.5.0",
            "_model_name": "DescriptionStyleModel",
            "_view_count": null,
            "_view_module": "@jupyter-widgets/base",
            "_view_module_version": "1.2.0",
            "_view_name": "StyleView",
            "description_width": ""
          }
        },
        "39023286bfd243389270c3849626d000": {
          "model_module": "@jupyter-widgets/controls",
          "model_module_version": "1.5.0",
          "model_name": "HBoxModel",
          "state": {
            "_dom_classes": [],
            "_model_module": "@jupyter-widgets/controls",
            "_model_module_version": "1.5.0",
            "_model_name": "HBoxModel",
            "_view_count": null,
            "_view_module": "@jupyter-widgets/controls",
            "_view_module_version": "1.5.0",
            "_view_name": "HBoxView",
            "box_style": "",
            "children": [
              "IPY_MODEL_227aef1a31bd474cbcb6c15e5db5808e",
              "IPY_MODEL_b86ef7ed03434563b5f202a3c492a7e1",
              "IPY_MODEL_68ebf1f5d6164539b4c2adc080060e99"
            ],
            "layout": "IPY_MODEL_cb4ab7de0897412f9d79cac2a68419ab"
          }
        },
        "3faa1fc8f6c84cc88dbbc3f62c4d9777": {
          "model_module": "@jupyter-widgets/controls",
          "model_module_version": "1.5.0",
          "model_name": "ProgressStyleModel",
          "state": {
            "_model_module": "@jupyter-widgets/controls",
            "_model_module_version": "1.5.0",
            "_model_name": "ProgressStyleModel",
            "_view_count": null,
            "_view_module": "@jupyter-widgets/base",
            "_view_module_version": "1.2.0",
            "_view_name": "StyleView",
            "bar_color": null,
            "description_width": ""
          }
        },
        "4360fcf0f7424f6a9b075191ccefae32": {
          "model_module": "@jupyter-widgets/base",
          "model_module_version": "1.2.0",
          "model_name": "LayoutModel",
          "state": {
            "_model_module": "@jupyter-widgets/base",
            "_model_module_version": "1.2.0",
            "_model_name": "LayoutModel",
            "_view_count": null,
            "_view_module": "@jupyter-widgets/base",
            "_view_module_version": "1.2.0",
            "_view_name": "LayoutView",
            "align_content": null,
            "align_items": null,
            "align_self": null,
            "border": null,
            "bottom": null,
            "display": null,
            "flex": null,
            "flex_flow": null,
            "grid_area": null,
            "grid_auto_columns": null,
            "grid_auto_flow": null,
            "grid_auto_rows": null,
            "grid_column": null,
            "grid_gap": null,
            "grid_row": null,
            "grid_template_areas": null,
            "grid_template_columns": null,
            "grid_template_rows": null,
            "height": null,
            "justify_content": null,
            "justify_items": null,
            "left": null,
            "margin": null,
            "max_height": null,
            "max_width": null,
            "min_height": null,
            "min_width": null,
            "object_fit": null,
            "object_position": null,
            "order": null,
            "overflow": null,
            "overflow_x": null,
            "overflow_y": null,
            "padding": null,
            "right": null,
            "top": null,
            "visibility": null,
            "width": null
          }
        },
        "4c5dd9f52e544e8e98d53d5afc3efc01": {
          "model_module": "@jupyter-widgets/base",
          "model_module_version": "1.2.0",
          "model_name": "LayoutModel",
          "state": {
            "_model_module": "@jupyter-widgets/base",
            "_model_module_version": "1.2.0",
            "_model_name": "LayoutModel",
            "_view_count": null,
            "_view_module": "@jupyter-widgets/base",
            "_view_module_version": "1.2.0",
            "_view_name": "LayoutView",
            "align_content": null,
            "align_items": null,
            "align_self": null,
            "border": null,
            "bottom": null,
            "display": null,
            "flex": null,
            "flex_flow": null,
            "grid_area": null,
            "grid_auto_columns": null,
            "grid_auto_flow": null,
            "grid_auto_rows": null,
            "grid_column": null,
            "grid_gap": null,
            "grid_row": null,
            "grid_template_areas": null,
            "grid_template_columns": null,
            "grid_template_rows": null,
            "height": null,
            "justify_content": null,
            "justify_items": null,
            "left": null,
            "margin": null,
            "max_height": null,
            "max_width": null,
            "min_height": null,
            "min_width": null,
            "object_fit": null,
            "object_position": null,
            "order": null,
            "overflow": null,
            "overflow_x": null,
            "overflow_y": null,
            "padding": null,
            "right": null,
            "top": null,
            "visibility": null,
            "width": null
          }
        },
        "596631911a3d423a83002a3d3f391063": {
          "model_module": "@jupyter-widgets/controls",
          "model_module_version": "1.5.0",
          "model_name": "HTMLModel",
          "state": {
            "_dom_classes": [],
            "_model_module": "@jupyter-widgets/controls",
            "_model_module_version": "1.5.0",
            "_model_name": "HTMLModel",
            "_view_count": null,
            "_view_module": "@jupyter-widgets/controls",
            "_view_module_version": "1.5.0",
            "_view_name": "HTMLView",
            "description": "",
            "description_tooltip": null,
            "layout": "IPY_MODEL_4360fcf0f7424f6a9b075191ccefae32",
            "placeholder": "​",
            "style": "IPY_MODEL_fcd6e1eedf1b4e1c8886b064e3d2241b",
            "value": "Batches: 100%"
          }
        },
        "5969b67290074a44a2be4194187e1739": {
          "model_module": "@jupyter-widgets/controls",
          "model_module_version": "1.5.0",
          "model_name": "FloatProgressModel",
          "state": {
            "_dom_classes": [],
            "_model_module": "@jupyter-widgets/controls",
            "_model_module_version": "1.5.0",
            "_model_name": "FloatProgressModel",
            "_view_count": null,
            "_view_module": "@jupyter-widgets/controls",
            "_view_module_version": "1.5.0",
            "_view_name": "ProgressView",
            "bar_style": "success",
            "description": "",
            "description_tooltip": null,
            "layout": "IPY_MODEL_132710cc21dd44b28447ff61205ed09a",
            "max": 540,
            "min": 0,
            "orientation": "horizontal",
            "style": "IPY_MODEL_3faa1fc8f6c84cc88dbbc3f62c4d9777",
            "value": 540
          }
        },
        "5f560b24de7a44bfb2a8f33c16b589bc": {
          "model_module": "@jupyter-widgets/base",
          "model_module_version": "1.2.0",
          "model_name": "LayoutModel",
          "state": {
            "_model_module": "@jupyter-widgets/base",
            "_model_module_version": "1.2.0",
            "_model_name": "LayoutModel",
            "_view_count": null,
            "_view_module": "@jupyter-widgets/base",
            "_view_module_version": "1.2.0",
            "_view_name": "LayoutView",
            "align_content": null,
            "align_items": null,
            "align_self": null,
            "border": null,
            "bottom": null,
            "display": null,
            "flex": null,
            "flex_flow": null,
            "grid_area": null,
            "grid_auto_columns": null,
            "grid_auto_flow": null,
            "grid_auto_rows": null,
            "grid_column": null,
            "grid_gap": null,
            "grid_row": null,
            "grid_template_areas": null,
            "grid_template_columns": null,
            "grid_template_rows": null,
            "height": null,
            "justify_content": null,
            "justify_items": null,
            "left": null,
            "margin": null,
            "max_height": null,
            "max_width": null,
            "min_height": null,
            "min_width": null,
            "object_fit": null,
            "object_position": null,
            "order": null,
            "overflow": null,
            "overflow_x": null,
            "overflow_y": null,
            "padding": null,
            "right": null,
            "top": null,
            "visibility": null,
            "width": null
          }
        },
        "68ebf1f5d6164539b4c2adc080060e99": {
          "model_module": "@jupyter-widgets/controls",
          "model_module_version": "1.5.0",
          "model_name": "HTMLModel",
          "state": {
            "_dom_classes": [],
            "_model_module": "@jupyter-widgets/controls",
            "_model_module_version": "1.5.0",
            "_model_name": "HTMLModel",
            "_view_count": null,
            "_view_module": "@jupyter-widgets/controls",
            "_view_module_version": "1.5.0",
            "_view_name": "HTMLView",
            "description": "",
            "description_tooltip": null,
            "layout": "IPY_MODEL_4c5dd9f52e544e8e98d53d5afc3efc01",
            "placeholder": "​",
            "style": "IPY_MODEL_2dc60619a7a749bfa13ad7e0b8fdafc4",
            "value": " 17276/17276 [00:40&lt;00:00, 377.64it/s]"
          }
        },
        "7195e30de4c34743a554d3da0502f779": {
          "model_module": "@jupyter-widgets/controls",
          "model_module_version": "1.5.0",
          "model_name": "HBoxModel",
          "state": {
            "_dom_classes": [],
            "_model_module": "@jupyter-widgets/controls",
            "_model_module_version": "1.5.0",
            "_model_name": "HBoxModel",
            "_view_count": null,
            "_view_module": "@jupyter-widgets/controls",
            "_view_module_version": "1.5.0",
            "_view_name": "HBoxView",
            "box_style": "",
            "children": [
              "IPY_MODEL_596631911a3d423a83002a3d3f391063",
              "IPY_MODEL_5969b67290074a44a2be4194187e1739",
              "IPY_MODEL_102ea82cec774572bc17fc268884596e"
            ],
            "layout": "IPY_MODEL_980f34af61104d5b86056cc8326ca5dd"
          }
        },
        "7b74fdbdab4a4f49b71f40e7d7aad387": {
          "model_module": "@jupyter-widgets/base",
          "model_module_version": "1.2.0",
          "model_name": "LayoutModel",
          "state": {
            "_model_module": "@jupyter-widgets/base",
            "_model_module_version": "1.2.0",
            "_model_name": "LayoutModel",
            "_view_count": null,
            "_view_module": "@jupyter-widgets/base",
            "_view_module_version": "1.2.0",
            "_view_name": "LayoutView",
            "align_content": null,
            "align_items": null,
            "align_self": null,
            "border": null,
            "bottom": null,
            "display": null,
            "flex": null,
            "flex_flow": null,
            "grid_area": null,
            "grid_auto_columns": null,
            "grid_auto_flow": null,
            "grid_auto_rows": null,
            "grid_column": null,
            "grid_gap": null,
            "grid_row": null,
            "grid_template_areas": null,
            "grid_template_columns": null,
            "grid_template_rows": null,
            "height": null,
            "justify_content": null,
            "justify_items": null,
            "left": null,
            "margin": null,
            "max_height": null,
            "max_width": null,
            "min_height": null,
            "min_width": null,
            "object_fit": null,
            "object_position": null,
            "order": null,
            "overflow": null,
            "overflow_x": null,
            "overflow_y": null,
            "padding": null,
            "right": null,
            "top": null,
            "visibility": null,
            "width": null
          }
        },
        "8850a13c22884d93863ef97667ede3c3": {
          "model_module": "@jupyter-widgets/controls",
          "model_module_version": "1.5.0",
          "model_name": "FloatProgressModel",
          "state": {
            "_dom_classes": [],
            "_model_module": "@jupyter-widgets/controls",
            "_model_module_version": "1.5.0",
            "_model_name": "FloatProgressModel",
            "_view_count": null,
            "_view_module": "@jupyter-widgets/controls",
            "_view_module_version": "1.5.0",
            "_view_name": "ProgressView",
            "bar_style": "success",
            "description": "",
            "description_tooltip": null,
            "layout": "IPY_MODEL_b0c7ebfbae504d009f45b719bf24071d",
            "max": 17276,
            "min": 0,
            "orientation": "horizontal",
            "style": "IPY_MODEL_0584c95b01804ca181115153bc0f664d",
            "value": 17276
          }
        },
        "937364f588cc45fcbd1ac5ad85c5fda7": {
          "model_module": "@jupyter-widgets/controls",
          "model_module_version": "1.5.0",
          "model_name": "HTMLModel",
          "state": {
            "_dom_classes": [],
            "_model_module": "@jupyter-widgets/controls",
            "_model_module_version": "1.5.0",
            "_model_name": "HTMLModel",
            "_view_count": null,
            "_view_module": "@jupyter-widgets/controls",
            "_view_module_version": "1.5.0",
            "_view_name": "HTMLView",
            "description": "",
            "description_tooltip": null,
            "layout": "IPY_MODEL_dacc38680c3e46759109023ffaba74a7",
            "placeholder": "​",
            "style": "IPY_MODEL_29d4e4847c1e4c13b6d02d8484de5104",
            "value": "Pandas Apply: 100%"
          }
        },
        "980f34af61104d5b86056cc8326ca5dd": {
          "model_module": "@jupyter-widgets/base",
          "model_module_version": "1.2.0",
          "model_name": "LayoutModel",
          "state": {
            "_model_module": "@jupyter-widgets/base",
            "_model_module_version": "1.2.0",
            "_model_name": "LayoutModel",
            "_view_count": null,
            "_view_module": "@jupyter-widgets/base",
            "_view_module_version": "1.2.0",
            "_view_name": "LayoutView",
            "align_content": null,
            "align_items": null,
            "align_self": null,
            "border": null,
            "bottom": null,
            "display": null,
            "flex": null,
            "flex_flow": null,
            "grid_area": null,
            "grid_auto_columns": null,
            "grid_auto_flow": null,
            "grid_auto_rows": null,
            "grid_column": null,
            "grid_gap": null,
            "grid_row": null,
            "grid_template_areas": null,
            "grid_template_columns": null,
            "grid_template_rows": null,
            "height": null,
            "justify_content": null,
            "justify_items": null,
            "left": null,
            "margin": null,
            "max_height": null,
            "max_width": null,
            "min_height": null,
            "min_width": null,
            "object_fit": null,
            "object_position": null,
            "order": null,
            "overflow": null,
            "overflow_x": null,
            "overflow_y": null,
            "padding": null,
            "right": null,
            "top": null,
            "visibility": null,
            "width": null
          }
        },
        "a3549628f2e141ffa270d81a963b7ae4": {
          "model_module": "@jupyter-widgets/controls",
          "model_module_version": "1.5.0",
          "model_name": "HBoxModel",
          "state": {
            "_dom_classes": [],
            "_model_module": "@jupyter-widgets/controls",
            "_model_module_version": "1.5.0",
            "_model_name": "HBoxModel",
            "_view_count": null,
            "_view_module": "@jupyter-widgets/controls",
            "_view_module_version": "1.5.0",
            "_view_name": "HBoxView",
            "box_style": "",
            "children": [
              "IPY_MODEL_937364f588cc45fcbd1ac5ad85c5fda7",
              "IPY_MODEL_8850a13c22884d93863ef97667ede3c3",
              "IPY_MODEL_2db404f7c3074134b1796eb2e243f37e"
            ],
            "layout": "IPY_MODEL_7b74fdbdab4a4f49b71f40e7d7aad387"
          }
        },
        "b0c7ebfbae504d009f45b719bf24071d": {
          "model_module": "@jupyter-widgets/base",
          "model_module_version": "1.2.0",
          "model_name": "LayoutModel",
          "state": {
            "_model_module": "@jupyter-widgets/base",
            "_model_module_version": "1.2.0",
            "_model_name": "LayoutModel",
            "_view_count": null,
            "_view_module": "@jupyter-widgets/base",
            "_view_module_version": "1.2.0",
            "_view_name": "LayoutView",
            "align_content": null,
            "align_items": null,
            "align_self": null,
            "border": null,
            "bottom": null,
            "display": null,
            "flex": null,
            "flex_flow": null,
            "grid_area": null,
            "grid_auto_columns": null,
            "grid_auto_flow": null,
            "grid_auto_rows": null,
            "grid_column": null,
            "grid_gap": null,
            "grid_row": null,
            "grid_template_areas": null,
            "grid_template_columns": null,
            "grid_template_rows": null,
            "height": null,
            "justify_content": null,
            "justify_items": null,
            "left": null,
            "margin": null,
            "max_height": null,
            "max_width": null,
            "min_height": null,
            "min_width": null,
            "object_fit": null,
            "object_position": null,
            "order": null,
            "overflow": null,
            "overflow_x": null,
            "overflow_y": null,
            "padding": null,
            "right": null,
            "top": null,
            "visibility": null,
            "width": null
          }
        },
        "b86ef7ed03434563b5f202a3c492a7e1": {
          "model_module": "@jupyter-widgets/controls",
          "model_module_version": "1.5.0",
          "model_name": "FloatProgressModel",
          "state": {
            "_dom_classes": [],
            "_model_module": "@jupyter-widgets/controls",
            "_model_module_version": "1.5.0",
            "_model_name": "FloatProgressModel",
            "_view_count": null,
            "_view_module": "@jupyter-widgets/controls",
            "_view_module_version": "1.5.0",
            "_view_name": "ProgressView",
            "bar_style": "success",
            "description": "",
            "description_tooltip": null,
            "layout": "IPY_MODEL_1a82c669c340421eae351a3cff70bb45",
            "max": 17276,
            "min": 0,
            "orientation": "horizontal",
            "style": "IPY_MODEL_ca0660a5d79c4e9596b3665361044d9a",
            "value": 17276
          }
        },
        "ca0660a5d79c4e9596b3665361044d9a": {
          "model_module": "@jupyter-widgets/controls",
          "model_module_version": "1.5.0",
          "model_name": "ProgressStyleModel",
          "state": {
            "_model_module": "@jupyter-widgets/controls",
            "_model_module_version": "1.5.0",
            "_model_name": "ProgressStyleModel",
            "_view_count": null,
            "_view_module": "@jupyter-widgets/base",
            "_view_module_version": "1.2.0",
            "_view_name": "StyleView",
            "bar_color": null,
            "description_width": ""
          }
        },
        "cb4ab7de0897412f9d79cac2a68419ab": {
          "model_module": "@jupyter-widgets/base",
          "model_module_version": "1.2.0",
          "model_name": "LayoutModel",
          "state": {
            "_model_module": "@jupyter-widgets/base",
            "_model_module_version": "1.2.0",
            "_model_name": "LayoutModel",
            "_view_count": null,
            "_view_module": "@jupyter-widgets/base",
            "_view_module_version": "1.2.0",
            "_view_name": "LayoutView",
            "align_content": null,
            "align_items": null,
            "align_self": null,
            "border": null,
            "bottom": null,
            "display": null,
            "flex": null,
            "flex_flow": null,
            "grid_area": null,
            "grid_auto_columns": null,
            "grid_auto_flow": null,
            "grid_auto_rows": null,
            "grid_column": null,
            "grid_gap": null,
            "grid_row": null,
            "grid_template_areas": null,
            "grid_template_columns": null,
            "grid_template_rows": null,
            "height": null,
            "justify_content": null,
            "justify_items": null,
            "left": null,
            "margin": null,
            "max_height": null,
            "max_width": null,
            "min_height": null,
            "min_width": null,
            "object_fit": null,
            "object_position": null,
            "order": null,
            "overflow": null,
            "overflow_x": null,
            "overflow_y": null,
            "padding": null,
            "right": null,
            "top": null,
            "visibility": null,
            "width": null
          }
        },
        "d5a5df010ab9437394a6ddf02cb5f597": {
          "model_module": "@jupyter-widgets/controls",
          "model_module_version": "1.5.0",
          "model_name": "DescriptionStyleModel",
          "state": {
            "_model_module": "@jupyter-widgets/controls",
            "_model_module_version": "1.5.0",
            "_model_name": "DescriptionStyleModel",
            "_view_count": null,
            "_view_module": "@jupyter-widgets/base",
            "_view_module_version": "1.2.0",
            "_view_name": "StyleView",
            "description_width": ""
          }
        },
        "da9319509b984ffb9bf527a35ddd1f5c": {
          "model_module": "@jupyter-widgets/base",
          "model_module_version": "1.2.0",
          "model_name": "LayoutModel",
          "state": {
            "_model_module": "@jupyter-widgets/base",
            "_model_module_version": "1.2.0",
            "_model_name": "LayoutModel",
            "_view_count": null,
            "_view_module": "@jupyter-widgets/base",
            "_view_module_version": "1.2.0",
            "_view_name": "LayoutView",
            "align_content": null,
            "align_items": null,
            "align_self": null,
            "border": null,
            "bottom": null,
            "display": null,
            "flex": null,
            "flex_flow": null,
            "grid_area": null,
            "grid_auto_columns": null,
            "grid_auto_flow": null,
            "grid_auto_rows": null,
            "grid_column": null,
            "grid_gap": null,
            "grid_row": null,
            "grid_template_areas": null,
            "grid_template_columns": null,
            "grid_template_rows": null,
            "height": null,
            "justify_content": null,
            "justify_items": null,
            "left": null,
            "margin": null,
            "max_height": null,
            "max_width": null,
            "min_height": null,
            "min_width": null,
            "object_fit": null,
            "object_position": null,
            "order": null,
            "overflow": null,
            "overflow_x": null,
            "overflow_y": null,
            "padding": null,
            "right": null,
            "top": null,
            "visibility": null,
            "width": null
          }
        },
        "dacc38680c3e46759109023ffaba74a7": {
          "model_module": "@jupyter-widgets/base",
          "model_module_version": "1.2.0",
          "model_name": "LayoutModel",
          "state": {
            "_model_module": "@jupyter-widgets/base",
            "_model_module_version": "1.2.0",
            "_model_name": "LayoutModel",
            "_view_count": null,
            "_view_module": "@jupyter-widgets/base",
            "_view_module_version": "1.2.0",
            "_view_name": "LayoutView",
            "align_content": null,
            "align_items": null,
            "align_self": null,
            "border": null,
            "bottom": null,
            "display": null,
            "flex": null,
            "flex_flow": null,
            "grid_area": null,
            "grid_auto_columns": null,
            "grid_auto_flow": null,
            "grid_auto_rows": null,
            "grid_column": null,
            "grid_gap": null,
            "grid_row": null,
            "grid_template_areas": null,
            "grid_template_columns": null,
            "grid_template_rows": null,
            "height": null,
            "justify_content": null,
            "justify_items": null,
            "left": null,
            "margin": null,
            "max_height": null,
            "max_width": null,
            "min_height": null,
            "min_width": null,
            "object_fit": null,
            "object_position": null,
            "order": null,
            "overflow": null,
            "overflow_x": null,
            "overflow_y": null,
            "padding": null,
            "right": null,
            "top": null,
            "visibility": null,
            "width": null
          }
        },
        "fcd6e1eedf1b4e1c8886b064e3d2241b": {
          "model_module": "@jupyter-widgets/controls",
          "model_module_version": "1.5.0",
          "model_name": "DescriptionStyleModel",
          "state": {
            "_model_module": "@jupyter-widgets/controls",
            "_model_module_version": "1.5.0",
            "_model_name": "DescriptionStyleModel",
            "_view_count": null,
            "_view_module": "@jupyter-widgets/base",
            "_view_module_version": "1.2.0",
            "_view_name": "StyleView",
            "description_width": ""
          }
        }
      }
    }
  },
  "nbformat": 4,
  "nbformat_minor": 0
}
