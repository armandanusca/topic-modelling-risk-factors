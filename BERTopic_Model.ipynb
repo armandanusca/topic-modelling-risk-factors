{
  "cells": [
    {
      "cell_type": "markdown",
      "metadata": {
        "id": "a1Q4Nv0aOIjB"
      },
      "source": [
        "# BERTopic Model Analysis\n",
        "\n",
        "BERTopic is a topic modeling technique that leverages 🤗 transformers and c-TF-IDF to create dense clusters allowing for easily interpretable topics whilst keeping important words in the topic descriptions.\n",
        "\n",
        "### This will be used for the Topic Modelling phase\n",
        "It implements DTM and multiple visualisation for the topics extracted\n"
      ]
    },
    {
      "cell_type": "markdown",
      "metadata": {
        "id": "9f5KxMSNPKuP"
      },
      "source": [
        "### Setup phase\n",
        "- Installing third-party libraries and extensions\n",
        "- Import data"
      ]
    },
    {
      "cell_type": "code",
      "execution_count": null,
      "metadata": {
        "id": "1CljqJnDEIGd"
      },
      "outputs": [],
      "source": [
        "import re\n",
        "import string\n",
        "from copy import deepcopy\n",
        "import tensorflow as tf\n",
        "import nltk\n",
        "import pandas as pd\n",
        "import plotly.express as px\n",
        "import spacy\n",
        "import swifter\n",
        "import tensorflow_hub\n",
        "from bertopic import BERTopic\n",
        "from flair.embeddings import TransformerDocumentEmbeddings\n",
        "from hdbscan import HDBSCAN\n",
        "from keras.preprocessing.text import text_to_word_sequence\n",
        "from nltk import word_tokenize\n",
        "from nltk.corpus import stopwords\n",
        "from nltk.stem import WordNetLemmatizer\n",
        "from pymongo import MongoClient\n",
        "from sentence_transformers import SentenceTransformer\n",
        "from sklearn.feature_extraction.text import CountVectorizer\n",
        "from tqdm.notebook import tqdm\n",
        "from umap import UMAP\n"
      ]
    },
    {
      "cell_type": "code",
      "execution_count": null,
      "metadata": {
        "colab": {
          "base_uri": "https://localhost:8080/"
        },
        "id": "7vKo-uRkqGPp",
        "outputId": "6c6e46a3-9ea0-417a-ef24-6471c42ce4fa"
      },
      "outputs": [],
      "source": [
        "spacy.prefer_gpu()\n",
        "\n",
        "nltk.download('stopwords')\n",
        "nltk.download('omw-1.4')\n",
        "nltk.download('punkt')\n"
      ]
    },
    {
      "cell_type": "markdown",
      "metadata": {
        "id": "m0mnO3omQ6l0"
      },
      "source": [
        "### Adjust parameters"
      ]
    },
    {
      "cell_type": "code",
      "execution_count": null,
      "metadata": {
        "id": "uBgsQD3EQ963"
      },
      "outputs": [],
      "source": [
        "# For loading data directly from a local file\n",
        "local_data = False\n",
        "dataset = 'collab_dataset_07_22__220000'\n",
        "\n",
        "# For extracting data from a MongoDB instance\n",
        "start_year = '07'\n",
        "end_year = '22'\n",
        "size_cutoff = 220000  # Maximum value: 740000\n",
        "\n",
        "# Available cleaning methods are:\n",
        "# - emma: The cleaning pipeline used by Emma Tattershall in the paper:\n",
        "#                     https://github.com/etattershall/burst-detection\n",
        "# - nltk: A cleaning pipeline using the builtin methods\n",
        "#         from NLTK library\n",
        "# - custom: A cleaning pipeline built using several iterations\n",
        "#           and experiments to get the best results for BERTopic\n",
        "cleaning_method = 'custom'\n",
        "\n",
        "# Available cleaning methods are:\n",
        "# - sentence-transformers: https://www.sbert.net/docs/pretrained_models.html\n",
        "# - flair: using flair library to utilize any hugging face model available\n",
        "# - spacy: using spaCy English Transformers model\n",
        "# - use: Universal Sentence Encoder from tensorflow\n",
        "embedding = 'sentence-transformers'\n",
        "\n",
        "# BERTopic parameter tuning\n",
        "\n",
        "# Available hyperparameter tuning options:\n",
        "# - default : uses the default BERTopic configuration\n",
        "# - custom : uses separate submodules for each step of the algorithm\n",
        "#           it requires extra parameters to be set (default values for each\n",
        "#           parameter are the best based on the experiments ran)\n",
        "# - full : uses a breakdown of BERTopic to drill further down into the separate\n",
        "#          submodules for each step of the algorithm. (default values for each\n",
        "#          parameter are the best based on the experiments ran)\n",
        "#\n",
        "# By default, the model will be selected to work on english and\n",
        "# will compute probabilities for each corresponding topic\n",
        "\n",
        "model_complexity = 'default'\n",
        "\n",
        "# custom parameters (also applicable for full version)\n",
        "top_n_words = 15\n",
        "n_gram_range = (1, 3)\n",
        "nr_topics = 100\n",
        "\n",
        "# full parameters\n",
        "\n",
        "# UMAP parameters\n",
        "low_memory = False\n",
        "n_neighbors = 15\n",
        "n_components = 10\n",
        "\n",
        "# HDBSCAN parameters\n",
        "min_cluster_size = 10\n",
        "min_samples = 1\n",
        "metric = 'euclidean'\n",
        "prediction_data = True\n",
        "\n",
        "if model_complexity == 'default':\n",
        "    parameters_str = f'local_{cleaning_method}_{embedding}_{model_complexity}'\n",
        "elif model_complexity == 'custom':\n",
        "    parameters_str = f'local_{cleaning_method}_{embedding}_{model_complexity}_{top_n_words}_{n_gram_range}_{nr_topics}'\n",
        "else:\n",
        "    parameters_str = f'local_{cleaning_method}_{embedding}_{model_complexity}_{top_n_words}_{n_gram_range}_{nr_topics}_'\n"
      ]
    },
    {
      "cell_type": "markdown",
      "metadata": {},
      "source": [
        "### Loading the data"
      ]
    },
    {
      "cell_type": "code",
      "execution_count": null,
      "metadata": {},
      "outputs": [],
      "source": [
        "if local_data:\n",
        "    df = pd.read_csv(f'{dataset}.csv')\n",
        "else:\n",
        "    # Connect to local instance of MongoDB\n",
        "    client = MongoClient('127.0.0.1', 27017)\n",
        "    db = client.frtp\n",
        "    collection = db.documents\n",
        "\n",
        "    # Extract all the data available with specific restrictions\n",
        "    result = collection.find({\n",
        "        \"year\": {\n",
        "            '$lt': end_year,\n",
        "            '$gte': start_year\n",
        "        },\n",
        "        \"size\": {\n",
        "            '$lt': size_cutoff\n",
        "        }\n",
        "    })\n",
        "    df = pd.DataFrame(list(result))\n",
        "    df['year'] = pd.to_datetime(df['year'], format='%y')"
      ]
    },
    {
      "cell_type": "markdown",
      "metadata": {
        "id": "-oHU9CbyP5Fy"
      },
      "source": [
        "### Cleaning the dataset"
      ]
    },
    {
      "cell_type": "code",
      "execution_count": null,
      "metadata": {
        "id": "DY7o_KqBr1zH"
      },
      "outputs": [],
      "source": [
        "# cleaning method - emma (this is the preprocessing pipeline that was used in the burstiness model paper)\n",
        "alphabets = \"([A-Za-z])\"\n",
        "prefixes = \"(Mr|St|Mrs|Ms|Dr)[.]\"\n",
        "suffixes = \"(Inc|Ltd|Jr|Sr|Co)\"\n",
        "starters = \"(Mr|Mrs|Ms|Dr|He\\s|She\\s|It\\s|They\\s|Their\\s|Our\\s|We\\s|But\\s|However\\s|That\\s|This\\s|Wherever)\"\n",
        "acronyms = \"([A-Z][.][A-Z][.](?:[A-Z][.])?)\"\n",
        "websites = \"[.](com|net|org|io|gov)\"\n",
        "htmltags = '<[^>]+>'\n",
        "htmlspecial = '&#?[xX]?[a-zA-Z0-9]{2,8};'\n",
        "\n",
        "start_delimiter = 'documentstart'\n",
        "sent_delimiter = 'sentenceboundary'\n",
        "end_delimiter = 'documentend'\n",
        "\n",
        "ngram_length = 3\n",
        "\n",
        "delimiters = [start_delimiter, sent_delimiter, end_delimiter]\n",
        "\n",
        "# Download the lemmatisesr\n",
        "wnl = WordNetLemmatizer()\n",
        "\n",
        "# Create a tokeniser\n",
        "count = CountVectorizer(strip_accents='ascii', min_df=1)\n",
        "tokeniser = count.build_analyzer()\n",
        "\n",
        "\n",
        "def normalise_acronymns(text):\n",
        "    '''\n",
        "    Remove the periods in acronyms. \n",
        "    Adapted from the method found at https://stackoverflow.com/a/40197005 \n",
        "    '''\n",
        "    return re.sub(r'(?<!\\w)([A-Z, a-z])\\.', r'\\1', text)\n",
        "\n",
        "\n",
        "def normalise_decimals(text):\n",
        "    '''\n",
        "    Remove the periods in decimal numbers and replace with POINT\n",
        "    '''\n",
        "    return re.sub(r'([0-9])\\.([0-9])', r'\\1POINT\\2', text)\n",
        "\n",
        "\n",
        "def split_into_sentences(text):\n",
        "    '''\n",
        "    Sentence splitter adapted from https://stackoverflow.com/a/31505798\n",
        "    '''\n",
        "    text = text.replace(\"\\n\", \" \")\n",
        "    text = re.sub(prefixes, \"\\\\1<prd>\", text)\n",
        "    text = re.sub(websites, \"<prd>\\\\1\", text)\n",
        "\n",
        "    # my addition\n",
        "    text = re.sub(htmltags, \" \", text)\n",
        "    text = re.sub(htmlspecial, \" \", text)\n",
        "\n",
        "    if \"Ph.D\" in text:\n",
        "        text = text.replace(\"Ph.D.\", \"PhD\")\n",
        "\n",
        "    text = re.sub(\"\\s\" + alphabets + \"[.] \", \" \\\\1\", text)\n",
        "    text = re.sub(acronyms+\" \"+starters, \"\\\\1<stop> \\\\2\", text)\n",
        "    text = re.sub(alphabets + \"[.]\" + alphabets + \"[.]\" + alphabets + \"[.]\", \"\\\\1\\\\2\\\\3\", text)\n",
        "    text = re.sub(alphabets + \"[.]\" + alphabets + \"[.]\", \"\\\\1\\\\2\", text)\n",
        "    text = re.sub(\" \"+suffixes+\"[.] \"+starters, \" \\\\1 \\\\2\", text)\n",
        "    text = re.sub(\" \"+suffixes+\"[.]\", \" \\\\1\", text)\n",
        "    text = re.sub(\" \" + alphabets + \"[.]\", \" \\\\1\", text)\n",
        "\n",
        "    if \"”\" in text:\n",
        "        text = text.replace(\".”\", \"”.\")\n",
        "    if \"\\\"\" in text:\n",
        "        text = text.replace(\".\\\"\", \"\\\".\")\n",
        "    if \"!\" in text:\n",
        "        text = text.replace(\"!\\\"\", \"\\\"!\")\n",
        "    if \"?\" in text:\n",
        "        text = text.replace(\"?\\\"\", \"\\\"?\")\n",
        "\n",
        "    text = text.replace(\".\", \"<stop>\")\n",
        "    text = text.replace(\"?\", \"<stop>\")\n",
        "    text = text.replace(\"!\", \"<stop>\")\n",
        "\n",
        "    sentences = text.split(\"<stop>\")\n",
        "    sentences = [s.strip() for s in sentences]\n",
        "\n",
        "    non_empty = []\n",
        "\n",
        "    for s in sentences:\n",
        "        # we require that there be two alphanumeric characters in a row\n",
        "        if len(re.findall(\"[A-Za-z0-9][A-Za-z0-9]\", s)) > 0:\n",
        "            non_empty.append(s)\n",
        "    return non_empty\n",
        "\n",
        "\n",
        "def pad_sentences(sentences):\n",
        "    '''\n",
        "    Takes a list of sentences and returns a string in which:\n",
        "        - The beginning of the abstract is indicated by DOCUMENTSTART\n",
        "        - The end is indicated by DOCUMENTEND\n",
        "        - Sentence boundaries are indicated by SENTENCEBOUNDARY\n",
        "\n",
        "    The number of delimiters used is dependent on the ngram length\n",
        "    '''\n",
        "    sent_string = (' '+(sent_delimiter+' ')*(ngram_length-1)).join(sentences)\n",
        "\n",
        "    return (start_delimiter+' ')*(ngram_length-1) + sent_string + (' '+end_delimiter)*(ngram_length-1)\n",
        "\n",
        "\n",
        "def get_stopwords():\n",
        "    stop = set(stopwords.words('english'))\n",
        "    stop = set([s.replace(\"'\", \"\") for s in stop])\n",
        "\n",
        "    # Add years to prevent spikes\n",
        "    for year in range(1900, 2020):\n",
        "        stop.add(str(year))\n",
        "\n",
        "    # Add small numbers\n",
        "    for num in range(0, 100):\n",
        "        if len(str(num)) < 2:\n",
        "            stop.add(str(num))\n",
        "            num = '0' + str(num)\n",
        "\n",
        "        stop.add(str(num))\n",
        "\n",
        "    # Add several specific terms considered stopwords based on\n",
        "    # manual dataset inspection\n",
        "    extra = [\n",
        "        'use', 'using', 'uses', 'used', 'based', 'including', 'include', 'approach', 'factors', 'business', 'risk'\n",
        "        'wa', 'ha', 'doe', 'item', '1a', 'factor', '1b', '1aitem', '10-k', '1AITEM', 'could', 'regarding'\n",
        "    ]\n",
        "    for word in extra:\n",
        "        stop.add(word)\n",
        "    return stop\n",
        "\n",
        "\n",
        "def cleaning_pipeline(text):\n",
        "    '''\n",
        "    Takes a binary string and returns a list of cleaned sentences, stripped of punctuation and lemmatised\n",
        "    '''\n",
        "\n",
        "    stopwords = get_stopwords()\n",
        "    text = normalise_decimals(normalise_acronymns(text))\n",
        "    text = ' '.join([word for word in text.split() if word not in stopwords])\n",
        "    sentences = split_into_sentences(text)\n",
        "\n",
        "    # strip out punctuation and make lowercase\n",
        "    clean_sentences = []\n",
        "    for s in sentences:\n",
        "\n",
        "        # Deal with special cases\n",
        "        s = re.sub(r'[-/]', ' ', s)\n",
        "\n",
        "        # Remove all other punctuation\n",
        "        s = re.sub(r'[^\\w\\s]', '', s)\n",
        "\n",
        "        clean_sentences.append(s.lower())\n",
        "\n",
        "    # pad sentences with delimiters\n",
        "    text = pad_sentences(clean_sentences)\n",
        "\n",
        "    # Lemmatise word by word\n",
        "    lemmas = []\n",
        "    for word in tokeniser(text):\n",
        "        lemmas.append(wnl.lemmatize(word))\n",
        "\n",
        "    return ' '.join(lemmas)\n",
        "\n",
        "\n",
        "def cleaning_pipeline_df(row):\n",
        "    row['clean_text'] = cleaning_pipeline(row['text'])\n",
        "    return row\n"
      ]
    },
    {
      "cell_type": "code",
      "execution_count": null,
      "metadata": {
        "id": "FlrB9YWlpEjB"
      },
      "outputs": [],
      "source": [
        "# cleaning method - custom\n",
        "def get_stopwords_manual():\n",
        "    stop = set(stopwords.words('english'))\n",
        "    stop = set([s.replace(\"'\", \"\") for s in stop])\n",
        "\n",
        "    # Add years to prevent spikes\n",
        "    for year in range(1900, 2020):\n",
        "        stop.add(str(year))\n",
        "\n",
        "    # Add small numbers\n",
        "    for num in range(0, 100):\n",
        "        if len(str(num)) < 2:\n",
        "            stop.add(str(num))\n",
        "            num = '0' + str(num)\n",
        "\n",
        "        stop.add(str(num))\n",
        "\n",
        "    # Add several specific terms considered stopwords based on\n",
        "    # manual dataset inspection\n",
        "    extra = [\n",
        "        'use', 'using', 'uses', 'used', 'based', 'including', 'include',\n",
        "        'approach', 'factors', 'business', 'risk', 'factors16',\n",
        "        'wa', 'ha', 'doe', 'item', '1a', 'factor', '1b', '1aitem', '10-k',\n",
        "        'item', '1arisk', 'factors11', '1arisk', 'factors10k', 'factorsk13', 'could',\n",
        "        'factorsk10', 'may', 'looking', 'forward', 'statement'\n",
        "    ]\n",
        "\n",
        "    # Add factors combined with numbers as\n",
        "    # they appear often as references\n",
        "    for number in range(1, 300):\n",
        "        factor_string = 'factors'+str(number)\n",
        "        stop.add(factor_string)\n",
        "\n",
        "    for word in extra:\n",
        "        stop.add(word)\n",
        "\n",
        "    return stop\n"
      ]
    },
    {
      "cell_type": "code",
      "execution_count": null,
      "metadata": {
        "id": "EiPs6RtdpTEX"
      },
      "outputs": [],
      "source": [
        "# cleaning method - nltk\n",
        "punct = []\n",
        "punct += list(string.punctuation)\n",
        "punct += '’'\n",
        "punct.remove(\"'\")\n",
        "\n",
        "\n",
        "def remove_punctuations(text):\n",
        "    for punctuation in punct:\n",
        "        text = text.replace(punctuation, ' ')\n",
        "    return text\n",
        "\n",
        "\n",
        "def nlp(df):\n",
        "    df['token'] = df['text'].swifter.apply(lambda x: x.lower())\n",
        "    df['token'] = df['token'].swifter.apply(lambda x: x.replace('\\n', ' '))\n",
        "    df['token'] = df['token'].str.replace('http\\S+|www.\\S+', '', case=False)\n",
        "    df['token'] = df['token'].swifter.apply(lambda x: x.replace('&gt;', ''))\n",
        "    df['token'] = df['token'].swifter.apply(remove_punctuations)\n",
        "    df['token'] = df['token'].swifter.apply(lambda x: str(x).replace(\" s \", \" \"))\n",
        "    df['final_text'] = df['token'].swifter.apply(word_tokenize)\n",
        "    my_stopwords = set(stopwords.words('english'))\n",
        "    df['final_text'] = df['final_text'].swifter.apply(\n",
        "        lambda text_list: [x for x in text_list if x not in my_stopwords])\n",
        "    df['final_text'] = df['final_text'].swifter.apply(lambda list_data: [x for x in list_data if x.isalpha()])\n",
        "    df['clean_text'] = df['final_text'].swifter.apply(lambda row: ' '.join([word for word in row]))\n",
        "    return df\n"
      ]
    },
    {
      "cell_type": "code",
      "execution_count": null,
      "metadata": {
        "colab": {
          "base_uri": "https://localhost:8080/",
          "height": 81,
          "referenced_widgets": [
            "a3549628f2e141ffa270d81a963b7ae4",
            "7b74fdbdab4a4f49b71f40e7d7aad387",
            "937364f588cc45fcbd1ac5ad85c5fda7",
            "8850a13c22884d93863ef97667ede3c3",
            "2db404f7c3074134b1796eb2e243f37e",
            "29d4e4847c1e4c13b6d02d8484de5104",
            "dacc38680c3e46759109023ffaba74a7",
            "0584c95b01804ca181115153bc0f664d",
            "b0c7ebfbae504d009f45b719bf24071d",
            "002add361629433eb2c11fd717236185",
            "da9319509b984ffb9bf527a35ddd1f5c",
            "39023286bfd243389270c3849626d000",
            "cb4ab7de0897412f9d79cac2a68419ab",
            "227aef1a31bd474cbcb6c15e5db5808e",
            "b86ef7ed03434563b5f202a3c492a7e1",
            "68ebf1f5d6164539b4c2adc080060e99",
            "d5a5df010ab9437394a6ddf02cb5f597",
            "5f560b24de7a44bfb2a8f33c16b589bc",
            "ca0660a5d79c4e9596b3665361044d9a",
            "1a82c669c340421eae351a3cff70bb45",
            "2dc60619a7a749bfa13ad7e0b8fdafc4",
            "4c5dd9f52e544e8e98d53d5afc3efc01"
          ]
        },
        "id": "ik8de7uTreig",
        "outputId": "f666296d-e7d8-487d-ef70-1179b2e1de3e"
      },
      "outputs": [],
      "source": [
        "if cleaning_method == 'custom':\n",
        "    df['clean_text'] = df['text'].str.lower()\n",
        "    df['clean_text'] = df['clean_text'].swifter.apply(lambda x: ' '.join(\n",
        "        [word for word in text_to_word_sequence(x)]))\n",
        "    stop_words = get_stopwords_manual()\n",
        "    df['clean_text'] = df['clean_text'].swifter.apply(lambda x: ' '.join(\n",
        "        [word for word in x.split() if word not in (stop_words)]))\n",
        "elif cleaning_method == 'emma':\n",
        "    df['clean_text'] = ''\n",
        "    df = df.swifter.apply(cleaning_pipeline_df, axis=1)\n",
        "else:\n",
        "    df = nlp(df)\n"
      ]
    },
    {
      "cell_type": "code",
      "execution_count": null,
      "metadata": {
        "id": "AVEp7EZ-E3lZ"
      },
      "outputs": [],
      "source": [
        "# Extracting the text with timestamps\n",
        "timestamps = df.year.to_list()\n",
        "text = df.clean_text.to_list()"
      ]
    },
    {
      "cell_type": "markdown",
      "metadata": {
        "id": "Smf7mB7rpz_I"
      },
      "source": [
        "### Topic Modelling utilising BERTopic"
      ]
    },
    {
      "cell_type": "code",
      "execution_count": null,
      "metadata": {
        "colab": {
          "base_uri": "https://localhost:8080/"
        },
        "id": "T-8dExtzND2E",
        "outputId": "03f4df9d-fb8c-4766-eeb0-68e6551c8129"
      },
      "outputs": [],
      "source": [
        "if embedding == 'sentence-transformers':\n",
        "    embedding_model = SentenceTransformer(\"all-roberta-large-v1\")\n",
        "elif embedding == 'flair':\n",
        "    embedding_model = TransformerDocumentEmbeddings(\n",
        "        'sentence-transformers/all-MiniLM-L6-v2')\n",
        "elif embedding == 'spacy':\n",
        "    spacy.prefer_gpu()\n",
        "    embedding_model = spacy.load(\"en_core_web_trf\", exclude=['tagger', 'parser', 'ner',\n",
        "                                                             'attribute_ruler', 'lemmatizer'])\n",
        "elif embedding == 'use':\n",
        "    embedding_model = tensorflow_hub.load(\n",
        "        \"https://tfhub.dev/google/universal-sentence-encoder/4\")\n",
        "else:\n",
        "    embedding_model = SentenceTransformer(\"all-mpnet-base-v1\")\n",
        "\n",
        "if model_complexity == 'default':\n",
        "    topic_model = BERTopic(verbose=True, language=\"english\", nr_topics=\"auto\",\n",
        "                           embedding_model=embedding_model)\n",
        "elif model_complexity == 'custom':\n",
        "    topic_model = BERTopic(verbose=True, n_gram_range=n_gram_range,\n",
        "                           language=\"english\", top_n_words=top_n_words,\n",
        "                           nr_topics=nr_topics, low_memory=low_memory,\n",
        "                           embedding_model=embedding_model)\n",
        "else:\n",
        "    umap_model = UMAP(n_neighbors=n_neighbors, n_components=n_components, metric=metric,\n",
        "                      low_memory=low_memory)\n",
        "    hdbscan_model = HDBSCAN(min_cluster_size=min_cluster_size, metric=metric,\n",
        "                            prediction_data=prediction_data)\n",
        "    topic_model = BERTopic(verbose=True, n_gram_range=n_gram_range,\n",
        "                           nr_topics=nr_topics, umap_model=umap_model,\n",
        "                           hdbscan_model=hdbscan_model,\n",
        "                           embedding_model=embedding_model)\n",
        "\n",
        "topics, probs = topic_model.fit_transform(text)\n"
      ]
    },
    {
      "cell_type": "code",
      "execution_count": null,
      "metadata": {
        "id": "xtwbr8KJNBoo"
      },
      "outputs": [],
      "source": [
        "# Due to a bug that I had to report on library's page: https://github.com/MaartenGr/BERTopic/issues/470\n",
        "if embedding != 'use':\n",
        "    topic_model.save(f\"models/BERTopic_model_{parameters_str}\")\n"
      ]
    },
    {
      "cell_type": "code",
      "execution_count": null,
      "metadata": {
        "id": "RAxBzlkVE_cH"
      },
      "outputs": [],
      "source": [
        "# Explore a topic\n",
        "topic_model.get_topic(21)"
      ]
    },
    {
      "cell_type": "code",
      "execution_count": null,
      "metadata": {
        "id": "vCTo9NgZFBJP"
      },
      "outputs": [],
      "source": [
        "# Overview of the topics\n",
        "topic_info = topic_model.get_topic_info()\n",
        "topic_info"
      ]
    },
    {
      "cell_type": "code",
      "execution_count": null,
      "metadata": {
        "id": "Rx1WL1QuFCPE"
      },
      "outputs": [],
      "source": [
        "topic_model.visualize_hierarchy()"
      ]
    },
    {
      "cell_type": "code",
      "execution_count": null,
      "metadata": {
        "id": "-gnAFtfUFCvJ"
      },
      "outputs": [],
      "source": [
        "topic_model.visualize_barchart()"
      ]
    },
    {
      "cell_type": "code",
      "execution_count": null,
      "metadata": {
        "id": "5ak4xjCHFFv0"
      },
      "outputs": [],
      "source": [
        "topic_model.visualize_heatmap()"
      ]
    },
    {
      "cell_type": "code",
      "execution_count": null,
      "metadata": {
        "id": "jkNgpFYVFG0q"
      },
      "outputs": [],
      "source": [
        "topic_model.visualize_topics()"
      ]
    },
    {
      "cell_type": "markdown",
      "metadata": {
        "id": "IKWheuFOMQBp"
      },
      "source": [
        "### Utilising DTM to convert the topics resulted into a timeserie"
      ]
    },
    {
      "cell_type": "code",
      "execution_count": null,
      "metadata": {
        "id": "y8D7isawFIOz"
      },
      "outputs": [],
      "source": [
        "# Running DTM on the entire dataset\n",
        "topics_over_time = topic_model.topics_over_time(text, topics, timestamps)"
      ]
    },
    {
      "cell_type": "code",
      "execution_count": null,
      "metadata": {},
      "outputs": [],
      "source": []
    },
    {
      "cell_type": "markdown",
      "metadata": {},
      "source": [
        "### Cleaning DTM results"
      ]
    },
    {
      "cell_type": "code",
      "execution_count": null,
      "metadata": {
        "id": "qucSJqqRFJdJ"
      },
      "outputs": [],
      "source": [
        "# TODO: Decide if it is always excluded\n",
        "topics_over_time=topics_over_time[topics_over_time['Topic'] != -1]"
      ]
    },
    {
      "cell_type": "code",
      "execution_count": null,
      "metadata": {},
      "outputs": [],
      "source": [
        "# topics_over_time = topics_over_time.drop(columns=['Unnamed: 0']).sort_values('Topic')"
      ]
    },
    {
      "cell_type": "code",
      "execution_count": null,
      "metadata": {},
      "outputs": [],
      "source": [
        "smaller_reporting_topics = topics_over_time[(topics_over_time['Words'].str.contains(\"smaller\"))]['Topic'].unique()\n",
        "topics_over_time = topics_over_time[~(topics_over_time['Topic'].isin(smaller_reporting_topics))]"
      ]
    },
    {
      "cell_type": "code",
      "execution_count": null,
      "metadata": {},
      "outputs": [],
      "source": [
        "spaces_topics = topics_over_time[(topics_over_time['Words'].str.contains(\", , ,\"))]['Topic'].unique()\n",
        "topics_over_time = topics_over_time[~(topics_over_time['Topic'].isin(spaces_topics))]"
      ]
    },
    {
      "cell_type": "code",
      "execution_count": null,
      "metadata": {
        "id": "Lkp5XpUCFKc9"
      },
      "outputs": [],
      "source": [
        "# First 10 entries in the timeseries generated by DTM\n",
        "topics_over_time.head(10)"
      ]
    },
    {
      "cell_type": "code",
      "execution_count": null,
      "metadata": {
        "id": "S7dBW8SdFLgv"
      },
      "outputs": [],
      "source": [
        "topic_model.visualize_topics_over_time(topics_over_time,top_n_topics=10)"
      ]
    },
    {
      "cell_type": "code",
      "execution_count": null,
      "metadata": {
        "id": "kdHAW6FzFMz1"
      },
      "outputs": [],
      "source": [
        "topic_model.visualize_topics_over_time(topics_over_time)"
      ]
    },
    {
      "cell_type": "code",
      "execution_count": null,
      "metadata": {
        "id": "Xw091rocQUni"
      },
      "outputs": [],
      "source": [
        "topics_over_time.to_csv(f'output/DTM/DTM_{parameters_str}.csv')"
      ]
    },
    {
      "cell_type": "markdown",
      "metadata": {
        "id": "u1xbIaAmKO4l"
      },
      "source": [
        "### YoY Changes in importance of topics extracted"
      ]
    },
    {
      "cell_type": "code",
      "execution_count": null,
      "metadata": {
        "id": "wQacIlrzFNgH"
      },
      "outputs": [],
      "source": [
        "topic_evolution = pd.DataFrame()\n",
        "timestamps_set = sorted(set(timestamps))\n",
        "for timestamp in timestamps_set:\n",
        "    temp_df = topics_over_time[topics_over_time['Timestamp'] == timestamp]\n",
        "    if topic_evolution.shape[0] == 0:\n",
        "        temp_df = temp_df[['Topic', 'Name', 'Words', 'Frequency']]\n",
        "        temp_df = temp_df.rename(columns={'Frequency': str(timestamp)})\n",
        "        topic_evolution = deepcopy(temp_df)\n",
        "    else:\n",
        "        temp_df = temp_df[['Topic', 'Frequency']]\n",
        "        temp_df = temp_df.rename(columns={'Frequency': str(timestamp)})\n",
        "        topic_evolution = topic_evolution.merge(temp_df, on='Topic', how='outer')\n"
      ]
    },
    {
      "cell_type": "code",
      "execution_count": null,
      "metadata": {
        "id": "mIGkv437FQGj"
      },
      "outputs": [],
      "source": [
        "topic_evolution = topic_evolution.fillna(0)"
      ]
    },
    {
      "cell_type": "code",
      "execution_count": null,
      "metadata": {
        "id": "NQ1S4iUrFRvx"
      },
      "outputs": [],
      "source": [
        "topic_evolution.head(10)"
      ]
    },
    {
      "cell_type": "code",
      "execution_count": null,
      "metadata": {
        "id": "-PumDlncFSX9"
      },
      "outputs": [],
      "source": [
        "columns_to_process = topic_evolution.columns.to_list()\n",
        "columns_to_process.remove('Topic')\n",
        "columns_to_process.remove('Name')\n",
        "columns_to_process.remove('Words')\n",
        "columns_to_process\n"
      ]
    },
    {
      "cell_type": "code",
      "execution_count": null,
      "metadata": {
        "id": "fPNrumI-FTq_"
      },
      "outputs": [],
      "source": [
        "for index in range(0, len(columns_to_process)-1):\n",
        "    new_column = columns_to_process[index+1].split('-')[0] + '-' + columns_to_process[index].split('-')[0]\n",
        "    topic_evolution[new_column] = topic_evolution[columns_to_process[index+1]\n",
        "                                                  ] - topic_evolution[columns_to_process[index]]\n",
        "topic_evolution.head(10)\n"
      ]
    },
    {
      "cell_type": "code",
      "execution_count": null,
      "metadata": {
        "id": "WeKHQ4cvFVr_"
      },
      "outputs": [],
      "source": [
        "topics = topics_over_time.Topic.unique()\n",
        "change_in_topics = pd.DataFrame()\n",
        "for topic in topics:\n",
        "    topic_df = topics_over_time[topics_over_time['Topic'] == topic]\n",
        "    topic_df = topic_df.sort_values('Timestamp')\n",
        "    topic_df['Previous_Frequency'] = topic_df.Frequency.shift(1)\n",
        "    topic_df['Change'] = topic_df['Frequency'] - topic_df['Previous_Frequency']\n",
        "    max_freq = max(topic_df['Frequency'])\n",
        "    topic_df['%_Change'] = topic_df['Change']*100/max_freq\n",
        "    change_in_topics = change_in_topics.append(topic_df, ignore_index=True)\n",
        "change_in_topics = change_in_topics[change_in_topics['Topic'] != -1]\n",
        "change_in_topics = change_in_topics.dropna()\n",
        "change_in_topics = change_in_topics.groupby(by=['Topic', 'Timestamp']).agg({\n",
        "    'Frequency': 'sum',\n",
        "    'Name': 'count',\n",
        "    'Previous_Frequency': 'sum',\n",
        "    'Change': 'sum',\n",
        "    '%_Change': 'mean',\n",
        "    'Words': ' '.join\n",
        "}).reset_index()\n",
        "change_in_topics.head(10)\n"
      ]
    },
    {
      "cell_type": "code",
      "execution_count": null,
      "metadata": {
        "id": "rq7ZrZTsFXWB"
      },
      "outputs": [],
      "source": [
        "fig = px.line(change_in_topics, x=\"Timestamp\", y=\"Change\", color='Topic', title='YOY change in topic frequency')\n",
        "fig.show()\n"
      ]
    }
  ],
  "metadata": {
    "accelerator": "GPU",
    "colab": {
      "name": "BERTopic Model.ipynb",
      "provenance": []
    },
    "kernelspec": {
      "display_name": "Python 3",
      "name": "python3"
    },
    "language_info": {
      "codemirror_mode": {
        "name": "ipython",
        "version": 3
      },
      "file_extension": ".py",
      "mimetype": "text/x-python",
      "name": "python",
      "nbconvert_exporter": "python",
      "pygments_lexer": "ipython3",
      "version": "3.9.10"
    },
    "widgets": {
      "application/vnd.jupyter.widget-state+json": {
        "002add361629433eb2c11fd717236185": {
          "model_module": "@jupyter-widgets/controls",
          "model_module_version": "1.5.0",
          "model_name": "DescriptionStyleModel",
          "state": {
            "_model_module": "@jupyter-widgets/controls",
            "_model_module_version": "1.5.0",
            "_model_name": "DescriptionStyleModel",
            "_view_count": null,
            "_view_module": "@jupyter-widgets/base",
            "_view_module_version": "1.2.0",
            "_view_name": "StyleView",
            "description_width": ""
          }
        },
        "0584c95b01804ca181115153bc0f664d": {
          "model_module": "@jupyter-widgets/controls",
          "model_module_version": "1.5.0",
          "model_name": "ProgressStyleModel",
          "state": {
            "_model_module": "@jupyter-widgets/controls",
            "_model_module_version": "1.5.0",
            "_model_name": "ProgressStyleModel",
            "_view_count": null,
            "_view_module": "@jupyter-widgets/base",
            "_view_module_version": "1.2.0",
            "_view_name": "StyleView",
            "bar_color": null,
            "description_width": ""
          }
        },
        "102ea82cec774572bc17fc268884596e": {
          "model_module": "@jupyter-widgets/controls",
          "model_module_version": "1.5.0",
          "model_name": "HTMLModel",
          "state": {
            "_dom_classes": [],
            "_model_module": "@jupyter-widgets/controls",
            "_model_module_version": "1.5.0",
            "_model_name": "HTMLModel",
            "_view_count": null,
            "_view_module": "@jupyter-widgets/controls",
            "_view_module_version": "1.5.0",
            "_view_name": "HTMLView",
            "description": "",
            "description_tooltip": null,
            "layout": "IPY_MODEL_1703bed2886b4360b9e15f91b8574d9a",
            "placeholder": "​",
            "style": "IPY_MODEL_33e905948a1c40b086b15e252cddff2e",
            "value": " 540/540 [20:43&lt;00:00, 12.32it/s]"
          }
        },
        "132710cc21dd44b28447ff61205ed09a": {
          "model_module": "@jupyter-widgets/base",
          "model_module_version": "1.2.0",
          "model_name": "LayoutModel",
          "state": {
            "_model_module": "@jupyter-widgets/base",
            "_model_module_version": "1.2.0",
            "_model_name": "LayoutModel",
            "_view_count": null,
            "_view_module": "@jupyter-widgets/base",
            "_view_module_version": "1.2.0",
            "_view_name": "LayoutView",
            "align_content": null,
            "align_items": null,
            "align_self": null,
            "border": null,
            "bottom": null,
            "display": null,
            "flex": null,
            "flex_flow": null,
            "grid_area": null,
            "grid_auto_columns": null,
            "grid_auto_flow": null,
            "grid_auto_rows": null,
            "grid_column": null,
            "grid_gap": null,
            "grid_row": null,
            "grid_template_areas": null,
            "grid_template_columns": null,
            "grid_template_rows": null,
            "height": null,
            "justify_content": null,
            "justify_items": null,
            "left": null,
            "margin": null,
            "max_height": null,
            "max_width": null,
            "min_height": null,
            "min_width": null,
            "object_fit": null,
            "object_position": null,
            "order": null,
            "overflow": null,
            "overflow_x": null,
            "overflow_y": null,
            "padding": null,
            "right": null,
            "top": null,
            "visibility": null,
            "width": null
          }
        },
        "1703bed2886b4360b9e15f91b8574d9a": {
          "model_module": "@jupyter-widgets/base",
          "model_module_version": "1.2.0",
          "model_name": "LayoutModel",
          "state": {
            "_model_module": "@jupyter-widgets/base",
            "_model_module_version": "1.2.0",
            "_model_name": "LayoutModel",
            "_view_count": null,
            "_view_module": "@jupyter-widgets/base",
            "_view_module_version": "1.2.0",
            "_view_name": "LayoutView",
            "align_content": null,
            "align_items": null,
            "align_self": null,
            "border": null,
            "bottom": null,
            "display": null,
            "flex": null,
            "flex_flow": null,
            "grid_area": null,
            "grid_auto_columns": null,
            "grid_auto_flow": null,
            "grid_auto_rows": null,
            "grid_column": null,
            "grid_gap": null,
            "grid_row": null,
            "grid_template_areas": null,
            "grid_template_columns": null,
            "grid_template_rows": null,
            "height": null,
            "justify_content": null,
            "justify_items": null,
            "left": null,
            "margin": null,
            "max_height": null,
            "max_width": null,
            "min_height": null,
            "min_width": null,
            "object_fit": null,
            "object_position": null,
            "order": null,
            "overflow": null,
            "overflow_x": null,
            "overflow_y": null,
            "padding": null,
            "right": null,
            "top": null,
            "visibility": null,
            "width": null
          }
        },
        "1a82c669c340421eae351a3cff70bb45": {
          "model_module": "@jupyter-widgets/base",
          "model_module_version": "1.2.0",
          "model_name": "LayoutModel",
          "state": {
            "_model_module": "@jupyter-widgets/base",
            "_model_module_version": "1.2.0",
            "_model_name": "LayoutModel",
            "_view_count": null,
            "_view_module": "@jupyter-widgets/base",
            "_view_module_version": "1.2.0",
            "_view_name": "LayoutView",
            "align_content": null,
            "align_items": null,
            "align_self": null,
            "border": null,
            "bottom": null,
            "display": null,
            "flex": null,
            "flex_flow": null,
            "grid_area": null,
            "grid_auto_columns": null,
            "grid_auto_flow": null,
            "grid_auto_rows": null,
            "grid_column": null,
            "grid_gap": null,
            "grid_row": null,
            "grid_template_areas": null,
            "grid_template_columns": null,
            "grid_template_rows": null,
            "height": null,
            "justify_content": null,
            "justify_items": null,
            "left": null,
            "margin": null,
            "max_height": null,
            "max_width": null,
            "min_height": null,
            "min_width": null,
            "object_fit": null,
            "object_position": null,
            "order": null,
            "overflow": null,
            "overflow_x": null,
            "overflow_y": null,
            "padding": null,
            "right": null,
            "top": null,
            "visibility": null,
            "width": null
          }
        },
        "227aef1a31bd474cbcb6c15e5db5808e": {
          "model_module": "@jupyter-widgets/controls",
          "model_module_version": "1.5.0",
          "model_name": "HTMLModel",
          "state": {
            "_dom_classes": [],
            "_model_module": "@jupyter-widgets/controls",
            "_model_module_version": "1.5.0",
            "_model_name": "HTMLModel",
            "_view_count": null,
            "_view_module": "@jupyter-widgets/controls",
            "_view_module_version": "1.5.0",
            "_view_name": "HTMLView",
            "description": "",
            "description_tooltip": null,
            "layout": "IPY_MODEL_5f560b24de7a44bfb2a8f33c16b589bc",
            "placeholder": "​",
            "style": "IPY_MODEL_d5a5df010ab9437394a6ddf02cb5f597",
            "value": "Pandas Apply: 100%"
          }
        },
        "29d4e4847c1e4c13b6d02d8484de5104": {
          "model_module": "@jupyter-widgets/controls",
          "model_module_version": "1.5.0",
          "model_name": "DescriptionStyleModel",
          "state": {
            "_model_module": "@jupyter-widgets/controls",
            "_model_module_version": "1.5.0",
            "_model_name": "DescriptionStyleModel",
            "_view_count": null,
            "_view_module": "@jupyter-widgets/base",
            "_view_module_version": "1.2.0",
            "_view_name": "StyleView",
            "description_width": ""
          }
        },
        "2db404f7c3074134b1796eb2e243f37e": {
          "model_module": "@jupyter-widgets/controls",
          "model_module_version": "1.5.0",
          "model_name": "HTMLModel",
          "state": {
            "_dom_classes": [],
            "_model_module": "@jupyter-widgets/controls",
            "_model_module_version": "1.5.0",
            "_model_name": "HTMLModel",
            "_view_count": null,
            "_view_module": "@jupyter-widgets/controls",
            "_view_module_version": "1.5.0",
            "_view_name": "HTMLView",
            "description": "",
            "description_tooltip": null,
            "layout": "IPY_MODEL_da9319509b984ffb9bf527a35ddd1f5c",
            "placeholder": "​",
            "style": "IPY_MODEL_002add361629433eb2c11fd717236185",
            "value": " 17276/17276 [00:37&lt;00:00, 440.54it/s]"
          }
        },
        "2dc60619a7a749bfa13ad7e0b8fdafc4": {
          "model_module": "@jupyter-widgets/controls",
          "model_module_version": "1.5.0",
          "model_name": "DescriptionStyleModel",
          "state": {
            "_model_module": "@jupyter-widgets/controls",
            "_model_module_version": "1.5.0",
            "_model_name": "DescriptionStyleModel",
            "_view_count": null,
            "_view_module": "@jupyter-widgets/base",
            "_view_module_version": "1.2.0",
            "_view_name": "StyleView",
            "description_width": ""
          }
        },
        "33e905948a1c40b086b15e252cddff2e": {
          "model_module": "@jupyter-widgets/controls",
          "model_module_version": "1.5.0",
          "model_name": "DescriptionStyleModel",
          "state": {
            "_model_module": "@jupyter-widgets/controls",
            "_model_module_version": "1.5.0",
            "_model_name": "DescriptionStyleModel",
            "_view_count": null,
            "_view_module": "@jupyter-widgets/base",
            "_view_module_version": "1.2.0",
            "_view_name": "StyleView",
            "description_width": ""
          }
        },
        "39023286bfd243389270c3849626d000": {
          "model_module": "@jupyter-widgets/controls",
          "model_module_version": "1.5.0",
          "model_name": "HBoxModel",
          "state": {
            "_dom_classes": [],
            "_model_module": "@jupyter-widgets/controls",
            "_model_module_version": "1.5.0",
            "_model_name": "HBoxModel",
            "_view_count": null,
            "_view_module": "@jupyter-widgets/controls",
            "_view_module_version": "1.5.0",
            "_view_name": "HBoxView",
            "box_style": "",
            "children": [
              "IPY_MODEL_227aef1a31bd474cbcb6c15e5db5808e",
              "IPY_MODEL_b86ef7ed03434563b5f202a3c492a7e1",
              "IPY_MODEL_68ebf1f5d6164539b4c2adc080060e99"
            ],
            "layout": "IPY_MODEL_cb4ab7de0897412f9d79cac2a68419ab"
          }
        },
        "3faa1fc8f6c84cc88dbbc3f62c4d9777": {
          "model_module": "@jupyter-widgets/controls",
          "model_module_version": "1.5.0",
          "model_name": "ProgressStyleModel",
          "state": {
            "_model_module": "@jupyter-widgets/controls",
            "_model_module_version": "1.5.0",
            "_model_name": "ProgressStyleModel",
            "_view_count": null,
            "_view_module": "@jupyter-widgets/base",
            "_view_module_version": "1.2.0",
            "_view_name": "StyleView",
            "bar_color": null,
            "description_width": ""
          }
        },
        "4360fcf0f7424f6a9b075191ccefae32": {
          "model_module": "@jupyter-widgets/base",
          "model_module_version": "1.2.0",
          "model_name": "LayoutModel",
          "state": {
            "_model_module": "@jupyter-widgets/base",
            "_model_module_version": "1.2.0",
            "_model_name": "LayoutModel",
            "_view_count": null,
            "_view_module": "@jupyter-widgets/base",
            "_view_module_version": "1.2.0",
            "_view_name": "LayoutView",
            "align_content": null,
            "align_items": null,
            "align_self": null,
            "border": null,
            "bottom": null,
            "display": null,
            "flex": null,
            "flex_flow": null,
            "grid_area": null,
            "grid_auto_columns": null,
            "grid_auto_flow": null,
            "grid_auto_rows": null,
            "grid_column": null,
            "grid_gap": null,
            "grid_row": null,
            "grid_template_areas": null,
            "grid_template_columns": null,
            "grid_template_rows": null,
            "height": null,
            "justify_content": null,
            "justify_items": null,
            "left": null,
            "margin": null,
            "max_height": null,
            "max_width": null,
            "min_height": null,
            "min_width": null,
            "object_fit": null,
            "object_position": null,
            "order": null,
            "overflow": null,
            "overflow_x": null,
            "overflow_y": null,
            "padding": null,
            "right": null,
            "top": null,
            "visibility": null,
            "width": null
          }
        },
        "4c5dd9f52e544e8e98d53d5afc3efc01": {
          "model_module": "@jupyter-widgets/base",
          "model_module_version": "1.2.0",
          "model_name": "LayoutModel",
          "state": {
            "_model_module": "@jupyter-widgets/base",
            "_model_module_version": "1.2.0",
            "_model_name": "LayoutModel",
            "_view_count": null,
            "_view_module": "@jupyter-widgets/base",
            "_view_module_version": "1.2.0",
            "_view_name": "LayoutView",
            "align_content": null,
            "align_items": null,
            "align_self": null,
            "border": null,
            "bottom": null,
            "display": null,
            "flex": null,
            "flex_flow": null,
            "grid_area": null,
            "grid_auto_columns": null,
            "grid_auto_flow": null,
            "grid_auto_rows": null,
            "grid_column": null,
            "grid_gap": null,
            "grid_row": null,
            "grid_template_areas": null,
            "grid_template_columns": null,
            "grid_template_rows": null,
            "height": null,
            "justify_content": null,
            "justify_items": null,
            "left": null,
            "margin": null,
            "max_height": null,
            "max_width": null,
            "min_height": null,
            "min_width": null,
            "object_fit": null,
            "object_position": null,
            "order": null,
            "overflow": null,
            "overflow_x": null,
            "overflow_y": null,
            "padding": null,
            "right": null,
            "top": null,
            "visibility": null,
            "width": null
          }
        },
        "596631911a3d423a83002a3d3f391063": {
          "model_module": "@jupyter-widgets/controls",
          "model_module_version": "1.5.0",
          "model_name": "HTMLModel",
          "state": {
            "_dom_classes": [],
            "_model_module": "@jupyter-widgets/controls",
            "_model_module_version": "1.5.0",
            "_model_name": "HTMLModel",
            "_view_count": null,
            "_view_module": "@jupyter-widgets/controls",
            "_view_module_version": "1.5.0",
            "_view_name": "HTMLView",
            "description": "",
            "description_tooltip": null,
            "layout": "IPY_MODEL_4360fcf0f7424f6a9b075191ccefae32",
            "placeholder": "​",
            "style": "IPY_MODEL_fcd6e1eedf1b4e1c8886b064e3d2241b",
            "value": "Batches: 100%"
          }
        },
        "5969b67290074a44a2be4194187e1739": {
          "model_module": "@jupyter-widgets/controls",
          "model_module_version": "1.5.0",
          "model_name": "FloatProgressModel",
          "state": {
            "_dom_classes": [],
            "_model_module": "@jupyter-widgets/controls",
            "_model_module_version": "1.5.0",
            "_model_name": "FloatProgressModel",
            "_view_count": null,
            "_view_module": "@jupyter-widgets/controls",
            "_view_module_version": "1.5.0",
            "_view_name": "ProgressView",
            "bar_style": "success",
            "description": "",
            "description_tooltip": null,
            "layout": "IPY_MODEL_132710cc21dd44b28447ff61205ed09a",
            "max": 540,
            "min": 0,
            "orientation": "horizontal",
            "style": "IPY_MODEL_3faa1fc8f6c84cc88dbbc3f62c4d9777",
            "value": 540
          }
        },
        "5f560b24de7a44bfb2a8f33c16b589bc": {
          "model_module": "@jupyter-widgets/base",
          "model_module_version": "1.2.0",
          "model_name": "LayoutModel",
          "state": {
            "_model_module": "@jupyter-widgets/base",
            "_model_module_version": "1.2.0",
            "_model_name": "LayoutModel",
            "_view_count": null,
            "_view_module": "@jupyter-widgets/base",
            "_view_module_version": "1.2.0",
            "_view_name": "LayoutView",
            "align_content": null,
            "align_items": null,
            "align_self": null,
            "border": null,
            "bottom": null,
            "display": null,
            "flex": null,
            "flex_flow": null,
            "grid_area": null,
            "grid_auto_columns": null,
            "grid_auto_flow": null,
            "grid_auto_rows": null,
            "grid_column": null,
            "grid_gap": null,
            "grid_row": null,
            "grid_template_areas": null,
            "grid_template_columns": null,
            "grid_template_rows": null,
            "height": null,
            "justify_content": null,
            "justify_items": null,
            "left": null,
            "margin": null,
            "max_height": null,
            "max_width": null,
            "min_height": null,
            "min_width": null,
            "object_fit": null,
            "object_position": null,
            "order": null,
            "overflow": null,
            "overflow_x": null,
            "overflow_y": null,
            "padding": null,
            "right": null,
            "top": null,
            "visibility": null,
            "width": null
          }
        },
        "68ebf1f5d6164539b4c2adc080060e99": {
          "model_module": "@jupyter-widgets/controls",
          "model_module_version": "1.5.0",
          "model_name": "HTMLModel",
          "state": {
            "_dom_classes": [],
            "_model_module": "@jupyter-widgets/controls",
            "_model_module_version": "1.5.0",
            "_model_name": "HTMLModel",
            "_view_count": null,
            "_view_module": "@jupyter-widgets/controls",
            "_view_module_version": "1.5.0",
            "_view_name": "HTMLView",
            "description": "",
            "description_tooltip": null,
            "layout": "IPY_MODEL_4c5dd9f52e544e8e98d53d5afc3efc01",
            "placeholder": "​",
            "style": "IPY_MODEL_2dc60619a7a749bfa13ad7e0b8fdafc4",
            "value": " 17276/17276 [00:40&lt;00:00, 377.64it/s]"
          }
        },
        "7195e30de4c34743a554d3da0502f779": {
          "model_module": "@jupyter-widgets/controls",
          "model_module_version": "1.5.0",
          "model_name": "HBoxModel",
          "state": {
            "_dom_classes": [],
            "_model_module": "@jupyter-widgets/controls",
            "_model_module_version": "1.5.0",
            "_model_name": "HBoxModel",
            "_view_count": null,
            "_view_module": "@jupyter-widgets/controls",
            "_view_module_version": "1.5.0",
            "_view_name": "HBoxView",
            "box_style": "",
            "children": [
              "IPY_MODEL_596631911a3d423a83002a3d3f391063",
              "IPY_MODEL_5969b67290074a44a2be4194187e1739",
              "IPY_MODEL_102ea82cec774572bc17fc268884596e"
            ],
            "layout": "IPY_MODEL_980f34af61104d5b86056cc8326ca5dd"
          }
        },
        "7b74fdbdab4a4f49b71f40e7d7aad387": {
          "model_module": "@jupyter-widgets/base",
          "model_module_version": "1.2.0",
          "model_name": "LayoutModel",
          "state": {
            "_model_module": "@jupyter-widgets/base",
            "_model_module_version": "1.2.0",
            "_model_name": "LayoutModel",
            "_view_count": null,
            "_view_module": "@jupyter-widgets/base",
            "_view_module_version": "1.2.0",
            "_view_name": "LayoutView",
            "align_content": null,
            "align_items": null,
            "align_self": null,
            "border": null,
            "bottom": null,
            "display": null,
            "flex": null,
            "flex_flow": null,
            "grid_area": null,
            "grid_auto_columns": null,
            "grid_auto_flow": null,
            "grid_auto_rows": null,
            "grid_column": null,
            "grid_gap": null,
            "grid_row": null,
            "grid_template_areas": null,
            "grid_template_columns": null,
            "grid_template_rows": null,
            "height": null,
            "justify_content": null,
            "justify_items": null,
            "left": null,
            "margin": null,
            "max_height": null,
            "max_width": null,
            "min_height": null,
            "min_width": null,
            "object_fit": null,
            "object_position": null,
            "order": null,
            "overflow": null,
            "overflow_x": null,
            "overflow_y": null,
            "padding": null,
            "right": null,
            "top": null,
            "visibility": null,
            "width": null
          }
        },
        "8850a13c22884d93863ef97667ede3c3": {
          "model_module": "@jupyter-widgets/controls",
          "model_module_version": "1.5.0",
          "model_name": "FloatProgressModel",
          "state": {
            "_dom_classes": [],
            "_model_module": "@jupyter-widgets/controls",
            "_model_module_version": "1.5.0",
            "_model_name": "FloatProgressModel",
            "_view_count": null,
            "_view_module": "@jupyter-widgets/controls",
            "_view_module_version": "1.5.0",
            "_view_name": "ProgressView",
            "bar_style": "success",
            "description": "",
            "description_tooltip": null,
            "layout": "IPY_MODEL_b0c7ebfbae504d009f45b719bf24071d",
            "max": 17276,
            "min": 0,
            "orientation": "horizontal",
            "style": "IPY_MODEL_0584c95b01804ca181115153bc0f664d",
            "value": 17276
          }
        },
        "937364f588cc45fcbd1ac5ad85c5fda7": {
          "model_module": "@jupyter-widgets/controls",
          "model_module_version": "1.5.0",
          "model_name": "HTMLModel",
          "state": {
            "_dom_classes": [],
            "_model_module": "@jupyter-widgets/controls",
            "_model_module_version": "1.5.0",
            "_model_name": "HTMLModel",
            "_view_count": null,
            "_view_module": "@jupyter-widgets/controls",
            "_view_module_version": "1.5.0",
            "_view_name": "HTMLView",
            "description": "",
            "description_tooltip": null,
            "layout": "IPY_MODEL_dacc38680c3e46759109023ffaba74a7",
            "placeholder": "​",
            "style": "IPY_MODEL_29d4e4847c1e4c13b6d02d8484de5104",
            "value": "Pandas Apply: 100%"
          }
        },
        "980f34af61104d5b86056cc8326ca5dd": {
          "model_module": "@jupyter-widgets/base",
          "model_module_version": "1.2.0",
          "model_name": "LayoutModel",
          "state": {
            "_model_module": "@jupyter-widgets/base",
            "_model_module_version": "1.2.0",
            "_model_name": "LayoutModel",
            "_view_count": null,
            "_view_module": "@jupyter-widgets/base",
            "_view_module_version": "1.2.0",
            "_view_name": "LayoutView",
            "align_content": null,
            "align_items": null,
            "align_self": null,
            "border": null,
            "bottom": null,
            "display": null,
            "flex": null,
            "flex_flow": null,
            "grid_area": null,
            "grid_auto_columns": null,
            "grid_auto_flow": null,
            "grid_auto_rows": null,
            "grid_column": null,
            "grid_gap": null,
            "grid_row": null,
            "grid_template_areas": null,
            "grid_template_columns": null,
            "grid_template_rows": null,
            "height": null,
            "justify_content": null,
            "justify_items": null,
            "left": null,
            "margin": null,
            "max_height": null,
            "max_width": null,
            "min_height": null,
            "min_width": null,
            "object_fit": null,
            "object_position": null,
            "order": null,
            "overflow": null,
            "overflow_x": null,
            "overflow_y": null,
            "padding": null,
            "right": null,
            "top": null,
            "visibility": null,
            "width": null
          }
        },
        "a3549628f2e141ffa270d81a963b7ae4": {
          "model_module": "@jupyter-widgets/controls",
          "model_module_version": "1.5.0",
          "model_name": "HBoxModel",
          "state": {
            "_dom_classes": [],
            "_model_module": "@jupyter-widgets/controls",
            "_model_module_version": "1.5.0",
            "_model_name": "HBoxModel",
            "_view_count": null,
            "_view_module": "@jupyter-widgets/controls",
            "_view_module_version": "1.5.0",
            "_view_name": "HBoxView",
            "box_style": "",
            "children": [
              "IPY_MODEL_937364f588cc45fcbd1ac5ad85c5fda7",
              "IPY_MODEL_8850a13c22884d93863ef97667ede3c3",
              "IPY_MODEL_2db404f7c3074134b1796eb2e243f37e"
            ],
            "layout": "IPY_MODEL_7b74fdbdab4a4f49b71f40e7d7aad387"
          }
        },
        "b0c7ebfbae504d009f45b719bf24071d": {
          "model_module": "@jupyter-widgets/base",
          "model_module_version": "1.2.0",
          "model_name": "LayoutModel",
          "state": {
            "_model_module": "@jupyter-widgets/base",
            "_model_module_version": "1.2.0",
            "_model_name": "LayoutModel",
            "_view_count": null,
            "_view_module": "@jupyter-widgets/base",
            "_view_module_version": "1.2.0",
            "_view_name": "LayoutView",
            "align_content": null,
            "align_items": null,
            "align_self": null,
            "border": null,
            "bottom": null,
            "display": null,
            "flex": null,
            "flex_flow": null,
            "grid_area": null,
            "grid_auto_columns": null,
            "grid_auto_flow": null,
            "grid_auto_rows": null,
            "grid_column": null,
            "grid_gap": null,
            "grid_row": null,
            "grid_template_areas": null,
            "grid_template_columns": null,
            "grid_template_rows": null,
            "height": null,
            "justify_content": null,
            "justify_items": null,
            "left": null,
            "margin": null,
            "max_height": null,
            "max_width": null,
            "min_height": null,
            "min_width": null,
            "object_fit": null,
            "object_position": null,
            "order": null,
            "overflow": null,
            "overflow_x": null,
            "overflow_y": null,
            "padding": null,
            "right": null,
            "top": null,
            "visibility": null,
            "width": null
          }
        },
        "b86ef7ed03434563b5f202a3c492a7e1": {
          "model_module": "@jupyter-widgets/controls",
          "model_module_version": "1.5.0",
          "model_name": "FloatProgressModel",
          "state": {
            "_dom_classes": [],
            "_model_module": "@jupyter-widgets/controls",
            "_model_module_version": "1.5.0",
            "_model_name": "FloatProgressModel",
            "_view_count": null,
            "_view_module": "@jupyter-widgets/controls",
            "_view_module_version": "1.5.0",
            "_view_name": "ProgressView",
            "bar_style": "success",
            "description": "",
            "description_tooltip": null,
            "layout": "IPY_MODEL_1a82c669c340421eae351a3cff70bb45",
            "max": 17276,
            "min": 0,
            "orientation": "horizontal",
            "style": "IPY_MODEL_ca0660a5d79c4e9596b3665361044d9a",
            "value": 17276
          }
        },
        "ca0660a5d79c4e9596b3665361044d9a": {
          "model_module": "@jupyter-widgets/controls",
          "model_module_version": "1.5.0",
          "model_name": "ProgressStyleModel",
          "state": {
            "_model_module": "@jupyter-widgets/controls",
            "_model_module_version": "1.5.0",
            "_model_name": "ProgressStyleModel",
            "_view_count": null,
            "_view_module": "@jupyter-widgets/base",
            "_view_module_version": "1.2.0",
            "_view_name": "StyleView",
            "bar_color": null,
            "description_width": ""
          }
        },
        "cb4ab7de0897412f9d79cac2a68419ab": {
          "model_module": "@jupyter-widgets/base",
          "model_module_version": "1.2.0",
          "model_name": "LayoutModel",
          "state": {
            "_model_module": "@jupyter-widgets/base",
            "_model_module_version": "1.2.0",
            "_model_name": "LayoutModel",
            "_view_count": null,
            "_view_module": "@jupyter-widgets/base",
            "_view_module_version": "1.2.0",
            "_view_name": "LayoutView",
            "align_content": null,
            "align_items": null,
            "align_self": null,
            "border": null,
            "bottom": null,
            "display": null,
            "flex": null,
            "flex_flow": null,
            "grid_area": null,
            "grid_auto_columns": null,
            "grid_auto_flow": null,
            "grid_auto_rows": null,
            "grid_column": null,
            "grid_gap": null,
            "grid_row": null,
            "grid_template_areas": null,
            "grid_template_columns": null,
            "grid_template_rows": null,
            "height": null,
            "justify_content": null,
            "justify_items": null,
            "left": null,
            "margin": null,
            "max_height": null,
            "max_width": null,
            "min_height": null,
            "min_width": null,
            "object_fit": null,
            "object_position": null,
            "order": null,
            "overflow": null,
            "overflow_x": null,
            "overflow_y": null,
            "padding": null,
            "right": null,
            "top": null,
            "visibility": null,
            "width": null
          }
        },
        "d5a5df010ab9437394a6ddf02cb5f597": {
          "model_module": "@jupyter-widgets/controls",
          "model_module_version": "1.5.0",
          "model_name": "DescriptionStyleModel",
          "state": {
            "_model_module": "@jupyter-widgets/controls",
            "_model_module_version": "1.5.0",
            "_model_name": "DescriptionStyleModel",
            "_view_count": null,
            "_view_module": "@jupyter-widgets/base",
            "_view_module_version": "1.2.0",
            "_view_name": "StyleView",
            "description_width": ""
          }
        },
        "da9319509b984ffb9bf527a35ddd1f5c": {
          "model_module": "@jupyter-widgets/base",
          "model_module_version": "1.2.0",
          "model_name": "LayoutModel",
          "state": {
            "_model_module": "@jupyter-widgets/base",
            "_model_module_version": "1.2.0",
            "_model_name": "LayoutModel",
            "_view_count": null,
            "_view_module": "@jupyter-widgets/base",
            "_view_module_version": "1.2.0",
            "_view_name": "LayoutView",
            "align_content": null,
            "align_items": null,
            "align_self": null,
            "border": null,
            "bottom": null,
            "display": null,
            "flex": null,
            "flex_flow": null,
            "grid_area": null,
            "grid_auto_columns": null,
            "grid_auto_flow": null,
            "grid_auto_rows": null,
            "grid_column": null,
            "grid_gap": null,
            "grid_row": null,
            "grid_template_areas": null,
            "grid_template_columns": null,
            "grid_template_rows": null,
            "height": null,
            "justify_content": null,
            "justify_items": null,
            "left": null,
            "margin": null,
            "max_height": null,
            "max_width": null,
            "min_height": null,
            "min_width": null,
            "object_fit": null,
            "object_position": null,
            "order": null,
            "overflow": null,
            "overflow_x": null,
            "overflow_y": null,
            "padding": null,
            "right": null,
            "top": null,
            "visibility": null,
            "width": null
          }
        },
        "dacc38680c3e46759109023ffaba74a7": {
          "model_module": "@jupyter-widgets/base",
          "model_module_version": "1.2.0",
          "model_name": "LayoutModel",
          "state": {
            "_model_module": "@jupyter-widgets/base",
            "_model_module_version": "1.2.0",
            "_model_name": "LayoutModel",
            "_view_count": null,
            "_view_module": "@jupyter-widgets/base",
            "_view_module_version": "1.2.0",
            "_view_name": "LayoutView",
            "align_content": null,
            "align_items": null,
            "align_self": null,
            "border": null,
            "bottom": null,
            "display": null,
            "flex": null,
            "flex_flow": null,
            "grid_area": null,
            "grid_auto_columns": null,
            "grid_auto_flow": null,
            "grid_auto_rows": null,
            "grid_column": null,
            "grid_gap": null,
            "grid_row": null,
            "grid_template_areas": null,
            "grid_template_columns": null,
            "grid_template_rows": null,
            "height": null,
            "justify_content": null,
            "justify_items": null,
            "left": null,
            "margin": null,
            "max_height": null,
            "max_width": null,
            "min_height": null,
            "min_width": null,
            "object_fit": null,
            "object_position": null,
            "order": null,
            "overflow": null,
            "overflow_x": null,
            "overflow_y": null,
            "padding": null,
            "right": null,
            "top": null,
            "visibility": null,
            "width": null
          }
        },
        "fcd6e1eedf1b4e1c8886b064e3d2241b": {
          "model_module": "@jupyter-widgets/controls",
          "model_module_version": "1.5.0",
          "model_name": "DescriptionStyleModel",
          "state": {
            "_model_module": "@jupyter-widgets/controls",
            "_model_module_version": "1.5.0",
            "_model_name": "DescriptionStyleModel",
            "_view_count": null,
            "_view_module": "@jupyter-widgets/base",
            "_view_module_version": "1.2.0",
            "_view_name": "StyleView",
            "description_width": ""
          }
        }
      }
    }
  },
  "nbformat": 4,
  "nbformat_minor": 0
}
