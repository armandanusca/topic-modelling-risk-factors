{
 "cells": [
  {
   "cell_type": "markdown",
   "metadata": {},
   "source": [
    "# Generate a dataset in the form of a .csv file from MongoDB instance running locally"
   ]
  },
  {
   "cell_type": "code",
   "execution_count": null,
   "metadata": {},
   "outputs": [],
   "source": [
    "import pandas as pd\n",
    "from pymongo import MongoClient\n"
   ]
  },
  {
   "cell_type": "code",
   "execution_count": null,
   "metadata": {},
   "outputs": [],
   "source": [
    "small_dataset = True  # Sampling the dataset for training and testing purposes - to support systems with lowered performance\n",
    "sample_size = 10000\n",
    "start_year = '07'\n",
    "end_year = '22'\n",
    "size_cutoff = 220000  # Maximum value: 740000\n"
   ]
  },
  {
   "cell_type": "code",
   "execution_count": null,
   "metadata": {},
   "outputs": [],
   "source": [
    "# Connect to local instance of MongoDB\n",
    "client = MongoClient('127.0.0.1', 27017)\n",
    "db = client.frtp\n",
    "collection = db.documents\n"
   ]
  },
  {
   "cell_type": "code",
   "execution_count": null,
   "metadata": {},
   "outputs": [],
   "source": [
    "# Extract all the data available with specific restrictions\n",
    "result = collection.find({\n",
    "    \"year\": {\n",
    "        '$lt': end_year,\n",
    "        '$gte': start_year\n",
    "    },\n",
    "    \"size\": {\n",
    "        '$lt': size_cutoff\n",
    "    }\n",
    "})\n"
   ]
  },
  {
   "cell_type": "code",
   "execution_count": null,
   "metadata": {},
   "outputs": [],
   "source": [
    "# Save the data ready for Drive upload\n",
    "df = pd.DataFrame(list(result))\n",
    "df['year'] = pd.to_datetime(df['year'], format='%y')\n",
    "if small_dataset:\n",
    "    df = df.sample(n=sample_size)\n",
    "    df.to_csv(f'collab_dataset_small_{start_year}_{end_year}_<{size_cutoff}.csv')\n",
    "else:\n",
    "    df.to_csv(f'collab_dataset_{start_year}_{end_year}_<{size_cutoff}.csv')\n"
   ]
  }
 ],
 "metadata": {
  "interpreter": {
   "hash": "3f61482472b09615c3446c1e6ecb22f71d2d418762d46ce795b41e0a6652d810"
  },
  "kernelspec": {
   "display_name": "Python 3.9.10 ('.venv': venv)",
   "language": "python",
   "name": "python3"
  },
  "language_info": {
   "codemirror_mode": {
    "name": "ipython",
    "version": 3
   },
   "file_extension": ".py",
   "mimetype": "text/x-python",
   "name": "python",
   "nbconvert_exporter": "python",
   "pygments_lexer": "ipython3",
   "version": "3.9.10"
  },
  "orig_nbformat": 4
 },
 "nbformat": 4,
 "nbformat_minor": 2
}
