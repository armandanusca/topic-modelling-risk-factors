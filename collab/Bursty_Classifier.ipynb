{
 "cells": [
  {
   "cell_type": "code",
   "execution_count": null,
   "metadata": {
    "colab": {
     "base_uri": "https://localhost:8080/"
    },
    "id": "-gmwafj86KTX",
    "outputId": "295976c4-4373-45f6-83be-0328b6c475a6"
   },
   "outputs": [],
   "source": [
    "from google.colab import drive\n",
    "\n",
    "drive.mount(\"/content/drive\")"
   ]
  },
  {
   "cell_type": "code",
   "execution_count": null,
   "metadata": {
    "colab": {
     "base_uri": "https://localhost:8080/"
    },
    "id": "eo0CJXp78FqO",
    "outputId": "e8876f91-498f-4c88-f344-716cf45cef6c"
   },
   "outputs": [],
   "source": [
    "!pip install bertopic"
   ]
  },
  {
   "cell_type": "code",
   "execution_count": null,
   "metadata": {
    "id": "_nS7GDlV8Hlt"
   },
   "outputs": [],
   "source": [
    "from bertopic import BERTopic\n",
    "import pandas as pd\n",
    "from sklearn.preprocessing import OneHotEncoder\n",
    "from sklearn.compose import ColumnTransformer\n",
    "import numpy as np\n",
    "from sklearn.pipeline import make_pipeline\n",
    "from sklearn.preprocessing import StandardScaler\n",
    "from sklearn.impute import SimpleImputer\n",
    "from tqdm.notebook import trange\n",
    "from sklearn.metrics import classification_report\n",
    "from sklearn.svm import SVC\n",
    "import seaborn as sns\n",
    "import matplotlib.pyplot as plt"
   ]
  },
  {
   "cell_type": "code",
   "execution_count": null,
   "metadata": {
    "id": "Wp1FanzB7rPA"
   },
   "outputs": [],
   "source": [
    "topic_model = BERTopic.load(\n",
    "    \"/content/drive/MyDrive/Colab Notebooks/topic-modelling-risk-factors/models/BERTopic_model_collab_custom_default_default\"\n",
    ")"
   ]
  },
  {
   "cell_type": "code",
   "execution_count": null,
   "metadata": {
    "id": "2d2TxzUB-N-M"
   },
   "outputs": [],
   "source": [
    "input_term = \"tractor\""
   ]
  },
  {
   "cell_type": "code",
   "execution_count": null,
   "metadata": {
    "id": "JhBJttVM-KOX"
   },
   "outputs": [],
   "source": [
    "similar_topics, similarity = topic_model.find_topics(input_term, top_n=5)"
   ]
  },
  {
   "cell_type": "code",
   "execution_count": null,
   "metadata": {
    "colab": {
     "base_uri": "https://localhost:8080/"
    },
    "id": "rCbCNpI0_3R8",
    "outputId": "82fc4a1e-10c8-43ae-92be-ee32b18a3512"
   },
   "outputs": [],
   "source": [
    "similar_topics[0]"
   ]
  },
  {
   "cell_type": "code",
   "execution_count": null,
   "metadata": {
    "id": "05mRtA-_63RO"
   },
   "outputs": [],
   "source": [
    "# Uses saved DTM output stored on Drive\n",
    "topics_over_time = pd.read_csv(\n",
    "    \"/content/drive/MyDrive/Colab Notebooks/topic-modelling-risk-factors/results/DTM/DTM_collab_custom_default_default.csv\"\n",
    ")"
   ]
  },
  {
   "cell_type": "code",
   "execution_count": null,
   "metadata": {
    "colab": {
     "base_uri": "https://localhost:8080/"
    },
    "id": "l-jMBLKnBPeU",
    "outputId": "802934b3-808d-4669-91f1-668c8d50f4f3"
   },
   "outputs": [],
   "source": [
    "topics = topics_over_time[\"Topic\"].unique()\n",
    "len(topics)"
   ]
  },
  {
   "cell_type": "code",
   "execution_count": null,
   "metadata": {
    "colab": {
     "base_uri": "https://localhost:8080/"
    },
    "id": "Dn24c0R0BRpW",
    "outputId": "78907ef9-c75e-4aae-8edb-6277401fb993"
   },
   "outputs": [],
   "source": [
    "timestamps = topics_over_time[\"Timestamp\"].unique()\n",
    "len(timestamps)"
   ]
  },
  {
   "cell_type": "code",
   "execution_count": null,
   "metadata": {
    "id": "fNBWa3WrA5SL"
   },
   "outputs": [],
   "source": [
    "# Normalisation methods available: None | mean | min-max\n",
    "normalisation_method = None"
   ]
  },
  {
   "cell_type": "code",
   "execution_count": null,
   "metadata": {
    "id": "6oHZZkPWA1Jw"
   },
   "outputs": [],
   "source": [
    "topics_over_time = topics_over_time.sort_values(by=[\"Topic\", \"Timestamp\"])\n",
    "if normalisation_method == \"mean\":\n",
    "    topics_over_time[\"Frequency\"] = (\n",
    "        topics_over_time[\"Frequency\"] - topics_over_time[\"Frequency\"].mean()\n",
    "    ) / topics_over_time[\"Frequency\"].std()\n",
    "elif normalisation_method == \"min-max\":\n",
    "    topics_over_time[\"Frequency\"] = (\n",
    "        topics_over_time[\"Frequency\"] - topics_over_time[\"Frequency\"].min()\n",
    "    ) / (topics_over_time[\"Frequency\"].max() - topics_over_time[\"Frequency\"].min())"
   ]
  },
  {
   "cell_type": "code",
   "execution_count": null,
   "metadata": {
    "id": "FvR2ZlcNA3zs"
   },
   "outputs": [],
   "source": [
    "topics_over_time[\"Frequency_Next_Year\"] = topics_over_time.groupby(\"Topic\")[\n",
    "    \"Frequency\"\n",
    "].shift(-1)\n",
    "topics_over_time[\"Lag-1\"] = topics_over_time.groupby(\"Topic\")[\"Frequency\"].shift(1)\n",
    "topics_over_time[\"Diff-1\"] = topics_over_time.groupby(\"Topic\")[\"Frequency\"].diff(1)\n",
    "topics_over_time[\"Rolling-4\"] = (\n",
    "    topics_over_time.groupby(\"Topic\")[\"Frequency\"]\n",
    "    .rolling(4)\n",
    "    .mean()\n",
    "    .reset_index(level=0, drop=True)\n",
    ")\n",
    "topics_over_time[\"is_growing\"] = (\n",
    "    topics_over_time[\"Frequency_Next_Year\"] - topics_over_time[\"Frequency\"]\n",
    ") > 0"
   ]
  },
  {
   "cell_type": "code",
   "execution_count": null,
   "metadata": {
    "id": "a1Ev8eXe8yJC"
   },
   "outputs": [],
   "source": [
    "topics_over_time[\"Rolling-2\"] = (\n",
    "    topics_over_time.groupby(\"Topic\")[\"Frequency\"]\n",
    "    .rolling(2)\n",
    "    .mean()\n",
    "    .reset_index(level=0, drop=True)\n",
    ")\n",
    "topics_over_time[\"Significance\"] = (\n",
    "    topics_over_time.groupby(\"Topic\")[\"Frequency\"]\n",
    "    .rolling(1)\n",
    "    .mean()\n",
    "    .reset_index(level=0, drop=True)\n",
    ")\n",
    "topics_over_time[\"MACD\"] = topics_over_time[\"Rolling-4\"] - topics_over_time[\"Rolling-2\"]\n",
    "topics_over_time[\"Signal\"] = (\n",
    "    topics_over_time.groupby(\"Topic\")[\"MACD\"]\n",
    "    .rolling(1)\n",
    "    .mean()\n",
    "    .reset_index(level=0, drop=True)\n",
    ")\n",
    "topics_over_time[\"Hist\"] = topics_over_time[\"MACD\"] - topics_over_time[\"Signal\"]"
   ]
  },
  {
   "cell_type": "code",
   "execution_count": null,
   "metadata": {
    "colab": {
     "base_uri": "https://localhost:8080/",
     "height": 614
    },
    "id": "vH8H15mO1MRv",
    "outputId": "967b6674-97e3-4eab-8d95-8a795ce18f74"
   },
   "outputs": [],
   "source": [
    "f, ax = plt.subplots(figsize=(10, 8))\n",
    "corr = topics_over_time[[\"Topic\", \"Frequency\", \"Diff-1\", \"MACD\"]].corr()\n",
    "sns.heatmap(\n",
    "    corr,\n",
    "    mask=np.zeros_like(corr, dtype=np.bool),\n",
    "    cmap=sns.diverging_palette(220, 10, as_cmap=True),\n",
    "    square=True,\n",
    "    ax=ax,\n",
    ")"
   ]
  },
  {
   "cell_type": "code",
   "execution_count": null,
   "metadata": {
    "colab": {
     "base_uri": "https://localhost:8080/",
     "height": 542
    },
    "id": "dVmYUV2E5DyQ",
    "outputId": "fa7f6aa5-3d41-4952-f702-44a7743f02f8"
   },
   "outputs": [],
   "source": [
    "import plotly.express as px\n",
    "\n",
    "# plot_tot = topics_over_time[topics_over_time['Frequency'] < 50]\n",
    "fig = px.scatter_3d(\n",
    "    topics_over_time, x=\"MACD\", y=\"Frequency\", z=\"Diff-1\", color=\"is_growing\"\n",
    ")\n",
    "fig.show()"
   ]
  },
  {
   "cell_type": "code",
   "execution_count": null,
   "metadata": {
    "colab": {
     "base_uri": "https://localhost:8080/",
     "height": 505
    },
    "id": "8OCk1w0qBALP",
    "outputId": "8ffb0350-76ea-4f17-f0fa-e85665e2c6f5"
   },
   "outputs": [],
   "source": [
    "features_df = topics_over_time[\n",
    "    [\n",
    "        \"Timestamp\",\n",
    "        \"Topic\",\n",
    "        \"Frequency_Next_Year\",\n",
    "        \"Frequency\",\n",
    "        \"Lag-1\",\n",
    "        \"Diff-1\",\n",
    "        \"Rolling-4\",\n",
    "    ]\n",
    "]\n",
    "\n",
    "ct = ColumnTransformer(\n",
    "    [\n",
    "        (\n",
    "            \"one_hot_encoder\",\n",
    "            OneHotEncoder(categories=\"auto\", sparse=False),\n",
    "            [\"Timestamp\", \"Topic\"],\n",
    "        )\n",
    "    ],\n",
    "    remainder=\"passthrough\",\n",
    ")\n",
    "\n",
    "X = ct.fit_transform(features_df)\n",
    "features = []\n",
    "for year in timestamps:\n",
    "    features.append(f\"Is_Year_{year}\")\n",
    "for topic in topics:\n",
    "    features.append(f\"Is_Topic_{topic}\")\n",
    "features.extend([\"Frequency_Next_Year\", \"Frequency\", \"Lag-1\", \"Diff-1\", \"Rolling-4\"])\n",
    "one_hot_encoded_df = pd.DataFrame(X, columns=features)\n",
    "features.remove(\"Frequency_Next_Year\")\n",
    "one_hot_encoded_df"
   ]
  },
  {
   "cell_type": "code",
   "execution_count": null,
   "metadata": {
    "colab": {
     "base_uri": "https://localhost:8080/",
     "height": 505
    },
    "id": "lM8TdP6KC4gk",
    "outputId": "601f6710-ff3e-49dd-8342-2ab521c369c6"
   },
   "outputs": [],
   "source": [
    "one_hot_encoded_df[\"is_growing\"] = (\n",
    "    one_hot_encoded_df[\"Frequency_Next_Year\"] - one_hot_encoded_df[\"Frequency\"] > 0\n",
    ")\n",
    "one_hot_encoded_df"
   ]
  },
  {
   "cell_type": "code",
   "execution_count": null,
   "metadata": {
    "colab": {
     "base_uri": "https://localhost:8080/",
     "height": 1000,
     "referenced_widgets": [
      "f6b06b4286224d6095e85e024aab38f9",
      "beca31c3289642c0a9cf11eb5696aec8",
      "29274c9015304670b7548ed4e5e89feb",
      "639616a3359f4e0e94a720eb720cdee8",
      "dfa2b337d83e4ba39b6e30163dc38973",
      "8e270c4cdfd44b1da5cfd55c484ab4fe",
      "f3b3d10872394b4f91c6bcd86f240015",
      "97e8f255d8f64d02ae163e08001fffc1",
      "7ae280e007044329b12ee58afa1236e7",
      "5e49b7b4a60f49d5b01aef51c742ba6b",
      "02f60c962fe74913ad8fe55a8985be9c"
     ]
    },
    "id": "qRMmsd7_BLmE",
    "outputId": "aee21bdc-81fe-4551-e0ef-1767bedabf52"
   },
   "outputs": [],
   "source": [
    "shuffled_topics_over_time = one_hot_encoded_df.sample(frac=1)\n",
    "dataset_lenght = len(shuffled_topics_over_time)\n",
    "dataset_split = int(dataset_lenght / 10)\n",
    "\n",
    "best_r2 = -1\n",
    "sum_r2 = 0\n",
    "best_yval = None\n",
    "best_ypredicted = None\n",
    "\n",
    "for index in trange(10):\n",
    "    run_entry = {\"split_number\": (index + 1)}\n",
    "    train_df = shuffled_topics_over_time.iloc[\n",
    "        (index * dataset_split) : ((index + 1) * dataset_split)\n",
    "    ]\n",
    "    test_df = pd.concat(\n",
    "        [\n",
    "            shuffled_topics_over_time.iloc[0 : (index * dataset_split)],\n",
    "            shuffled_topics_over_time.iloc[((index + 1) * dataset_split) :],\n",
    "        ],\n",
    "        ignore_index=True,\n",
    "    )\n",
    "\n",
    "    # Data preparation\n",
    "    imputer = SimpleImputer()\n",
    "    train_df = train_df.dropna(subset=[\"Frequency_Next_Year\", \"is_growing\"])\n",
    "\n",
    "    x_training = imputer.fit_transform(train_df[features])\n",
    "    y_training = train_df[\"is_growing\"]\n",
    "    x_testing = imputer.transform(test_df[features])\n",
    "    y_testing = test_df[\"is_growing\"]\n",
    "\n",
    "    clf = make_pipeline(StandardScaler(), SVC(gamma=\"auto\"))\n",
    "    clf.fit(x_training, y_training)\n",
    "\n",
    "    y_pred = clf.predict(x_testing)\n",
    "    print(classification_report(y_testing, y_pred))"
   ]
  }
 ],
 "metadata": {
  "accelerator": "GPU",
  "colab": {
   "collapsed_sections": [],
   "name": "Bursty Classifier.ipynb",
   "provenance": []
  },
  "kernelspec": {
   "display_name": "Python 3",
   "name": "python3"
  },
  "language_info": {
   "name": "python"
  },
  "widgets": {
   "application/vnd.jupyter.widget-state+json": {
    "02f60c962fe74913ad8fe55a8985be9c": {
     "model_module": "@jupyter-widgets/base",
     "model_module_version": "1.2.0",
     "model_name": "LayoutModel",
     "state": {
      "_model_module": "@jupyter-widgets/base",
      "_model_module_version": "1.2.0",
      "_model_name": "LayoutModel",
      "_view_count": null,
      "_view_module": "@jupyter-widgets/base",
      "_view_module_version": "1.2.0",
      "_view_name": "LayoutView",
      "align_content": null,
      "align_items": null,
      "align_self": null,
      "border": null,
      "bottom": null,
      "display": null,
      "flex": null,
      "flex_flow": null,
      "grid_area": null,
      "grid_auto_columns": null,
      "grid_auto_flow": null,
      "grid_auto_rows": null,
      "grid_column": null,
      "grid_gap": null,
      "grid_row": null,
      "grid_template_areas": null,
      "grid_template_columns": null,
      "grid_template_rows": null,
      "height": null,
      "justify_content": null,
      "justify_items": null,
      "left": null,
      "margin": null,
      "max_height": null,
      "max_width": null,
      "min_height": null,
      "min_width": null,
      "object_fit": null,
      "object_position": null,
      "order": null,
      "overflow": null,
      "overflow_x": null,
      "overflow_y": null,
      "padding": null,
      "right": null,
      "top": null,
      "visibility": null,
      "width": null
     }
    },
    "29274c9015304670b7548ed4e5e89feb": {
     "model_module": "@jupyter-widgets/controls",
     "model_module_version": "1.5.0",
     "model_name": "HTMLModel",
     "state": {
      "_dom_classes": [],
      "_model_module": "@jupyter-widgets/controls",
      "_model_module_version": "1.5.0",
      "_model_name": "HTMLModel",
      "_view_count": null,
      "_view_module": "@jupyter-widgets/controls",
      "_view_module_version": "1.5.0",
      "_view_name": "HTMLView",
      "description": "",
      "description_tooltip": null,
      "layout": "IPY_MODEL_f3b3d10872394b4f91c6bcd86f240015",
      "placeholder": "​",
      "style": "IPY_MODEL_8e270c4cdfd44b1da5cfd55c484ab4fe",
      "value": "100%"
     }
    },
    "5e49b7b4a60f49d5b01aef51c742ba6b": {
     "model_module": "@jupyter-widgets/controls",
     "model_module_version": "1.5.0",
     "model_name": "DescriptionStyleModel",
     "state": {
      "_model_module": "@jupyter-widgets/controls",
      "_model_module_version": "1.5.0",
      "_model_name": "DescriptionStyleModel",
      "_view_count": null,
      "_view_module": "@jupyter-widgets/base",
      "_view_module_version": "1.2.0",
      "_view_name": "StyleView",
      "description_width": ""
     }
    },
    "639616a3359f4e0e94a720eb720cdee8": {
     "model_module": "@jupyter-widgets/controls",
     "model_module_version": "1.5.0",
     "model_name": "FloatProgressModel",
     "state": {
      "_dom_classes": [],
      "_model_module": "@jupyter-widgets/controls",
      "_model_module_version": "1.5.0",
      "_model_name": "FloatProgressModel",
      "_view_count": null,
      "_view_module": "@jupyter-widgets/controls",
      "_view_module_version": "1.5.0",
      "_view_name": "ProgressView",
      "bar_style": "success",
      "description": "",
      "description_tooltip": null,
      "layout": "IPY_MODEL_7ae280e007044329b12ee58afa1236e7",
      "max": 10,
      "min": 0,
      "orientation": "horizontal",
      "style": "IPY_MODEL_97e8f255d8f64d02ae163e08001fffc1",
      "value": 10
     }
    },
    "7ae280e007044329b12ee58afa1236e7": {
     "model_module": "@jupyter-widgets/base",
     "model_module_version": "1.2.0",
     "model_name": "LayoutModel",
     "state": {
      "_model_module": "@jupyter-widgets/base",
      "_model_module_version": "1.2.0",
      "_model_name": "LayoutModel",
      "_view_count": null,
      "_view_module": "@jupyter-widgets/base",
      "_view_module_version": "1.2.0",
      "_view_name": "LayoutView",
      "align_content": null,
      "align_items": null,
      "align_self": null,
      "border": null,
      "bottom": null,
      "display": null,
      "flex": null,
      "flex_flow": null,
      "grid_area": null,
      "grid_auto_columns": null,
      "grid_auto_flow": null,
      "grid_auto_rows": null,
      "grid_column": null,
      "grid_gap": null,
      "grid_row": null,
      "grid_template_areas": null,
      "grid_template_columns": null,
      "grid_template_rows": null,
      "height": null,
      "justify_content": null,
      "justify_items": null,
      "left": null,
      "margin": null,
      "max_height": null,
      "max_width": null,
      "min_height": null,
      "min_width": null,
      "object_fit": null,
      "object_position": null,
      "order": null,
      "overflow": null,
      "overflow_x": null,
      "overflow_y": null,
      "padding": null,
      "right": null,
      "top": null,
      "visibility": null,
      "width": null
     }
    },
    "8e270c4cdfd44b1da5cfd55c484ab4fe": {
     "model_module": "@jupyter-widgets/controls",
     "model_module_version": "1.5.0",
     "model_name": "DescriptionStyleModel",
     "state": {
      "_model_module": "@jupyter-widgets/controls",
      "_model_module_version": "1.5.0",
      "_model_name": "DescriptionStyleModel",
      "_view_count": null,
      "_view_module": "@jupyter-widgets/base",
      "_view_module_version": "1.2.0",
      "_view_name": "StyleView",
      "description_width": ""
     }
    },
    "97e8f255d8f64d02ae163e08001fffc1": {
     "model_module": "@jupyter-widgets/controls",
     "model_module_version": "1.5.0",
     "model_name": "ProgressStyleModel",
     "state": {
      "_model_module": "@jupyter-widgets/controls",
      "_model_module_version": "1.5.0",
      "_model_name": "ProgressStyleModel",
      "_view_count": null,
      "_view_module": "@jupyter-widgets/base",
      "_view_module_version": "1.2.0",
      "_view_name": "StyleView",
      "bar_color": null,
      "description_width": ""
     }
    },
    "beca31c3289642c0a9cf11eb5696aec8": {
     "model_module": "@jupyter-widgets/base",
     "model_module_version": "1.2.0",
     "model_name": "LayoutModel",
     "state": {
      "_model_module": "@jupyter-widgets/base",
      "_model_module_version": "1.2.0",
      "_model_name": "LayoutModel",
      "_view_count": null,
      "_view_module": "@jupyter-widgets/base",
      "_view_module_version": "1.2.0",
      "_view_name": "LayoutView",
      "align_content": null,
      "align_items": null,
      "align_self": null,
      "border": null,
      "bottom": null,
      "display": null,
      "flex": null,
      "flex_flow": null,
      "grid_area": null,
      "grid_auto_columns": null,
      "grid_auto_flow": null,
      "grid_auto_rows": null,
      "grid_column": null,
      "grid_gap": null,
      "grid_row": null,
      "grid_template_areas": null,
      "grid_template_columns": null,
      "grid_template_rows": null,
      "height": null,
      "justify_content": null,
      "justify_items": null,
      "left": null,
      "margin": null,
      "max_height": null,
      "max_width": null,
      "min_height": null,
      "min_width": null,
      "object_fit": null,
      "object_position": null,
      "order": null,
      "overflow": null,
      "overflow_x": null,
      "overflow_y": null,
      "padding": null,
      "right": null,
      "top": null,
      "visibility": null,
      "width": null
     }
    },
    "dfa2b337d83e4ba39b6e30163dc38973": {
     "model_module": "@jupyter-widgets/controls",
     "model_module_version": "1.5.0",
     "model_name": "HTMLModel",
     "state": {
      "_dom_classes": [],
      "_model_module": "@jupyter-widgets/controls",
      "_model_module_version": "1.5.0",
      "_model_name": "HTMLModel",
      "_view_count": null,
      "_view_module": "@jupyter-widgets/controls",
      "_view_module_version": "1.5.0",
      "_view_name": "HTMLView",
      "description": "",
      "description_tooltip": null,
      "layout": "IPY_MODEL_02f60c962fe74913ad8fe55a8985be9c",
      "placeholder": "​",
      "style": "IPY_MODEL_5e49b7b4a60f49d5b01aef51c742ba6b",
      "value": " 10/10 [00:13&lt;00:00,  1.60s/it]"
     }
    },
    "f3b3d10872394b4f91c6bcd86f240015": {
     "model_module": "@jupyter-widgets/base",
     "model_module_version": "1.2.0",
     "model_name": "LayoutModel",
     "state": {
      "_model_module": "@jupyter-widgets/base",
      "_model_module_version": "1.2.0",
      "_model_name": "LayoutModel",
      "_view_count": null,
      "_view_module": "@jupyter-widgets/base",
      "_view_module_version": "1.2.0",
      "_view_name": "LayoutView",
      "align_content": null,
      "align_items": null,
      "align_self": null,
      "border": null,
      "bottom": null,
      "display": null,
      "flex": null,
      "flex_flow": null,
      "grid_area": null,
      "grid_auto_columns": null,
      "grid_auto_flow": null,
      "grid_auto_rows": null,
      "grid_column": null,
      "grid_gap": null,
      "grid_row": null,
      "grid_template_areas": null,
      "grid_template_columns": null,
      "grid_template_rows": null,
      "height": null,
      "justify_content": null,
      "justify_items": null,
      "left": null,
      "margin": null,
      "max_height": null,
      "max_width": null,
      "min_height": null,
      "min_width": null,
      "object_fit": null,
      "object_position": null,
      "order": null,
      "overflow": null,
      "overflow_x": null,
      "overflow_y": null,
      "padding": null,
      "right": null,
      "top": null,
      "visibility": null,
      "width": null
     }
    },
    "f6b06b4286224d6095e85e024aab38f9": {
     "model_module": "@jupyter-widgets/controls",
     "model_module_version": "1.5.0",
     "model_name": "HBoxModel",
     "state": {
      "_dom_classes": [],
      "_model_module": "@jupyter-widgets/controls",
      "_model_module_version": "1.5.0",
      "_model_name": "HBoxModel",
      "_view_count": null,
      "_view_module": "@jupyter-widgets/controls",
      "_view_module_version": "1.5.0",
      "_view_name": "HBoxView",
      "box_style": "",
      "children": [
       "IPY_MODEL_29274c9015304670b7548ed4e5e89feb",
       "IPY_MODEL_639616a3359f4e0e94a720eb720cdee8",
       "IPY_MODEL_dfa2b337d83e4ba39b6e30163dc38973"
      ],
      "layout": "IPY_MODEL_beca31c3289642c0a9cf11eb5696aec8"
     }
    }
   }
  }
 },
 "nbformat": 4,
 "nbformat_minor": 0
}
