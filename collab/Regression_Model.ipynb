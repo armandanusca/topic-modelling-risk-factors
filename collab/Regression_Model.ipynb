{
  "cells": [
    {
      "cell_type": "code",
      "execution_count": null,
      "metadata": {
        "id": "xV_Zy0Qz_kp9"
      },
      "outputs": [],
      "source": [
        "import random\n",
        "\n",
        "import pandas as pd\n",
        "from sklearn.ensemble import RandomForestRegressor\n",
        "from sklearn.impute import SimpleImputer\n",
        "from sklearn.metrics import mean_absolute_percentage_error, r2_score\n"
      ]
    },
    {
      "cell_type": "code",
      "execution_count": null,
      "metadata": {
        "colab": {
          "base_uri": "https://localhost:8080/"
        },
        "id": "WwTfEmJNB9Yr",
        "outputId": "15b511c0-3de0-4c36-b662-47b07b76a100"
      },
      "outputs": [],
      "source": [
        "from google.colab import drive\n",
        "drive.mount('/content/drive')\n"
      ]
    },
    {
      "cell_type": "code",
      "execution_count": null,
      "metadata": {
        "id": "jJ8Vc0-n_8HN"
      },
      "outputs": [],
      "source": [
        "topics_over_time = pd.read_csv(\n",
        "    '/content/drive/MyDrive/Colab Notebooks/DTM_collab_dataset_small_07_22_<220000_manual_sentence-transformers_default.csv')\n"
      ]
    },
    {
      "cell_type": "code",
      "execution_count": null,
      "metadata": {
        "id": "MD1wTAaY_uLu"
      },
      "outputs": [],
      "source": [
        "# Specifying how many values to predict\n",
        "time_step = 1\n",
        "topic_number = 10\n"
      ]
    },
    {
      "cell_type": "code",
      "execution_count": null,
      "metadata": {
        "colab": {
          "base_uri": "https://localhost:8080/"
        },
        "id": "T9nQPLISAIh4",
        "outputId": "f91f5d6c-2059-40ed-c4e2-e665dc8c6cf8"
      },
      "outputs": [],
      "source": [
        "topics_over_time.shape\n"
      ]
    },
    {
      "cell_type": "code",
      "execution_count": null,
      "metadata": {
        "id": "kiBAl6-UAMRJ"
      },
      "outputs": [],
      "source": [
        "topics_over_time = topics_over_time.sort_values(by=['Topic', 'Timestamp'])\n"
      ]
    },
    {
      "cell_type": "code",
      "execution_count": null,
      "metadata": {
        "id": "GgkrHD8pANaf"
      },
      "outputs": [],
      "source": [
        "topics_over_time['Frequency_Next_Year'] = topics_over_time.groupby('Topic')['Frequency'].shift(-1)\n",
        "topics_over_time['Lag-1'] = topics_over_time.groupby('Topic')['Frequency'].shift(1)\n",
        "topics_over_time['Diff-1'] = topics_over_time.groupby('Topic')['Frequency'].diff(1)\n",
        "topics_over_time['Rolling-4'] = topics_over_time.groupby(\n",
        "    'Topic')['Frequency'].rolling(4).mean().reset_index(level=0, drop=True)\n"
      ]
    },
    {
      "cell_type": "code",
      "execution_count": null,
      "metadata": {
        "colab": {
          "base_uri": "https://localhost:8080/",
          "height": 520
        },
        "id": "_ejr2y99AOX_",
        "outputId": "72bb6c57-8793-4447-d234-a6ce233c3177"
      },
      "outputs": [],
      "source": [
        "topics_over_time[topics_over_time['Topic']==topic_number]"
      ]
    },
    {
      "cell_type": "code",
      "execution_count": null,
      "metadata": {
        "id": "n9gHqDIcAPeh"
      },
      "outputs": [],
      "source": [
        "topics_index = set(topics_over_time['Topic'].unique())\n",
        "training_topics_index = random.sample(topics_index, 90)\n",
        "training = topics_over_time[topics_over_time['Topic'].isin(training_topics_index)]\n",
        "testing = topics_over_time[~(topics_over_time['Topic'].isin(training_topics_index))]\n",
        "training = training.dropna()\n"
      ]
    },
    {
      "cell_type": "code",
      "execution_count": null,
      "metadata": {
        "colab": {
          "base_uri": "https://localhost:8080/",
          "height": 206
        },
        "id": "FBEqpFDTAQpT",
        "outputId": "3f6728c5-ee70-46e5-9ca8-3debda615d0a"
      },
      "outputs": [],
      "source": [
        "training.head()"
      ]
    },
    {
      "cell_type": "code",
      "execution_count": null,
      "metadata": {
        "colab": {
          "base_uri": "https://localhost:8080/",
          "height": 206
        },
        "id": "FBRXL7VpATTt",
        "outputId": "ac4cf25a-a927-42f1-9791-df20df1bfe45"
      },
      "outputs": [],
      "source": [
        "testing.head()"
      ]
    },
    {
      "cell_type": "code",
      "execution_count": null,
      "metadata": {
        "colab": {
          "base_uri": "https://localhost:8080/",
          "height": 394
        },
        "id": "-TZfjKrIAZf7",
        "outputId": "ec83af08-f725-4f11-9548-63b0b07ddedb"
      },
      "outputs": [],
      "source": [
        "training[training['Topic'] == topic_number]\n"
      ]
    },
    {
      "cell_type": "code",
      "execution_count": null,
      "metadata": {
        "id": "RIGadVJlAnPl"
      },
      "outputs": [],
      "source": [
        "features = ['Frequency', 'Lag-1', 'Diff-1', 'Rolling-4']\n"
      ]
    },
    {
      "cell_type": "code",
      "execution_count": null,
      "metadata": {
        "colab": {
          "base_uri": "https://localhost:8080/"
        },
        "id": "45hPCkA5Ao9g",
        "outputId": "70dd3a0d-25ca-4054-a188-34879843a3d1"
      },
      "outputs": [],
      "source": [
        "imputer = SimpleImputer()\n",
        "Xtr = imputer.fit_transform(training[features])\n",
        "ytr = training['Frequency_Next_Year']\n",
        "\n",
        "mdl = RandomForestRegressor(n_estimators=600, random_state=0, n_jobs=16)\n",
        "mdl.fit(Xtr, ytr)\n"
      ]
    },
    {
      "cell_type": "code",
      "execution_count": null,
      "metadata": {
        "id": "P1o_VfkHAq2M"
      },
      "outputs": [],
      "source": [
        "testing = testing.dropna(subset=['Frequency_Next_Year'])\n",
        "Xval = imputer.transform(testing[features])\n",
        "yval = testing['Frequency_Next_Year']\n",
        "\n",
        "p = mdl.predict(Xval)\n"
      ]
    },
    {
      "cell_type": "code",
      "execution_count": null,
      "metadata": {
        "colab": {
          "base_uri": "https://localhost:8080/"
        },
        "id": "aDRDRXxiAr9O",
        "outputId": "4f155355-3883-4bac-de25-d1a9570242f4"
      },
      "outputs": [],
      "source": [
        "t_testing = testing.dropna()\n",
        "mean_absolute_percentage_error(t_testing['Frequency_Next_Year'], t_testing['Frequency'])\n"
      ]
    },
    {
      "cell_type": "code",
      "execution_count": null,
      "metadata": {
        "colab": {
          "base_uri": "https://localhost:8080/"
        },
        "id": "Up6rEgyWAtQC",
        "outputId": "6508c9ca-27b4-48c8-fded-8d7660320bd5"
      },
      "outputs": [],
      "source": [
        "print(mean_absolute_percentage_error(yval, p))\n",
        "print(yval[:10])\n",
        "print(p[:10])\n"
      ]
    },
    {
      "cell_type": "code",
      "execution_count": null,
      "metadata": {
        "colab": {
          "base_uri": "https://localhost:8080/"
        },
        "id": "exeLQcaBAuR8",
        "outputId": "c706fd29-05bd-4819-f788-314d8c2a8995"
      },
      "outputs": [],
      "source": [
        "r2_score(yval, p)\n"
      ]
    }
  ],
  "metadata": {
    "colab": {
      "name": "Regression Model.ipynb",
      "provenance": []
    },
    "kernelspec": {
      "display_name": "Python 3",
      "name": "python3"
    },
    "language_info": {
      "name": "python"
    }
  },
  "nbformat": 4,
  "nbformat_minor": 0
}
