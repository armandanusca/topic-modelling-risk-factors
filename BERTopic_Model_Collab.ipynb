{
  "cells": [
    {
      "cell_type": "markdown",
      "metadata": {
        "id": "a1Q4Nv0aOIjB"
      },
      "source": [
        "# BERTopic Model\n",
        "BERTopic is a topic modeling technique that leverages 🤗 transformers and c-TF-IDF to create dense clusters allowing for easily interpretable topics whilst keeping important words in the topic descriptions.\n",
        "### This will be used for the Topic Modelling phase\n",
        "It implements DTM and multiple visualisation for the topics extracted\n"
      ]
    },
    {
      "cell_type": "markdown",
      "metadata": {
        "id": "9f5KxMSNPKuP"
      },
      "source": [
        "Setup phase\n",
        "- Installing third-party libraries and extensions\n",
        "- Import data"
      ]
    },
    {
      "cell_type": "code",
      "execution_count": null,
      "metadata": {
        "id": "1CljqJnDEIGd"
      },
      "outputs": [],
      "source": [
        "import pandas as pd\n",
        "from bertopic import BERTopic\n",
        "from sentence_transformers import SentenceTransformer\n",
        "from copy import deepcopy\n",
        "import plotly.express as px\n",
        "import nltk\n",
        "from nltk.corpus import stopwords\n",
        "from keras.preprocessing.text import text_to_word_sequence\n",
        "import swifter\n",
        "from umap import UMAP\n",
        "from hdbscan import HDBSCAN\n",
        "# import tensorflow_hub\n",
        "import spacy\n",
        "# from flair.embeddings import TransformerDocumentEmbeddings"
      ]
    },
    {
      "cell_type": "code",
      "execution_count": null,
      "metadata": {
        "colab": {
          "base_uri": "https://localhost:8080/"
        },
        "id": "7vKo-uRkqGPp",
        "outputId": "5cc3aebe-3fe8-42f6-8a51-664855648fd9"
      },
      "outputs": [],
      "source": [
        "nltk.download('stopwords')"
      ]
    },
    {
      "cell_type": "markdown",
      "metadata": {
        "id": "m0mnO3omQ6l0"
      },
      "source": [
        "Adjust parameters"
      ]
    },
    {
      "cell_type": "code",
      "execution_count": null,
      "metadata": {
        "id": "uBgsQD3EQ963"
      },
      "outputs": [],
      "source": [
        "dataset = 'collab_test'\n",
        "# Available cleaning methods are:\n",
        "# - emma: The cleaning pipeline used by Emma Tattershall in the paper: \n",
        "#                     https://github.com/etattershall/burst-detection\n",
        "# - auto:\n",
        "# - manual:\n",
        "cleaning_method = 'manual'\n",
        "\n",
        "# Available cleaning methods are:\n",
        "# - sentence-transformers: https://www.sbert.net/docs/pretrained_models.html\n",
        "# - flair: using flair library to utilize any hugging face model available\n",
        "# - spacy: \n",
        "# - use: Universal Sentence Encoder from tensorflow\n",
        "embedding = 'sentence-transformers'\n",
        "\n",
        "# BERTopic parameter tuning\n",
        "parameters_str = f'{dataset}_{cleaning_method}_{embedding}'\n",
        "# Available hyperparameter tuning options:\n",
        "# - default : uses the default BERTopic configuration\n",
        "# - custom : uses separate submodules for each step of the algorithm\n",
        "#           it requires extra parameters to be set (default values for each \n",
        "#           parameter are the best based on the experiments ran)\n",
        "# - full : uses a breakdown of BERTopic to drill further down into the separate \n",
        "#          submodules for each step of the algorithm. (default values for each \n",
        "#          parameter are the best based on the experiments ran)\n",
        "model_complexity = 'custom'\n",
        "top_n_words = 15\n",
        "n_gram_range = (1, 3)\n"
      ]
    },
    {
      "cell_type": "code",
      "execution_count": null,
      "metadata": {
        "id": "ATrfN29VE5KJ"
      },
      "outputs": [],
      "source": [
        "df = pd.read_csv(f'{dataset}.csv')"
      ]
    },
    {
      "cell_type": "markdown",
      "metadata": {
        "id": "-oHU9CbyP5Fy"
      },
      "source": [
        "Cleaning the dataset"
      ]
    },
    {
      "cell_type": "code",
      "execution_count": null,
      "metadata": {
        "id": "DY7o_KqBr1zH"
      },
      "outputs": [],
      "source": [
        "# cleaning method - emma\n",
        "def get_stopwords():\n",
        "    stop = set(stopwords.words('english'))\n",
        "    stop = set([s.replace(\"'\", \"\") for s in stop])\n",
        "\n",
        "    # Add years to prevent spikes\n",
        "    for year in range(1900, 2020):\n",
        "        stop.add(str(year))\n",
        "\n",
        "    # Add small numbers\n",
        "    for num in range(0, 100):\n",
        "        if len(str(num)) < 2:\n",
        "            stop.add(str(num))\n",
        "            num = '0' + str(num)\n",
        "\n",
        "        stop.add(str(num))\n",
        "\n",
        "    # Add these extra stopwords to the list\n",
        "    # TODO: Look through the corpus and decide which are\n",
        "    # extra stopwords needed for this specific domain\n",
        "    extra = [\n",
        "        'use', 'using', 'uses', 'used', 'based', 'including', 'include',\n",
        "        'approach', 'factors', 'business', 'risk','factors16',\n",
        "        'wa', 'ha', 'doe', 'item', '1a', 'factor', '1b', '1aitem', '10-k', \n",
        "        'item','1arisk','factors11','1arisk','factors10k','factorsk13','could',\n",
        "        'factorsk10','may','looking','forward','statement'\n",
        "    ]\n",
        "\n",
        "    for number in range(1,300):\n",
        "      factor_string='factors'+str(number)\n",
        "      stop.add(factor_string)\n",
        "\n",
        "    for word in extra:\n",
        "      stop.add(word)\n",
        "\n",
        "    return stop"
      ]
    },
    {
      "cell_type": "code",
      "execution_count": null,
      "metadata": {
        "id": "FlrB9YWlpEjB"
      },
      "outputs": [],
      "source": [
        "# cleaning method - manual\n",
        "def get_stopwords():\n",
        "    stop = set(stopwords.words('english'))\n",
        "    stop = set([s.replace(\"'\", \"\") for s in stop])\n",
        "\n",
        "    # Add years to prevent spikes\n",
        "    for year in range(1900, 2020):\n",
        "        stop.add(str(year))\n",
        "\n",
        "    # Add small numbers\n",
        "    for num in range(0, 100):\n",
        "        if len(str(num)) < 2:\n",
        "            stop.add(str(num))\n",
        "            num = '0' + str(num)\n",
        "\n",
        "        stop.add(str(num))\n",
        "\n",
        "    # Add these extra stopwords to the list\n",
        "    # TODO: Look through the corpus and decide which are\n",
        "    # extra stopwords needed for this specific domain\n",
        "    extra = [\n",
        "        'use', 'using', 'uses', 'used', 'based', 'including', 'include',\n",
        "        'approach', 'factors', 'business', 'risk','factors16',\n",
        "        'wa', 'ha', 'doe', 'item', '1a', 'factor', '1b', '1aitem', '10-k', \n",
        "        'item','1arisk','factors11','1arisk','factors10k','factorsk13','could',\n",
        "        'factorsk10','may','looking','forward','statement'\n",
        "    ]\n",
        "\n",
        "    for number in range(1,300):\n",
        "      factor_string='factors'+str(number)\n",
        "      stop.add(factor_string)\n",
        "\n",
        "    for word in extra:\n",
        "      stop.add(word)\n",
        "\n",
        "    return stop"
      ]
    },
    {
      "cell_type": "code",
      "execution_count": null,
      "metadata": {
        "id": "EiPs6RtdpTEX"
      },
      "outputs": [],
      "source": [
        "# cleaning method - auto"
      ]
    },
    {
      "cell_type": "code",
      "execution_count": null,
      "metadata": {
        "colab": {
          "base_uri": "https://localhost:8080/",
          "height": 81,
          "referenced_widgets": [
            "3c35ce1e6be14ec68d632241115d931d",
            "1e63c34a364242d6b631df9687297db2",
            "b4d2359a0a7746cdb8ea0ecd77149a04",
            "67efcdccfb694304b8d74bbfde470cde",
            "339652059a4d4f62a3fe07023c9e8453",
            "77e5dffc88ad4781be8261660423e1a8",
            "6237bc4aa6e344d29adf19e3e8618585",
            "4cbca8f0a11242ba91088a9ab244034a",
            "e4a52e174cb1469085a64f9256045fb5",
            "a3d9671dc3834421a6305f6688161f9c",
            "548539d58751475b864aaa01e25fead9",
            "9f24f53710da4c9caed4b53231ddd9bd",
            "3669b289351c4002a4d1573cb88ced2f",
            "e9175a99f2014951aec1a8f895d8670f",
            "0acdf0c018f94d10b7f9bf2dba5b78a5",
            "da1b29c685454136b59e2119db192550",
            "2602829bda69403e95aabc64e19fee32",
            "b3d2db9e58534b88911fffab65e3cacc",
            "def7ce849a5947ebb5d952d00545a4bc",
            "d2e182d80588407f8940d08faacfa65c",
            "f0453248ecb44a7492e5109350b4943c",
            "5ad7dcd5006a4268b26f0b7f26851a64"
          ]
        },
        "id": "ik8de7uTreig",
        "outputId": "8f6f9eed-a393-4ffb-c996-f08f144c3bf7"
      },
      "outputs": [],
      "source": [
        "if cleaning_method == 'manual':\n",
        "  df['clean_text'] = df['text'].str.lower()\n",
        "  df['clean_text'] = df['clean_text'].swifter.apply(lambda x: ' '.join(\n",
        "      [word for word in text_to_word_sequence(x)]))\n",
        "  stop_words = get_stopwords()\n",
        "  df['clean_text'] = df['clean_text'].swifter.apply(lambda x: ' '.join(\n",
        "      [word for word in x.split() if word not in (stop_words)]))\n",
        "elif cleaning_method == 'emma':\n",
        "  print('Not implemented yet')\n",
        "else:\n",
        "  print('Not implemented yet')"
      ]
    },
    {
      "cell_type": "code",
      "execution_count": null,
      "metadata": {
        "id": "AVEp7EZ-E3lZ"
      },
      "outputs": [],
      "source": [
        "# Extracting the text with timestamps\n",
        "timestamps = df.year.to_list()\n",
        "text = df.clean_text.to_list()"
      ]
    },
    {
      "cell_type": "markdown",
      "metadata": {
        "id": "Smf7mB7rpz_I"
      },
      "source": [
        "Sentence embedding"
      ]
    },
    {
      "cell_type": "code",
      "execution_count": null,
      "metadata": {
        "id": "SzvXX8kdE9Gy"
      },
      "outputs": [],
      "source": [
        "if embedding == 'sentence-transformers':\n",
        "  embedding_model = SentenceTransformer(\"all-mpnet-base-v2\")\n",
        "elif embedding == 'flair':\n",
        "  embedding_model = TransformerDocumentEmbeddings(\n",
        "      'sentence-transformers/all-mpnet-base-v2')\n",
        "elif embedding == 'spacy':\n",
        "  spacy.prefer_gpu()\n",
        "  embedding_model = spacy.load(\"en_core_web_trf\", exclude=['tagger', 'parser', 'ner', \n",
        "                                             'attribute_ruler', 'lemmatizer'])\n",
        "elif embedding == 'use':\n",
        "  embedding_model = tensorflow_hub.load(\n",
        "      \"https://tfhub.dev/google/universal-sentence-encoder/4\")"
      ]
    },
    {
      "cell_type": "code",
      "execution_count": null,
      "metadata": {
        "colab": {
          "base_uri": "https://localhost:8080/"
        },
        "id": "T-8dExtzND2E",
        "outputId": "7ba0372a-f5d8-481f-9f27-075ea20de588"
      },
      "outputs": [],
      "source": [
        "if model_complexity == 'default':\n",
        "  topic_model = BERTopic(verbose=True, calculate_probabilities=True,\n",
        "                         language = \"english\", nr_topics=\"auto\", \n",
        "                         embedding_model=embedding_model)\n",
        "elif model_complexity == 'custom':\n",
        "  topic_model = BERTopic(verbose=True, n_gram_range=n_gram_range, \n",
        "                        calculate_probabilities=True, language = \"english\", \n",
        "                        nr_topics=\"auto\",low_memory=True,\n",
        "                         embedding_model=embedding_model)\n",
        "else:\n",
        "  umap_model = UMAP(n_neighbors=15, n_components=10, metric='cosine',\n",
        "                    low_memory=True)\n",
        "  hdbscan_model = HDBSCAN(min_cluster_size=10, metric='euclidean', \n",
        "                          prediction_data=True)\n",
        "  topic_model = BERTopic(verbose=True, n_gram_range=n_gram_range, \n",
        "                        calculate_probabilities=True,\n",
        "                        nr_topics=\"auto\",umap_model=umap_model,\n",
        "                        hdbscan_model=hdbscan_model,\n",
        "                        embedding_model=embedding_model)\n",
        "\n",
        "topics, probs = topic_model.fit_transform(text)"
      ]
    },
    {
      "cell_type": "code",
      "execution_count": null,
      "metadata": {
        "id": "xtwbr8KJNBoo"
      },
      "outputs": [],
      "source": [
        "topic_model.save(f\"BERTopic_model_{parameters_str}\")"
      ]
    },
    {
      "cell_type": "code",
      "execution_count": null,
      "metadata": {
        "id": "RAxBzlkVE_cH"
      },
      "outputs": [],
      "source": [
        "# Explore a topic\n",
        "topic_model.get_topic(21)"
      ]
    },
    {
      "cell_type": "code",
      "execution_count": null,
      "metadata": {
        "id": "vCTo9NgZFBJP"
      },
      "outputs": [],
      "source": [
        "# Overview of the topics\n",
        "topic_info = topic_model.get_topic_info()\n",
        "topic_info"
      ]
    },
    {
      "cell_type": "code",
      "execution_count": null,
      "metadata": {
        "id": "Rx1WL1QuFCPE"
      },
      "outputs": [],
      "source": [
        "topic_model.visualize_hierarchy()"
      ]
    },
    {
      "cell_type": "code",
      "execution_count": null,
      "metadata": {
        "id": "-gnAFtfUFCvJ"
      },
      "outputs": [],
      "source": [
        "topic_model.visualize_barchart()"
      ]
    },
    {
      "cell_type": "code",
      "execution_count": null,
      "metadata": {
        "id": "5ak4xjCHFFv0"
      },
      "outputs": [],
      "source": [
        "topic_model.visualize_heatmap()"
      ]
    },
    {
      "cell_type": "code",
      "execution_count": null,
      "metadata": {
        "id": "jkNgpFYVFG0q"
      },
      "outputs": [],
      "source": [
        "# topic_model.visualize_topics()"
      ]
    },
    {
      "cell_type": "markdown",
      "metadata": {
        "id": "IKWheuFOMQBp"
      },
      "source": [
        "DTM"
      ]
    },
    {
      "cell_type": "code",
      "execution_count": null,
      "metadata": {
        "id": "y8D7isawFIOz"
      },
      "outputs": [],
      "source": [
        "# Running DTM on the entire dataset\n",
        "topics_over_time = topic_model.topics_over_time(text, topics, timestamps)"
      ]
    },
    {
      "cell_type": "code",
      "execution_count": null,
      "metadata": {
        "id": "Xw091rocQUni"
      },
      "outputs": [],
      "source": [
        "topics_over_time.to_csv(f'DTM_{parameters_str}.csv')"
      ]
    },
    {
      "cell_type": "code",
      "execution_count": null,
      "metadata": {
        "id": "qucSJqqRFJdJ"
      },
      "outputs": [],
      "source": [
        "topics_over_time=topics_over_time[topics_over_time['Topic'] != -1]"
      ]
    },
    {
      "cell_type": "code",
      "execution_count": null,
      "metadata": {
        "id": "Lkp5XpUCFKc9"
      },
      "outputs": [],
      "source": [
        "# First 10 topics bases on frequency\n",
        "topics_over_time.head(10)"
      ]
    },
    {
      "cell_type": "code",
      "execution_count": null,
      "metadata": {
        "id": "S7dBW8SdFLgv"
      },
      "outputs": [],
      "source": [
        "topic_model.visualize_topics_over_time(topics_over_time,top_n_topics=10)"
      ]
    },
    {
      "cell_type": "code",
      "execution_count": null,
      "metadata": {
        "id": "kdHAW6FzFMz1"
      },
      "outputs": [],
      "source": [
        "topic_model.visualize_topics_over_time(topics_over_time)"
      ]
    },
    {
      "cell_type": "markdown",
      "metadata": {
        "id": "u1xbIaAmKO4l"
      },
      "source": [
        "YoY Changes in importance of topics extracted"
      ]
    },
    {
      "cell_type": "code",
      "execution_count": null,
      "metadata": {
        "id": "wQacIlrzFNgH"
      },
      "outputs": [],
      "source": [
        "topic_evolution = pd.DataFrame()\n",
        "timestamps_set = sorted(set(timestamps))\n",
        "for timestamp in timestamps_set:\n",
        "    temp_df = topics_over_time[topics_over_time['Timestamp'] == timestamp]\n",
        "    if topic_evolution.shape[0] == 0:\n",
        "        temp_df = temp_df[['Topic','Name','Words','Frequency']]\n",
        "        temp_df = temp_df.rename(columns={'Frequency':str(timestamp)})\n",
        "        topic_evolution = deepcopy(temp_df)\n",
        "    else:\n",
        "        temp_df = temp_df[['Topic','Frequency']]\n",
        "        temp_df = temp_df.rename(columns={'Frequency':str(timestamp)})\n",
        "        topic_evolution = topic_evolution.merge(temp_df,on='Topic',how='outer')"
      ]
    },
    {
      "cell_type": "code",
      "execution_count": null,
      "metadata": {
        "id": "mIGkv437FQGj"
      },
      "outputs": [],
      "source": [
        "topic_evolution = topic_evolution.fillna(0)"
      ]
    },
    {
      "cell_type": "code",
      "execution_count": null,
      "metadata": {
        "id": "NQ1S4iUrFRvx"
      },
      "outputs": [],
      "source": [
        "topic_evolution.head(10)"
      ]
    },
    {
      "cell_type": "code",
      "execution_count": null,
      "metadata": {
        "id": "-PumDlncFSX9"
      },
      "outputs": [],
      "source": [
        "columns_to_process = topic_evolution.columns.to_list()\n",
        "columns_to_process.remove('Topic')\n",
        "columns_to_process.remove('Name')\n",
        "columns_to_process.remove('Words')\n",
        "columns_to_process"
      ]
    },
    {
      "cell_type": "code",
      "execution_count": null,
      "metadata": {
        "id": "fPNrumI-FTq_"
      },
      "outputs": [],
      "source": [
        "for index in range(0,len(columns_to_process)-1):\n",
        "    new_column = columns_to_process[index+1].split('-')[0] + '-' + columns_to_process[index].split('-')[0]\n",
        "    topic_evolution[new_column] = topic_evolution[columns_to_process[index+1]] - topic_evolution[columns_to_process[index]]\n",
        "topic_evolution.head(10)"
      ]
    },
    {
      "cell_type": "code",
      "execution_count": null,
      "metadata": {
        "id": "WeKHQ4cvFVr_"
      },
      "outputs": [],
      "source": [
        "topics = topics_over_time.Topic.unique()\n",
        "change_in_topics = pd.DataFrame()\n",
        "for topic in topics:\n",
        "    topic_df = topics_over_time[topics_over_time['Topic'] == topic]\n",
        "    topic_df = topic_df.sort_values('Timestamp')\n",
        "    topic_df['Previous_Frequency'] = topic_df.Frequency.shift(1)\n",
        "    topic_df['Change'] = topic_df['Frequency'] - topic_df['Previous_Frequency']\n",
        "    max_freq = max(topic_df['Frequency'])\n",
        "    topic_df['%_Change'] = topic_df['Change']*100/max_freq\n",
        "    change_in_topics = change_in_topics.append(topic_df,ignore_index=True)\n",
        "change_in_topics = change_in_topics[change_in_topics['Topic'] != -1]\n",
        "change_in_topics = change_in_topics.dropna()\n",
        "change_in_topics = change_in_topics.groupby(by=['Topic','Timestamp']).agg({\n",
        "    'Frequency':'sum',\n",
        "    'Name':'count',\n",
        "    'Previous_Frequency':'sum',\n",
        "    'Change':'sum',\n",
        "    '%_Change':'mean',\n",
        "    'Words':' '.join\n",
        "}).reset_index()\n",
        "change_in_topics.head(10)"
      ]
    },
    {
      "cell_type": "code",
      "execution_count": null,
      "metadata": {
        "id": "rq7ZrZTsFXWB"
      },
      "outputs": [],
      "source": [
        "fig = px.line(change_in_topics, x=\"Timestamp\", y=\"Change\",color='Topic', title='YOY change in topic frequency')\n",
        "fig.show()"
      ]
    }
  ],
  "metadata": {
    "accelerator": "GPU",
    "colab": {
      "machine_shape": "hm",
      "name": "BERTopic_Model_Collab.ipynb",
      "provenance": []
    },
    "kernelspec": {
      "display_name": "Python 3",
      "name": "python3"
    },
    "language_info": {
      "codemirror_mode": {
        "name": "ipython",
        "version": 3
      },
      "file_extension": ".py",
      "mimetype": "text/x-python",
      "name": "python",
      "nbconvert_exporter": "python",
      "pygments_lexer": "ipython3",
      "version": "3.8.8"
    },
    "widgets": {
      "application/vnd.jupyter.widget-state+json": {
        "0acdf0c018f94d10b7f9bf2dba5b78a5": {
          "model_module": "@jupyter-widgets/controls",
          "model_module_version": "1.5.0",
          "model_name": "FloatProgressModel",
          "state": {
            "_dom_classes": [],
            "_model_module": "@jupyter-widgets/controls",
            "_model_module_version": "1.5.0",
            "_model_name": "FloatProgressModel",
            "_view_count": null,
            "_view_module": "@jupyter-widgets/controls",
            "_view_module_version": "1.5.0",
            "_view_name": "ProgressView",
            "bar_style": "success",
            "description": "",
            "description_tooltip": null,
            "layout": "IPY_MODEL_d2e182d80588407f8940d08faacfa65c",
            "max": 12674,
            "min": 0,
            "orientation": "horizontal",
            "style": "IPY_MODEL_def7ce849a5947ebb5d952d00545a4bc",
            "value": 12674
          }
        },
        "1e63c34a364242d6b631df9687297db2": {
          "model_module": "@jupyter-widgets/base",
          "model_module_version": "1.2.0",
          "model_name": "LayoutModel",
          "state": {
            "_model_module": "@jupyter-widgets/base",
            "_model_module_version": "1.2.0",
            "_model_name": "LayoutModel",
            "_view_count": null,
            "_view_module": "@jupyter-widgets/base",
            "_view_module_version": "1.2.0",
            "_view_name": "LayoutView",
            "align_content": null,
            "align_items": null,
            "align_self": null,
            "border": null,
            "bottom": null,
            "display": null,
            "flex": null,
            "flex_flow": null,
            "grid_area": null,
            "grid_auto_columns": null,
            "grid_auto_flow": null,
            "grid_auto_rows": null,
            "grid_column": null,
            "grid_gap": null,
            "grid_row": null,
            "grid_template_areas": null,
            "grid_template_columns": null,
            "grid_template_rows": null,
            "height": null,
            "justify_content": null,
            "justify_items": null,
            "left": null,
            "margin": null,
            "max_height": null,
            "max_width": null,
            "min_height": null,
            "min_width": null,
            "object_fit": null,
            "object_position": null,
            "order": null,
            "overflow": null,
            "overflow_x": null,
            "overflow_y": null,
            "padding": null,
            "right": null,
            "top": null,
            "visibility": null,
            "width": null
          }
        },
        "2602829bda69403e95aabc64e19fee32": {
          "model_module": "@jupyter-widgets/controls",
          "model_module_version": "1.5.0",
          "model_name": "DescriptionStyleModel",
          "state": {
            "_model_module": "@jupyter-widgets/controls",
            "_model_module_version": "1.5.0",
            "_model_name": "DescriptionStyleModel",
            "_view_count": null,
            "_view_module": "@jupyter-widgets/base",
            "_view_module_version": "1.2.0",
            "_view_name": "StyleView",
            "description_width": ""
          }
        },
        "339652059a4d4f62a3fe07023c9e8453": {
          "model_module": "@jupyter-widgets/controls",
          "model_module_version": "1.5.0",
          "model_name": "HTMLModel",
          "state": {
            "_dom_classes": [],
            "_model_module": "@jupyter-widgets/controls",
            "_model_module_version": "1.5.0",
            "_model_name": "HTMLModel",
            "_view_count": null,
            "_view_module": "@jupyter-widgets/controls",
            "_view_module_version": "1.5.0",
            "_view_name": "HTMLView",
            "description": "",
            "description_tooltip": null,
            "layout": "IPY_MODEL_548539d58751475b864aaa01e25fead9",
            "placeholder": "​",
            "style": "IPY_MODEL_a3d9671dc3834421a6305f6688161f9c",
            "value": " 12674/12674 [00:27&lt;00:00, 503.63it/s]"
          }
        },
        "3669b289351c4002a4d1573cb88ced2f": {
          "model_module": "@jupyter-widgets/base",
          "model_module_version": "1.2.0",
          "model_name": "LayoutModel",
          "state": {
            "_model_module": "@jupyter-widgets/base",
            "_model_module_version": "1.2.0",
            "_model_name": "LayoutModel",
            "_view_count": null,
            "_view_module": "@jupyter-widgets/base",
            "_view_module_version": "1.2.0",
            "_view_name": "LayoutView",
            "align_content": null,
            "align_items": null,
            "align_self": null,
            "border": null,
            "bottom": null,
            "display": null,
            "flex": null,
            "flex_flow": null,
            "grid_area": null,
            "grid_auto_columns": null,
            "grid_auto_flow": null,
            "grid_auto_rows": null,
            "grid_column": null,
            "grid_gap": null,
            "grid_row": null,
            "grid_template_areas": null,
            "grid_template_columns": null,
            "grid_template_rows": null,
            "height": null,
            "justify_content": null,
            "justify_items": null,
            "left": null,
            "margin": null,
            "max_height": null,
            "max_width": null,
            "min_height": null,
            "min_width": null,
            "object_fit": null,
            "object_position": null,
            "order": null,
            "overflow": null,
            "overflow_x": null,
            "overflow_y": null,
            "padding": null,
            "right": null,
            "top": null,
            "visibility": null,
            "width": null
          }
        },
        "3c35ce1e6be14ec68d632241115d931d": {
          "model_module": "@jupyter-widgets/controls",
          "model_module_version": "1.5.0",
          "model_name": "HBoxModel",
          "state": {
            "_dom_classes": [],
            "_model_module": "@jupyter-widgets/controls",
            "_model_module_version": "1.5.0",
            "_model_name": "HBoxModel",
            "_view_count": null,
            "_view_module": "@jupyter-widgets/controls",
            "_view_module_version": "1.5.0",
            "_view_name": "HBoxView",
            "box_style": "",
            "children": [
              "IPY_MODEL_b4d2359a0a7746cdb8ea0ecd77149a04",
              "IPY_MODEL_67efcdccfb694304b8d74bbfde470cde",
              "IPY_MODEL_339652059a4d4f62a3fe07023c9e8453"
            ],
            "layout": "IPY_MODEL_1e63c34a364242d6b631df9687297db2"
          }
        },
        "4cbca8f0a11242ba91088a9ab244034a": {
          "model_module": "@jupyter-widgets/controls",
          "model_module_version": "1.5.0",
          "model_name": "ProgressStyleModel",
          "state": {
            "_model_module": "@jupyter-widgets/controls",
            "_model_module_version": "1.5.0",
            "_model_name": "ProgressStyleModel",
            "_view_count": null,
            "_view_module": "@jupyter-widgets/base",
            "_view_module_version": "1.2.0",
            "_view_name": "StyleView",
            "bar_color": null,
            "description_width": ""
          }
        },
        "548539d58751475b864aaa01e25fead9": {
          "model_module": "@jupyter-widgets/base",
          "model_module_version": "1.2.0",
          "model_name": "LayoutModel",
          "state": {
            "_model_module": "@jupyter-widgets/base",
            "_model_module_version": "1.2.0",
            "_model_name": "LayoutModel",
            "_view_count": null,
            "_view_module": "@jupyter-widgets/base",
            "_view_module_version": "1.2.0",
            "_view_name": "LayoutView",
            "align_content": null,
            "align_items": null,
            "align_self": null,
            "border": null,
            "bottom": null,
            "display": null,
            "flex": null,
            "flex_flow": null,
            "grid_area": null,
            "grid_auto_columns": null,
            "grid_auto_flow": null,
            "grid_auto_rows": null,
            "grid_column": null,
            "grid_gap": null,
            "grid_row": null,
            "grid_template_areas": null,
            "grid_template_columns": null,
            "grid_template_rows": null,
            "height": null,
            "justify_content": null,
            "justify_items": null,
            "left": null,
            "margin": null,
            "max_height": null,
            "max_width": null,
            "min_height": null,
            "min_width": null,
            "object_fit": null,
            "object_position": null,
            "order": null,
            "overflow": null,
            "overflow_x": null,
            "overflow_y": null,
            "padding": null,
            "right": null,
            "top": null,
            "visibility": null,
            "width": null
          }
        },
        "5ad7dcd5006a4268b26f0b7f26851a64": {
          "model_module": "@jupyter-widgets/base",
          "model_module_version": "1.2.0",
          "model_name": "LayoutModel",
          "state": {
            "_model_module": "@jupyter-widgets/base",
            "_model_module_version": "1.2.0",
            "_model_name": "LayoutModel",
            "_view_count": null,
            "_view_module": "@jupyter-widgets/base",
            "_view_module_version": "1.2.0",
            "_view_name": "LayoutView",
            "align_content": null,
            "align_items": null,
            "align_self": null,
            "border": null,
            "bottom": null,
            "display": null,
            "flex": null,
            "flex_flow": null,
            "grid_area": null,
            "grid_auto_columns": null,
            "grid_auto_flow": null,
            "grid_auto_rows": null,
            "grid_column": null,
            "grid_gap": null,
            "grid_row": null,
            "grid_template_areas": null,
            "grid_template_columns": null,
            "grid_template_rows": null,
            "height": null,
            "justify_content": null,
            "justify_items": null,
            "left": null,
            "margin": null,
            "max_height": null,
            "max_width": null,
            "min_height": null,
            "min_width": null,
            "object_fit": null,
            "object_position": null,
            "order": null,
            "overflow": null,
            "overflow_x": null,
            "overflow_y": null,
            "padding": null,
            "right": null,
            "top": null,
            "visibility": null,
            "width": null
          }
        },
        "6237bc4aa6e344d29adf19e3e8618585": {
          "model_module": "@jupyter-widgets/base",
          "model_module_version": "1.2.0",
          "model_name": "LayoutModel",
          "state": {
            "_model_module": "@jupyter-widgets/base",
            "_model_module_version": "1.2.0",
            "_model_name": "LayoutModel",
            "_view_count": null,
            "_view_module": "@jupyter-widgets/base",
            "_view_module_version": "1.2.0",
            "_view_name": "LayoutView",
            "align_content": null,
            "align_items": null,
            "align_self": null,
            "border": null,
            "bottom": null,
            "display": null,
            "flex": null,
            "flex_flow": null,
            "grid_area": null,
            "grid_auto_columns": null,
            "grid_auto_flow": null,
            "grid_auto_rows": null,
            "grid_column": null,
            "grid_gap": null,
            "grid_row": null,
            "grid_template_areas": null,
            "grid_template_columns": null,
            "grid_template_rows": null,
            "height": null,
            "justify_content": null,
            "justify_items": null,
            "left": null,
            "margin": null,
            "max_height": null,
            "max_width": null,
            "min_height": null,
            "min_width": null,
            "object_fit": null,
            "object_position": null,
            "order": null,
            "overflow": null,
            "overflow_x": null,
            "overflow_y": null,
            "padding": null,
            "right": null,
            "top": null,
            "visibility": null,
            "width": null
          }
        },
        "67efcdccfb694304b8d74bbfde470cde": {
          "model_module": "@jupyter-widgets/controls",
          "model_module_version": "1.5.0",
          "model_name": "FloatProgressModel",
          "state": {
            "_dom_classes": [],
            "_model_module": "@jupyter-widgets/controls",
            "_model_module_version": "1.5.0",
            "_model_name": "FloatProgressModel",
            "_view_count": null,
            "_view_module": "@jupyter-widgets/controls",
            "_view_module_version": "1.5.0",
            "_view_name": "ProgressView",
            "bar_style": "success",
            "description": "",
            "description_tooltip": null,
            "layout": "IPY_MODEL_e4a52e174cb1469085a64f9256045fb5",
            "max": 12674,
            "min": 0,
            "orientation": "horizontal",
            "style": "IPY_MODEL_4cbca8f0a11242ba91088a9ab244034a",
            "value": 12674
          }
        },
        "77e5dffc88ad4781be8261660423e1a8": {
          "model_module": "@jupyter-widgets/controls",
          "model_module_version": "1.5.0",
          "model_name": "DescriptionStyleModel",
          "state": {
            "_model_module": "@jupyter-widgets/controls",
            "_model_module_version": "1.5.0",
            "_model_name": "DescriptionStyleModel",
            "_view_count": null,
            "_view_module": "@jupyter-widgets/base",
            "_view_module_version": "1.2.0",
            "_view_name": "StyleView",
            "description_width": ""
          }
        },
        "9f24f53710da4c9caed4b53231ddd9bd": {
          "model_module": "@jupyter-widgets/controls",
          "model_module_version": "1.5.0",
          "model_name": "HBoxModel",
          "state": {
            "_dom_classes": [],
            "_model_module": "@jupyter-widgets/controls",
            "_model_module_version": "1.5.0",
            "_model_name": "HBoxModel",
            "_view_count": null,
            "_view_module": "@jupyter-widgets/controls",
            "_view_module_version": "1.5.0",
            "_view_name": "HBoxView",
            "box_style": "",
            "children": [
              "IPY_MODEL_e9175a99f2014951aec1a8f895d8670f",
              "IPY_MODEL_0acdf0c018f94d10b7f9bf2dba5b78a5",
              "IPY_MODEL_da1b29c685454136b59e2119db192550"
            ],
            "layout": "IPY_MODEL_3669b289351c4002a4d1573cb88ced2f"
          }
        },
        "a3d9671dc3834421a6305f6688161f9c": {
          "model_module": "@jupyter-widgets/controls",
          "model_module_version": "1.5.0",
          "model_name": "DescriptionStyleModel",
          "state": {
            "_model_module": "@jupyter-widgets/controls",
            "_model_module_version": "1.5.0",
            "_model_name": "DescriptionStyleModel",
            "_view_count": null,
            "_view_module": "@jupyter-widgets/base",
            "_view_module_version": "1.2.0",
            "_view_name": "StyleView",
            "description_width": ""
          }
        },
        "b3d2db9e58534b88911fffab65e3cacc": {
          "model_module": "@jupyter-widgets/base",
          "model_module_version": "1.2.0",
          "model_name": "LayoutModel",
          "state": {
            "_model_module": "@jupyter-widgets/base",
            "_model_module_version": "1.2.0",
            "_model_name": "LayoutModel",
            "_view_count": null,
            "_view_module": "@jupyter-widgets/base",
            "_view_module_version": "1.2.0",
            "_view_name": "LayoutView",
            "align_content": null,
            "align_items": null,
            "align_self": null,
            "border": null,
            "bottom": null,
            "display": null,
            "flex": null,
            "flex_flow": null,
            "grid_area": null,
            "grid_auto_columns": null,
            "grid_auto_flow": null,
            "grid_auto_rows": null,
            "grid_column": null,
            "grid_gap": null,
            "grid_row": null,
            "grid_template_areas": null,
            "grid_template_columns": null,
            "grid_template_rows": null,
            "height": null,
            "justify_content": null,
            "justify_items": null,
            "left": null,
            "margin": null,
            "max_height": null,
            "max_width": null,
            "min_height": null,
            "min_width": null,
            "object_fit": null,
            "object_position": null,
            "order": null,
            "overflow": null,
            "overflow_x": null,
            "overflow_y": null,
            "padding": null,
            "right": null,
            "top": null,
            "visibility": null,
            "width": null
          }
        },
        "b4d2359a0a7746cdb8ea0ecd77149a04": {
          "model_module": "@jupyter-widgets/controls",
          "model_module_version": "1.5.0",
          "model_name": "HTMLModel",
          "state": {
            "_dom_classes": [],
            "_model_module": "@jupyter-widgets/controls",
            "_model_module_version": "1.5.0",
            "_model_name": "HTMLModel",
            "_view_count": null,
            "_view_module": "@jupyter-widgets/controls",
            "_view_module_version": "1.5.0",
            "_view_name": "HTMLView",
            "description": "",
            "description_tooltip": null,
            "layout": "IPY_MODEL_6237bc4aa6e344d29adf19e3e8618585",
            "placeholder": "​",
            "style": "IPY_MODEL_77e5dffc88ad4781be8261660423e1a8",
            "value": "Pandas Apply: 100%"
          }
        },
        "d2e182d80588407f8940d08faacfa65c": {
          "model_module": "@jupyter-widgets/base",
          "model_module_version": "1.2.0",
          "model_name": "LayoutModel",
          "state": {
            "_model_module": "@jupyter-widgets/base",
            "_model_module_version": "1.2.0",
            "_model_name": "LayoutModel",
            "_view_count": null,
            "_view_module": "@jupyter-widgets/base",
            "_view_module_version": "1.2.0",
            "_view_name": "LayoutView",
            "align_content": null,
            "align_items": null,
            "align_self": null,
            "border": null,
            "bottom": null,
            "display": null,
            "flex": null,
            "flex_flow": null,
            "grid_area": null,
            "grid_auto_columns": null,
            "grid_auto_flow": null,
            "grid_auto_rows": null,
            "grid_column": null,
            "grid_gap": null,
            "grid_row": null,
            "grid_template_areas": null,
            "grid_template_columns": null,
            "grid_template_rows": null,
            "height": null,
            "justify_content": null,
            "justify_items": null,
            "left": null,
            "margin": null,
            "max_height": null,
            "max_width": null,
            "min_height": null,
            "min_width": null,
            "object_fit": null,
            "object_position": null,
            "order": null,
            "overflow": null,
            "overflow_x": null,
            "overflow_y": null,
            "padding": null,
            "right": null,
            "top": null,
            "visibility": null,
            "width": null
          }
        },
        "da1b29c685454136b59e2119db192550": {
          "model_module": "@jupyter-widgets/controls",
          "model_module_version": "1.5.0",
          "model_name": "HTMLModel",
          "state": {
            "_dom_classes": [],
            "_model_module": "@jupyter-widgets/controls",
            "_model_module_version": "1.5.0",
            "_model_name": "HTMLModel",
            "_view_count": null,
            "_view_module": "@jupyter-widgets/controls",
            "_view_module_version": "1.5.0",
            "_view_name": "HTMLView",
            "description": "",
            "description_tooltip": null,
            "layout": "IPY_MODEL_5ad7dcd5006a4268b26f0b7f26851a64",
            "placeholder": "​",
            "style": "IPY_MODEL_f0453248ecb44a7492e5109350b4943c",
            "value": " 12674/12674 [00:29&lt;00:00, 447.63it/s]"
          }
        },
        "def7ce849a5947ebb5d952d00545a4bc": {
          "model_module": "@jupyter-widgets/controls",
          "model_module_version": "1.5.0",
          "model_name": "ProgressStyleModel",
          "state": {
            "_model_module": "@jupyter-widgets/controls",
            "_model_module_version": "1.5.0",
            "_model_name": "ProgressStyleModel",
            "_view_count": null,
            "_view_module": "@jupyter-widgets/base",
            "_view_module_version": "1.2.0",
            "_view_name": "StyleView",
            "bar_color": null,
            "description_width": ""
          }
        },
        "e4a52e174cb1469085a64f9256045fb5": {
          "model_module": "@jupyter-widgets/base",
          "model_module_version": "1.2.0",
          "model_name": "LayoutModel",
          "state": {
            "_model_module": "@jupyter-widgets/base",
            "_model_module_version": "1.2.0",
            "_model_name": "LayoutModel",
            "_view_count": null,
            "_view_module": "@jupyter-widgets/base",
            "_view_module_version": "1.2.0",
            "_view_name": "LayoutView",
            "align_content": null,
            "align_items": null,
            "align_self": null,
            "border": null,
            "bottom": null,
            "display": null,
            "flex": null,
            "flex_flow": null,
            "grid_area": null,
            "grid_auto_columns": null,
            "grid_auto_flow": null,
            "grid_auto_rows": null,
            "grid_column": null,
            "grid_gap": null,
            "grid_row": null,
            "grid_template_areas": null,
            "grid_template_columns": null,
            "grid_template_rows": null,
            "height": null,
            "justify_content": null,
            "justify_items": null,
            "left": null,
            "margin": null,
            "max_height": null,
            "max_width": null,
            "min_height": null,
            "min_width": null,
            "object_fit": null,
            "object_position": null,
            "order": null,
            "overflow": null,
            "overflow_x": null,
            "overflow_y": null,
            "padding": null,
            "right": null,
            "top": null,
            "visibility": null,
            "width": null
          }
        },
        "e9175a99f2014951aec1a8f895d8670f": {
          "model_module": "@jupyter-widgets/controls",
          "model_module_version": "1.5.0",
          "model_name": "HTMLModel",
          "state": {
            "_dom_classes": [],
            "_model_module": "@jupyter-widgets/controls",
            "_model_module_version": "1.5.0",
            "_model_name": "HTMLModel",
            "_view_count": null,
            "_view_module": "@jupyter-widgets/controls",
            "_view_module_version": "1.5.0",
            "_view_name": "HTMLView",
            "description": "",
            "description_tooltip": null,
            "layout": "IPY_MODEL_b3d2db9e58534b88911fffab65e3cacc",
            "placeholder": "​",
            "style": "IPY_MODEL_2602829bda69403e95aabc64e19fee32",
            "value": "Pandas Apply: 100%"
          }
        },
        "f0453248ecb44a7492e5109350b4943c": {
          "model_module": "@jupyter-widgets/controls",
          "model_module_version": "1.5.0",
          "model_name": "DescriptionStyleModel",
          "state": {
            "_model_module": "@jupyter-widgets/controls",
            "_model_module_version": "1.5.0",
            "_model_name": "DescriptionStyleModel",
            "_view_count": null,
            "_view_module": "@jupyter-widgets/base",
            "_view_module_version": "1.2.0",
            "_view_name": "StyleView",
            "description_width": ""
          }
        }
      }
    }
  },
  "nbformat": 4,
  "nbformat_minor": 0
}
