{
  "cells": [
    {
      "cell_type": "markdown",
      "metadata": {},
      "source": []
    },
    {
      "cell_type": "code",
      "execution_count": null,
      "metadata": {
        "id": "_nS7GDlV8Hlt"
      },
      "outputs": [],
      "source": [
        "import matplotlib.pyplot as plt\n",
        "import numpy as np\n",
        "import pandas as pd\n",
        "import plotly.express as px\n",
        "import seaborn as sns\n",
        "from imblearn.over_sampling import SMOTE\n",
        "from sklearn.compose import ColumnTransformer\n",
        "from sklearn.ensemble import (AdaBoostClassifier, GradientBoostingClassifier)\n",
        "from sklearn.impute import KNNImputer, SimpleImputer\n",
        "from sklearn.metrics import classification_report\n",
        "from sklearn.pipeline import make_pipeline\n",
        "from sklearn.preprocessing import OneHotEncoder, StandardScaler\n",
        "from sklearn.svm import SVC\n",
        "from tqdm.notebook import trange\n",
        "from sklearn.metrics import confusion_matrix\n",
        "import plotly.figure_factory as ff\n",
        "from sklearn.metrics import roc_curve, auc\n"
      ]
    },
    {
      "cell_type": "code",
      "execution_count": null,
      "metadata": {},
      "outputs": [],
      "source": [
        "# Parameter selection\n",
        "random_state_const = None\n",
        "\n",
        "# For reproducing resuts\n",
        "random_state_const = 777\n",
        "\n",
        "# Imputer model\n",
        "# simple - SimpleImputer\n",
        "# k - KMeanImputer\n",
        "imputer_choice = 'k'\n",
        "\n",
        "# Classification model\n",
        "# svc - Using an SVC pipeline with a standard scaler\n",
        "# gb - GradientBoostingClassifier \n",
        "# ada - AdaBoostClassifier\n",
        "classification_choice = 'gb'\n",
        "\n",
        "# Data preprocessing to assist with imbalance between topics which are rising or not\n",
        "undersample = False\n",
        "oversample = False # To improve the accuracy of the 'increasing' category"
      ]
    },
    {
      "cell_type": "code",
      "execution_count": null,
      "metadata": {
        "id": "05mRtA-_63RO"
      },
      "outputs": [],
      "source": [
        "# Uses saved DTM output stored on Drive\n",
        "topics_over_time = pd.read_csv('output/DTM/DTM_exp_local_custom_use_custom_10_(1, 2)_800.csv')"
      ]
    },
    {
      "cell_type": "code",
      "execution_count": null,
      "metadata": {
        "colab": {
          "base_uri": "https://localhost:8080/"
        },
        "id": "l-jMBLKnBPeU",
        "outputId": "802934b3-808d-4669-91f1-668c8d50f4f3"
      },
      "outputs": [],
      "source": [
        "topics = topics_over_time['Topic'].unique()\n",
        "len(topics)"
      ]
    },
    {
      "cell_type": "code",
      "execution_count": null,
      "metadata": {
        "colab": {
          "base_uri": "https://localhost:8080/"
        },
        "id": "Dn24c0R0BRpW",
        "outputId": "78907ef9-c75e-4aae-8edb-6277401fb993"
      },
      "outputs": [],
      "source": [
        "timestamps = topics_over_time['Timestamp'].unique()\n",
        "len(timestamps)"
      ]
    },
    {
      "cell_type": "code",
      "execution_count": null,
      "metadata": {
        "id": "fNBWa3WrA5SL"
      },
      "outputs": [],
      "source": [
        "# Normalisation methods available: None | mean | min-max\n",
        "normalisation_method = None"
      ]
    },
    {
      "cell_type": "code",
      "execution_count": null,
      "metadata": {
        "id": "6oHZZkPWA1Jw"
      },
      "outputs": [],
      "source": [
        "topics_over_time = topics_over_time.sort_values(by=['Topic','Timestamp'])\n",
        "if normalisation_method == 'mean':\n",
        "  topics_over_time['Frequency'] = ((topics_over_time['Frequency']\n",
        "                                   -topics_over_time['Frequency'].mean())\n",
        "                                   /topics_over_time['Frequency'].std())\n",
        "elif normalisation_method == 'min-max':\n",
        "  topics_over_time['Frequency'] = (topics_over_time['Frequency']-\n",
        "                                   topics_over_time['Frequency'].min())/(\n",
        "                                       topics_over_time['Frequency'].max()\n",
        "                                       -topics_over_time['Frequency'].min())"
      ]
    },
    {
      "cell_type": "code",
      "execution_count": null,
      "metadata": {
        "id": "FvR2ZlcNA3zs"
      },
      "outputs": [],
      "source": [
        "topics_over_time['Frequency_Next_Year'] = topics_over_time.groupby('Topic')['Frequency'].shift(-1)\n",
        "topics_over_time['Lag-1'] = topics_over_time.groupby('Topic')['Frequency'].shift(1)\n",
        "topics_over_time['Diff-1'] = topics_over_time.groupby('Topic')['Frequency'].diff(1)\n",
        "topics_over_time['Rolling-8'] = topics_over_time.groupby('Topic')['Frequency'].rolling(8).mean().reset_index(level=0,drop=True)\n",
        "topics_over_time['Rolling-4'] = topics_over_time.groupby('Topic')['Frequency'].rolling(4).mean().reset_index(level=0,drop=True)\n",
        "topics_over_time['is_growing'] = ((topics_over_time['Frequency_Next_Year']-topics_over_time['Frequency'])>0)"
      ]
    },
    {
      "cell_type": "code",
      "execution_count": null,
      "metadata": {
        "id": "a1Ev8eXe8yJC"
      },
      "outputs": [],
      "source": [
        "topics_over_time['Rolling-2'] = topics_over_time.groupby('Topic')['Frequency'].rolling(2).mean().reset_index(level=0,drop=True)\n",
        "topics_over_time['MACD'] = topics_over_time['Rolling-8'] - topics_over_time['Rolling-4']\n",
        "topics_over_time['Signal'] = topics_over_time.groupby('Topic')['MACD'].rolling(2).mean().reset_index(level=0,drop=True)\n",
        "topics_over_time['Hist'] = topics_over_time['MACD'] - topics_over_time['Signal'] "
      ]
    },
    {
      "cell_type": "code",
      "execution_count": null,
      "metadata": {},
      "outputs": [],
      "source": [
        "print(topics_over_time[topics_over_time['is_growing']==True].shape)\n",
        "print(topics_over_time[topics_over_time['is_growing']==False].shape)"
      ]
    },
    {
      "cell_type": "code",
      "execution_count": null,
      "metadata": {},
      "outputs": [],
      "source": [
        "topics_over_time[topics_over_time['MACD'].notna()]"
      ]
    },
    {
      "cell_type": "code",
      "execution_count": null,
      "metadata": {
        "colab": {
          "base_uri": "https://localhost:8080/",
          "height": 614
        },
        "id": "vH8H15mO1MRv",
        "outputId": "967b6674-97e3-4eab-8d95-8a795ce18f74"
      },
      "outputs": [],
      "source": [
        "f, ax = plt.subplots(figsize=(10, 8))\n",
        "corr = topics_over_time[['Topic','Frequency','Diff-1','MACD','Hist','Frequency_Next_Year']].corr()\n",
        "sns.heatmap(corr, mask=np.zeros_like(corr, dtype=np.bool),\n",
        "            cmap=sns.diverging_palette(220, 10, as_cmap=True),\n",
        "            square=True, ax=ax,annot=True)"
      ]
    },
    {
      "cell_type": "code",
      "execution_count": null,
      "metadata": {},
      "outputs": [],
      "source": [
        "sns.clustermap(topics_over_time[['Diff-1','Lag-1','Rolling-4','Rolling-8','MACD','Signal','Hist']].corr())"
      ]
    },
    {
      "cell_type": "code",
      "execution_count": null,
      "metadata": {},
      "outputs": [],
      "source": [
        "sns.clustermap(topics_over_time[['Topic','Frequency','Diff-1','MACD','Hist','Frequency_Next_Year','Lag-1']].corr(),annot=True)"
      ]
    },
    {
      "cell_type": "code",
      "execution_count": null,
      "metadata": {},
      "outputs": [],
      "source": [
        "features = ['Topic','Frequency','Diff-1','MACD','Hist','Lag-1']"
      ]
    },
    {
      "cell_type": "code",
      "execution_count": null,
      "metadata": {
        "colab": {
          "base_uri": "https://localhost:8080/",
          "height": 542
        },
        "id": "dVmYUV2E5DyQ",
        "outputId": "fa7f6aa5-3d41-4952-f702-44a7743f02f8"
      },
      "outputs": [],
      "source": [
        "fig = px.scatter_3d(topics_over_time, x='Lag-1', y='Diff-1', z='MACD', color='Topic', symbol='is_growing', size='Frequency')\n",
        "fig.show()"
      ]
    },
    {
      "cell_type": "code",
      "execution_count": null,
      "metadata": {},
      "outputs": [],
      "source": [
        "def plot_confusion_matrix(mat):\n",
        "    x = ['Decreasing topic','Increasing topic']\n",
        "    y =  ['Decreasing topic','Increasing topic']\n",
        "\n",
        "    # change each element of z to type string for annotations\n",
        "    z_text = [[str(y) for y in x] for x in mat]\n",
        "    # set up figure \n",
        "    fig = ff.create_annotated_heatmap(mat, x=x, y=y, annotation_text=z_text, colorscale='Viridis')\n",
        "\n",
        "    # add title\n",
        "    fig.update_layout(title_text='<i><b>Confusion matrix</b></i>',\n",
        "                    #xaxis = dict(title='x'),\n",
        "                    #yaxis = dict(title='x')\n",
        "                    )\n",
        "\n",
        "    # add custom xaxis title\n",
        "    fig.add_annotation(dict(font=dict(color=\"black\",size=14),\n",
        "                            x=0.5,\n",
        "                            y=-0.15,\n",
        "                            showarrow=False,\n",
        "                            text=\"Predicted value\",\n",
        "                            xref=\"paper\",\n",
        "                            yref=\"paper\"))\n",
        "\n",
        "    # add custom yaxis title\n",
        "    fig.add_annotation(dict(font=dict(color=\"black\",size=14),\n",
        "                            x=-0.35,\n",
        "                            y=0.5,\n",
        "                            showarrow=False,\n",
        "                            text=\"Real value\",\n",
        "                            textangle=-90,\n",
        "                            xref=\"paper\",\n",
        "                            yref=\"paper\"))\n",
        "\n",
        "    # adjust margins to make room for yaxis title\n",
        "    fig.update_layout(margin=dict(t=50, l=200))\n",
        "\n",
        "    # add colorbar\n",
        "    fig['data'][0]['showscale'] = True\n",
        "    fig.show()\n"
      ]
    },
    {
      "cell_type": "code",
      "execution_count": null,
      "metadata": {},
      "outputs": [],
      "source": [
        "def plot_roc(fpr, tpr):\n",
        "    fig = px.area(\n",
        "        x=fpr, y=tpr,\n",
        "        title=f'ROC Curve (AUC={auc(fpr, tpr):.4f})',\n",
        "        labels=dict(x='False Positive Rate', y='True Positive Rate'),\n",
        "        width=700, height=500\n",
        "    )\n",
        "    fig.add_shape(\n",
        "        type='line', line=dict(dash='dash'),\n",
        "        x0=0, x1=1, y0=0, y1=1\n",
        "    )\n",
        "\n",
        "    fig.update_yaxes(scaleanchor=\"x\", scaleratio=1)\n",
        "    fig.update_xaxes(constrain='domain')\n",
        "    fig.show()\n"
      ]
    },
    {
      "cell_type": "code",
      "execution_count": null,
      "metadata": {
        "colab": {
          "base_uri": "https://localhost:8080/",
          "height": 1000,
          "referenced_widgets": [
            "f6b06b4286224d6095e85e024aab38f9",
            "beca31c3289642c0a9cf11eb5696aec8",
            "29274c9015304670b7548ed4e5e89feb",
            "639616a3359f4e0e94a720eb720cdee8",
            "dfa2b337d83e4ba39b6e30163dc38973",
            "8e270c4cdfd44b1da5cfd55c484ab4fe",
            "f3b3d10872394b4f91c6bcd86f240015",
            "97e8f255d8f64d02ae163e08001fffc1",
            "7ae280e007044329b12ee58afa1236e7",
            "5e49b7b4a60f49d5b01aef51c742ba6b",
            "02f60c962fe74913ad8fe55a8985be9c"
          ]
        },
        "id": "qRMmsd7_BLmE",
        "outputId": "aee21bdc-81fe-4551-e0ef-1767bedabf52"
      },
      "outputs": [],
      "source": [
        "shuffled_topics_over_time = topics_over_time.sample(frac=1)\n",
        "\n",
        "dataset_lenght = len(shuffled_topics_over_time)\n",
        "dataset_split = int(dataset_lenght/10)\n",
        "\n",
        "best_r2 = -1\n",
        "sum_r2 = 0\n",
        "best_yval = None\n",
        "best_ypredicted = None\n",
        "\n",
        "cfs_matrix, cls_report ,fpr, tpr = None, None, None, None\n",
        "for index in trange(10):\n",
        "\n",
        "    run_entry = {'split_number': (index+1)}\n",
        "\n",
        "    if undersample:\n",
        "\n",
        "        true_class_df = shuffled_topics_over_time[shuffled_topics_over_time['is_growing'] == True]\n",
        "        train_true_df = true_class_df.sample(frac=0.9, random_state=random_state_const)\n",
        "        test_true_df = true_class_df.drop(train_true_df.index)\n",
        "\n",
        "        one_class_size = len(true_class_df)\n",
        "\n",
        "        false_class_df = shuffled_topics_over_time[shuffled_topics_over_time['is_growing'] == False].sample(\n",
        "            n=one_class_size, random_state=random_state_const)\n",
        "        train_false_df = false_class_df.sample(frac=0.9, random_state=random_state_const)\n",
        "        test_false_df = false_class_df.drop(train_false_df.index)\n",
        "\n",
        "        train_df = pd.concat([train_true_df, train_false_df], ignore_index=True)\n",
        "        test_df = pd.concat([test_true_df, test_false_df], ignore_index=True)\n",
        "\n",
        "    else:\n",
        "        train_df = shuffled_topics_over_time.sample(frac=0.9, random_state=random_state_const)  # random state is a seed value\n",
        "        test_df = shuffled_topics_over_time.drop(train_df.index)\n",
        "\n",
        "    # Data preparation\n",
        "    train_df = train_df.dropna(subset=['Frequency_Next_Year', 'is_growing'])\n",
        "\n",
        "    if imputer_choice == 'k':\n",
        "        imputer = KNNImputer()\n",
        "    else:\n",
        "        imputer = SimpleImputer()\n",
        "    \n",
        "\n",
        "    x_training = imputer.fit_transform(train_df[features])\n",
        "    y_training = train_df['is_growing']\n",
        "    x_testing = imputer.transform(test_df[features])\n",
        "    y_testing = test_df['is_growing']\n",
        "    \n",
        "    if oversample:\n",
        "        sm = SMOTE(random_state=random_state_const,n_jobs=8)\n",
        "        x_training, y_training = sm.fit_resample(x_training, y_training)\n",
        "\n",
        "   \n",
        "    if classification_choice=='svc':\n",
        "        clf = make_pipeline(StandardScaler(), SVC(gamma='auto',probability=True))\n",
        "        clf.fit(x_training,y_training)\n",
        "        y_pred = clf.predict(x_testing)\n",
        "        y_score = clf.predict_proba(x_testing)[:, 1]\n",
        "    elif classification_choice=='gb':\n",
        "        model_GB = GradientBoostingClassifier(n_estimators=1000)\n",
        "        model_GB.fit(x_training , y_training)\n",
        "        y_pred = model_GB.predict(x_testing)\n",
        "        y_score = model_GB.predict_proba(x_testing)[:, 1]\n",
        "    else:\n",
        "        model_ad = AdaBoostClassifier()\n",
        "        model_ad.fit(x_training , y_training)\n",
        "        y_pred = model_ad.predict(x_testing)\n",
        "        print(classification_report(y_testing, y_pred))\n",
        "        y_score = model_ad.predict_proba(x_testing)[:, 1]\n",
        "\n",
        "    cfs_matrix = confusion_matrix(y_testing, y_pred)\n",
        "    cls_report = classification_report(y_testing, y_pred)\n",
        "    fpr, tpr, thresholds = roc_curve(y_testing, y_score)\n",
        "\n",
        "print(cls_report)\n",
        "plot_confusion_matrix(cfs_matrix)\n",
        "plot_roc(fpr,tpr)\n"
      ]
    }
  ],
  "metadata": {
    "accelerator": "GPU",
    "colab": {
      "collapsed_sections": [],
      "name": "Bursty Classifier.ipynb",
      "provenance": []
    },
    "kernelspec": {
      "display_name": "Python 3",
      "name": "python3"
    },
    "language_info": {
      "codemirror_mode": {
        "name": "ipython",
        "version": 3
      },
      "file_extension": ".py",
      "mimetype": "text/x-python",
      "name": "python",
      "nbconvert_exporter": "python",
      "pygments_lexer": "ipython3",
      "version": "3.9.12"
    },
    "widgets": {
      "application/vnd.jupyter.widget-state+json": {
        "02f60c962fe74913ad8fe55a8985be9c": {
          "model_module": "@jupyter-widgets/base",
          "model_module_version": "1.2.0",
          "model_name": "LayoutModel",
          "state": {
            "_model_module": "@jupyter-widgets/base",
            "_model_module_version": "1.2.0",
            "_model_name": "LayoutModel",
            "_view_count": null,
            "_view_module": "@jupyter-widgets/base",
            "_view_module_version": "1.2.0",
            "_view_name": "LayoutView",
            "align_content": null,
            "align_items": null,
            "align_self": null,
            "border": null,
            "bottom": null,
            "display": null,
            "flex": null,
            "flex_flow": null,
            "grid_area": null,
            "grid_auto_columns": null,
            "grid_auto_flow": null,
            "grid_auto_rows": null,
            "grid_column": null,
            "grid_gap": null,
            "grid_row": null,
            "grid_template_areas": null,
            "grid_template_columns": null,
            "grid_template_rows": null,
            "height": null,
            "justify_content": null,
            "justify_items": null,
            "left": null,
            "margin": null,
            "max_height": null,
            "max_width": null,
            "min_height": null,
            "min_width": null,
            "object_fit": null,
            "object_position": null,
            "order": null,
            "overflow": null,
            "overflow_x": null,
            "overflow_y": null,
            "padding": null,
            "right": null,
            "top": null,
            "visibility": null,
            "width": null
          }
        },
        "29274c9015304670b7548ed4e5e89feb": {
          "model_module": "@jupyter-widgets/controls",
          "model_module_version": "1.5.0",
          "model_name": "HTMLModel",
          "state": {
            "_dom_classes": [],
            "_model_module": "@jupyter-widgets/controls",
            "_model_module_version": "1.5.0",
            "_model_name": "HTMLModel",
            "_view_count": null,
            "_view_module": "@jupyter-widgets/controls",
            "_view_module_version": "1.5.0",
            "_view_name": "HTMLView",
            "description": "",
            "description_tooltip": null,
            "layout": "IPY_MODEL_f3b3d10872394b4f91c6bcd86f240015",
            "placeholder": "​",
            "style": "IPY_MODEL_8e270c4cdfd44b1da5cfd55c484ab4fe",
            "value": "100%"
          }
        },
        "5e49b7b4a60f49d5b01aef51c742ba6b": {
          "model_module": "@jupyter-widgets/controls",
          "model_module_version": "1.5.0",
          "model_name": "DescriptionStyleModel",
          "state": {
            "_model_module": "@jupyter-widgets/controls",
            "_model_module_version": "1.5.0",
            "_model_name": "DescriptionStyleModel",
            "_view_count": null,
            "_view_module": "@jupyter-widgets/base",
            "_view_module_version": "1.2.0",
            "_view_name": "StyleView",
            "description_width": ""
          }
        },
        "639616a3359f4e0e94a720eb720cdee8": {
          "model_module": "@jupyter-widgets/controls",
          "model_module_version": "1.5.0",
          "model_name": "FloatProgressModel",
          "state": {
            "_dom_classes": [],
            "_model_module": "@jupyter-widgets/controls",
            "_model_module_version": "1.5.0",
            "_model_name": "FloatProgressModel",
            "_view_count": null,
            "_view_module": "@jupyter-widgets/controls",
            "_view_module_version": "1.5.0",
            "_view_name": "ProgressView",
            "bar_style": "success",
            "description": "",
            "description_tooltip": null,
            "layout": "IPY_MODEL_7ae280e007044329b12ee58afa1236e7",
            "max": 10,
            "min": 0,
            "orientation": "horizontal",
            "style": "IPY_MODEL_97e8f255d8f64d02ae163e08001fffc1",
            "value": 10
          }
        },
        "7ae280e007044329b12ee58afa1236e7": {
          "model_module": "@jupyter-widgets/base",
          "model_module_version": "1.2.0",
          "model_name": "LayoutModel",
          "state": {
            "_model_module": "@jupyter-widgets/base",
            "_model_module_version": "1.2.0",
            "_model_name": "LayoutModel",
            "_view_count": null,
            "_view_module": "@jupyter-widgets/base",
            "_view_module_version": "1.2.0",
            "_view_name": "LayoutView",
            "align_content": null,
            "align_items": null,
            "align_self": null,
            "border": null,
            "bottom": null,
            "display": null,
            "flex": null,
            "flex_flow": null,
            "grid_area": null,
            "grid_auto_columns": null,
            "grid_auto_flow": null,
            "grid_auto_rows": null,
            "grid_column": null,
            "grid_gap": null,
            "grid_row": null,
            "grid_template_areas": null,
            "grid_template_columns": null,
            "grid_template_rows": null,
            "height": null,
            "justify_content": null,
            "justify_items": null,
            "left": null,
            "margin": null,
            "max_height": null,
            "max_width": null,
            "min_height": null,
            "min_width": null,
            "object_fit": null,
            "object_position": null,
            "order": null,
            "overflow": null,
            "overflow_x": null,
            "overflow_y": null,
            "padding": null,
            "right": null,
            "top": null,
            "visibility": null,
            "width": null
          }
        },
        "8e270c4cdfd44b1da5cfd55c484ab4fe": {
          "model_module": "@jupyter-widgets/controls",
          "model_module_version": "1.5.0",
          "model_name": "DescriptionStyleModel",
          "state": {
            "_model_module": "@jupyter-widgets/controls",
            "_model_module_version": "1.5.0",
            "_model_name": "DescriptionStyleModel",
            "_view_count": null,
            "_view_module": "@jupyter-widgets/base",
            "_view_module_version": "1.2.0",
            "_view_name": "StyleView",
            "description_width": ""
          }
        },
        "97e8f255d8f64d02ae163e08001fffc1": {
          "model_module": "@jupyter-widgets/controls",
          "model_module_version": "1.5.0",
          "model_name": "ProgressStyleModel",
          "state": {
            "_model_module": "@jupyter-widgets/controls",
            "_model_module_version": "1.5.0",
            "_model_name": "ProgressStyleModel",
            "_view_count": null,
            "_view_module": "@jupyter-widgets/base",
            "_view_module_version": "1.2.0",
            "_view_name": "StyleView",
            "bar_color": null,
            "description_width": ""
          }
        },
        "beca31c3289642c0a9cf11eb5696aec8": {
          "model_module": "@jupyter-widgets/base",
          "model_module_version": "1.2.0",
          "model_name": "LayoutModel",
          "state": {
            "_model_module": "@jupyter-widgets/base",
            "_model_module_version": "1.2.0",
            "_model_name": "LayoutModel",
            "_view_count": null,
            "_view_module": "@jupyter-widgets/base",
            "_view_module_version": "1.2.0",
            "_view_name": "LayoutView",
            "align_content": null,
            "align_items": null,
            "align_self": null,
            "border": null,
            "bottom": null,
            "display": null,
            "flex": null,
            "flex_flow": null,
            "grid_area": null,
            "grid_auto_columns": null,
            "grid_auto_flow": null,
            "grid_auto_rows": null,
            "grid_column": null,
            "grid_gap": null,
            "grid_row": null,
            "grid_template_areas": null,
            "grid_template_columns": null,
            "grid_template_rows": null,
            "height": null,
            "justify_content": null,
            "justify_items": null,
            "left": null,
            "margin": null,
            "max_height": null,
            "max_width": null,
            "min_height": null,
            "min_width": null,
            "object_fit": null,
            "object_position": null,
            "order": null,
            "overflow": null,
            "overflow_x": null,
            "overflow_y": null,
            "padding": null,
            "right": null,
            "top": null,
            "visibility": null,
            "width": null
          }
        },
        "dfa2b337d83e4ba39b6e30163dc38973": {
          "model_module": "@jupyter-widgets/controls",
          "model_module_version": "1.5.0",
          "model_name": "HTMLModel",
          "state": {
            "_dom_classes": [],
            "_model_module": "@jupyter-widgets/controls",
            "_model_module_version": "1.5.0",
            "_model_name": "HTMLModel",
            "_view_count": null,
            "_view_module": "@jupyter-widgets/controls",
            "_view_module_version": "1.5.0",
            "_view_name": "HTMLView",
            "description": "",
            "description_tooltip": null,
            "layout": "IPY_MODEL_02f60c962fe74913ad8fe55a8985be9c",
            "placeholder": "​",
            "style": "IPY_MODEL_5e49b7b4a60f49d5b01aef51c742ba6b",
            "value": " 10/10 [00:13&lt;00:00,  1.60s/it]"
          }
        },
        "f3b3d10872394b4f91c6bcd86f240015": {
          "model_module": "@jupyter-widgets/base",
          "model_module_version": "1.2.0",
          "model_name": "LayoutModel",
          "state": {
            "_model_module": "@jupyter-widgets/base",
            "_model_module_version": "1.2.0",
            "_model_name": "LayoutModel",
            "_view_count": null,
            "_view_module": "@jupyter-widgets/base",
            "_view_module_version": "1.2.0",
            "_view_name": "LayoutView",
            "align_content": null,
            "align_items": null,
            "align_self": null,
            "border": null,
            "bottom": null,
            "display": null,
            "flex": null,
            "flex_flow": null,
            "grid_area": null,
            "grid_auto_columns": null,
            "grid_auto_flow": null,
            "grid_auto_rows": null,
            "grid_column": null,
            "grid_gap": null,
            "grid_row": null,
            "grid_template_areas": null,
            "grid_template_columns": null,
            "grid_template_rows": null,
            "height": null,
            "justify_content": null,
            "justify_items": null,
            "left": null,
            "margin": null,
            "max_height": null,
            "max_width": null,
            "min_height": null,
            "min_width": null,
            "object_fit": null,
            "object_position": null,
            "order": null,
            "overflow": null,
            "overflow_x": null,
            "overflow_y": null,
            "padding": null,
            "right": null,
            "top": null,
            "visibility": null,
            "width": null
          }
        },
        "f6b06b4286224d6095e85e024aab38f9": {
          "model_module": "@jupyter-widgets/controls",
          "model_module_version": "1.5.0",
          "model_name": "HBoxModel",
          "state": {
            "_dom_classes": [],
            "_model_module": "@jupyter-widgets/controls",
            "_model_module_version": "1.5.0",
            "_model_name": "HBoxModel",
            "_view_count": null,
            "_view_module": "@jupyter-widgets/controls",
            "_view_module_version": "1.5.0",
            "_view_name": "HBoxView",
            "box_style": "",
            "children": [
              "IPY_MODEL_29274c9015304670b7548ed4e5e89feb",
              "IPY_MODEL_639616a3359f4e0e94a720eb720cdee8",
              "IPY_MODEL_dfa2b337d83e4ba39b6e30163dc38973"
            ],
            "layout": "IPY_MODEL_beca31c3289642c0a9cf11eb5696aec8"
          }
        }
      }
    }
  },
  "nbformat": 4,
  "nbformat_minor": 0
}
