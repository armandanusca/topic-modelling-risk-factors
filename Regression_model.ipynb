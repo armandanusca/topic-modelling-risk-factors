{
 "cells": [
  {
   "cell_type": "code",
   "execution_count": null,
   "metadata": {},
   "outputs": [],
   "source": [
    "import random\n",
    "from datetime import datetime\n",
    "import pandas as pd\n",
    "from sklearn.ensemble import RandomForestRegressor\n",
    "from sklearn.impute import SimpleImputer\n",
    "from sklearn.metrics import mean_absolute_percentage_error, r2_score\n",
    "import plotly.express as px\n",
    "import plotly.graph_objects as go\n",
    "import numpy as np"
   ]
  },
  {
   "cell_type": "code",
   "execution_count": null,
   "metadata": {},
   "outputs": [],
   "source": [
    "topics_over_time = pd.read_csv(\n",
    "    'DTM_collab_dataset_small_07_22__220000_manual_sentence-transformers_default.csv')\n"
   ]
  },
  {
   "cell_type": "code",
   "execution_count": null,
   "metadata": {},
   "outputs": [],
   "source": [
    "# Specifying how many values to predict\n",
    "time_step = 1\n",
    "topic_number = 10\n"
   ]
  },
  {
   "cell_type": "code",
   "execution_count": null,
   "metadata": {},
   "outputs": [],
   "source": [
    "topics_over_time = topics_over_time[topics_over_time['Topic']!=-1]\n",
    "topics_over_time.shape\n"
   ]
  },
  {
   "cell_type": "code",
   "execution_count": null,
   "metadata": {},
   "outputs": [],
   "source": [
    "topics_over_time['Timestamp'].max()"
   ]
  },
  {
   "cell_type": "code",
   "execution_count": null,
   "metadata": {},
   "outputs": [],
   "source": [
    "topics_over_time = topics_over_time.sort_values(by=['Topic', 'Timestamp'])\n",
    "topics_over_time['Frequency'] = (topics_over_time['Frequency']-topics_over_time['Frequency'].mean())/topics_over_time['Frequency'].std()\n"
   ]
  },
  {
   "cell_type": "code",
   "execution_count": null,
   "metadata": {},
   "outputs": [],
   "source": [
    "topics_over_time['Frequency_Next_Year'] = topics_over_time.groupby('Topic')['Frequency'].shift(-1)\n",
    "topics_over_time['Lag-1'] = topics_over_time.groupby('Topic')['Frequency'].shift(1)\n",
    "topics_over_time['Diff-1'] = topics_over_time.groupby('Topic')['Frequency'].diff(1)\n",
    "topics_over_time['Rolling-4'] = topics_over_time.groupby(\n",
    "    'Topic')['Frequency'].rolling(4).mean().reset_index(level=0, drop=True)\n"
   ]
  },
  {
   "cell_type": "code",
   "execution_count": null,
   "metadata": {},
   "outputs": [],
   "source": [
    "topics_over_time[topics_over_time['Topic']==topic_number]"
   ]
  },
  {
   "cell_type": "code",
   "execution_count": null,
   "metadata": {},
   "outputs": [],
   "source": [
    "topics_index = list(set(topics_over_time['Topic'].unique()))\n",
    "training_topics_index = random.sample(topics_index, 90)\n",
    "training = topics_over_time[topics_over_time['Topic'].isin(training_topics_index)]\n",
    "testing = topics_over_time[~(topics_over_time['Topic'].isin(training_topics_index))]\n",
    "training = training.dropna()\n"
   ]
  },
  {
   "cell_type": "code",
   "execution_count": null,
   "metadata": {},
   "outputs": [],
   "source": [
    "# training = topics_over_time[(topics_over_time['Timestamp'] <= '2018')]\n",
    "# testing = topics_over_time[(topics_over_time['Timestamp'] > '2018')]"
   ]
  },
  {
   "cell_type": "code",
   "execution_count": null,
   "metadata": {},
   "outputs": [],
   "source": [
    "training.head()"
   ]
  },
  {
   "cell_type": "code",
   "execution_count": null,
   "metadata": {},
   "outputs": [],
   "source": [
    "testing.head()"
   ]
  },
  {
   "cell_type": "code",
   "execution_count": null,
   "metadata": {},
   "outputs": [],
   "source": [
    "training[training['Topic'] == topic_number]\n"
   ]
  },
  {
   "cell_type": "code",
   "execution_count": null,
   "metadata": {},
   "outputs": [],
   "source": [
    "features = ['Frequency', 'Lag-1', 'Diff-1', 'Rolling-4']\n"
   ]
  },
  {
   "cell_type": "code",
   "execution_count": null,
   "metadata": {},
   "outputs": [],
   "source": [
    "imputer = SimpleImputer()\n",
    "Xtr = imputer.fit_transform(training[features])\n",
    "ytr = training['Frequency_Next_Year']\n",
    "\n",
    "mdl = RandomForestRegressor(n_estimators=600, random_state=0, n_jobs=16)\n",
    "mdl.fit(Xtr, ytr)\n"
   ]
  },
  {
   "cell_type": "code",
   "execution_count": null,
   "metadata": {},
   "outputs": [],
   "source": [
    "testing = testing.dropna(subset=['Frequency_Next_Year'])\n",
    "Xval = imputer.transform(testing[features])\n",
    "yval = testing['Frequency_Next_Year']\n",
    "\n",
    "p = mdl.predict(Xval)\n"
   ]
  },
  {
   "cell_type": "code",
   "execution_count": null,
   "metadata": {},
   "outputs": [],
   "source": [
    "t_testing = testing.dropna()\n",
    "mean_absolute_percentage_error(t_testing['Frequency_Next_Year'], t_testing['Frequency'])\n"
   ]
  },
  {
   "cell_type": "code",
   "execution_count": null,
   "metadata": {},
   "outputs": [],
   "source": [
    "print(mean_absolute_percentage_error(yval, p))\n",
    "print(yval[:10])\n",
    "print(p[:10])\n"
   ]
  },
  {
   "cell_type": "code",
   "execution_count": null,
   "metadata": {},
   "outputs": [],
   "source": [
    "r2_score(yval, p)"
   ]
  },
  {
   "cell_type": "code",
   "execution_count": null,
   "metadata": {},
   "outputs": [],
   "source": [
    "t = np.linspace(min(yval),max(yval),len(yval))\n",
    "fig = go.Figure()\n",
    "\n",
    "# Add traces\n",
    "fig.add_trace(go.Scatter(x=yval, y=p,\n",
    "                    mode='markers',\n",
    "                    name='markers'))\n",
    "fig.add_trace(go.Scatter(x=t, y=t,\n",
    "                    mode='lines',\n",
    "                    name='lines'))\n",
    "fig.show()"
   ]
  }
 ],
 "metadata": {
  "interpreter": {
   "hash": "731e2aa279914a57046ee6d1d12f3681f41652e64bcc6a6259e0a8e846fdb442"
  },
  "kernelspec": {
   "display_name": "Python 3.9.10 ('.venv': venv)",
   "language": "python",
   "name": "python3"
  },
  "language_info": {
   "codemirror_mode": {
    "name": "ipython",
    "version": 3
   },
   "file_extension": ".py",
   "mimetype": "text/x-python",
   "name": "python",
   "nbconvert_exporter": "python",
   "pygments_lexer": "ipython3",
   "version": "3.9.10"
  },
  "orig_nbformat": 4
 },
 "nbformat": 4,
 "nbformat_minor": 2
}
