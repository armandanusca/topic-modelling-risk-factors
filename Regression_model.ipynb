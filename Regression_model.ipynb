{
  "cells": [
    {
      "cell_type": "markdown",
      "metadata": {
        "id": "g8VGTjJly3Rh"
      },
      "source": [
        "### An analysis which uses the best performing forecasting method on multiple data splits\n",
        "\n",
        "It takes as an input, the timeseries obtained from DTM.\n",
        "\n",
        "The best performing regression model was determined in Regression Parameter Tunning analysis\n",
        "\n",
        "The data is used in two different ways for training and testing:\n",
        "* random sampling it from the whole dataset, with a 90-10 ratio\n",
        "* creating progressive splits, moving the start and end date\n",
        "\n",
        "All the data splits will be K Fold Validated\n",
        "\n",
        "The end product of this analysis will be to use the model in order to predict the value of the next time step"
      ]
    },
    {
      "cell_type": "markdown",
      "metadata": {
        "id": "G9Dg7uUD0Mvj"
      },
      "source": [
        "### Initialisation and parameter settings"
      ]
    },
    {
      "cell_type": "code",
      "execution_count": null,
      "metadata": {
        "id": "xV_Zy0Qz_kp9"
      },
      "outputs": [],
      "source": [
        "import datetime\n",
        "import pickle\n",
        "import random\n",
        "import sys\n",
        "import time\n",
        "\n",
        "import fastcluster\n",
        "import matplotlib.pyplot as plt\n",
        "import numpy as np\n",
        "import pandas as pd\n",
        "import plotly.graph_objects as go\n",
        "import seaborn as sns\n",
        "from joblib import dump\n",
        "from sklearn.compose import ColumnTransformer\n",
        "from sklearn.ensemble import RandomForestRegressor\n",
        "from sklearn.impute import KNNImputer, SimpleImputer\n",
        "from sklearn.metrics import (mean_absolute_error,\n",
        "                             mean_absolute_percentage_error,\n",
        "                             mean_squared_error, r2_score)\n",
        "from sklearn.preprocessing import OneHotEncoder\n",
        "from tqdm.notebook import tqdm, trange\n"
      ]
    },
    {
      "cell_type": "code",
      "execution_count": null,
      "metadata": {
        "id": "jJ8Vc0-n_8HN"
      },
      "outputs": [],
      "source": [
        "topics_over_time = pd.read_csv('output/DTM/DTM_collab_test_manual_sentence-transformers(1-2)_full.csv')"
      ]
    },
    {
      "cell_type": "code",
      "execution_count": null,
      "metadata": {
        "id": "Nbj4sslr21t5"
      },
      "outputs": [],
      "source": [
        "def train_test_model(train_df,test_df,features,verbose=False,\n",
        "                     imputer_type='simple'):\n",
        "\n",
        "  # Training phase\n",
        "  train_df = train_df.dropna(subset=['Frequency_Next_Year'])\n",
        "  if imputer_type == 'knn':\n",
        "    imputer = KNNImputer(n_neighbors=2)\n",
        "  else:\n",
        "    imputer = SimpleImputer()\n",
        "\n",
        "  x_training = imputer.fit_transform(train_df[features])\n",
        "  y_training = train_df['Frequency_Next_Year']\n",
        "  mdl = RandomForestRegressor(n_estimators=estimators,\n",
        "                                            max_features=max_features,\n",
        "                                            max_depth=max_depth,\n",
        "                                            min_samples_leaf = min_samples_leaf,\n",
        "                                            min_samples_split = min_samples_split,\n",
        "                                            bootstrap = btstr,\n",
        "                                            random_state=0, n_jobs=16)\n",
        "  mdl.fit(x_training,y_training)\n",
        "\n",
        "  # Testing phase\n",
        "  x_testing = imputer.fit_transform(test_df[features])\n",
        "  y_testing = test_df['Frequency_Next_Year']\n",
        "  predicted_testing = mdl.predict(x_testing)\n",
        "  mask = ~np.isnan(y_testing)\n",
        "  r2 = r2_score(y_testing[mask],predicted_testing[mask])\n",
        "\n",
        "  if verbose:\n",
        "    # Output metrics for results\n",
        "    print(f'MSE: {mean_squared_error(y_testing[mask],predicted_testing[mask])}')\n",
        "    print(f'MAE: {mean_absolute_error(y_testing[mask],predicted_testing[mask])}')\n",
        "    print(f'MAPE: {mean_absolute_percentage_error(y_testing[mask],predicted_testing[mask])}')\n",
        "    print(f'R2: {r2}')\n",
        "\n",
        "    # Output results for visual comparasion\n",
        "    print(test_df.loc[np.isnan(y_testing)])\n",
        "    print(predicted_testing[np.isnan(y_testing)])\n",
        "  s_mdl = pickle.dumps(mdl)\n",
        "\n",
        "  return (s_mdl, r2, y_testing[mask], predicted_testing[mask])\n",
        "\n",
        "  "
      ]
    },
    {
      "cell_type": "code",
      "execution_count": null,
      "metadata": {
        "id": "TMxeqsSfSWVq"
      },
      "outputs": [],
      "source": [
        "def plot_prediction(yval,p):\n",
        "  t = np.linspace(min(yval),max(yval),len(yval))\n",
        "  fig = go.Figure()\n",
        "\n",
        "  # Add traces\n",
        "  fig.add_trace(go.Scatter(x=yval, y=p,\n",
        "                      mode='markers',\n",
        "                      name='markers'))\n",
        "  fig.add_trace(go.Scatter(x=t, y=t,\n",
        "                      mode='lines',\n",
        "                      name='lines'))\n",
        "  fig.show()"
      ]
    },
    {
      "cell_type": "markdown",
      "metadata": {
        "id": "C4SClfNmpfKK"
      },
      "source": [
        "### Feature engineering\n",
        "\n",
        "It creates several features to enhance the performance of the model"
      ]
    },
    {
      "cell_type": "code",
      "execution_count": null,
      "metadata": {
        "colab": {
          "base_uri": "https://localhost:8080/"
        },
        "id": "T9nQPLISAIh4",
        "outputId": "749db53a-fbae-4b29-8bee-692ac4b9c0a0"
      },
      "outputs": [],
      "source": [
        "topics_over_time.shape"
      ]
    },
    {
      "cell_type": "code",
      "execution_count": null,
      "metadata": {
        "colab": {
          "base_uri": "https://localhost:8080/"
        },
        "id": "qpxB51WjeSHu",
        "outputId": "f9d42f51-81fe-4b3b-aa42-cd4cea18612f"
      },
      "outputs": [],
      "source": [
        "topics = topics_over_time['Topic'].unique()\n",
        "len(topics)"
      ]
    },
    {
      "cell_type": "code",
      "execution_count": null,
      "metadata": {
        "colab": {
          "base_uri": "https://localhost:8080/"
        },
        "id": "mP3YhQo-eYLL",
        "outputId": "6a8cad50-cec7-4787-b013-0cb17705b4d8"
      },
      "outputs": [],
      "source": [
        "timestamps = topics_over_time['Timestamp'].unique()\n",
        "len(timestamps)"
      ]
    },
    {
      "cell_type": "code",
      "execution_count": null,
      "metadata": {
        "id": "QTthVqSqXR4G"
      },
      "outputs": [],
      "source": [
        "# Normalisation methods available: None | mean | min-max\n",
        "normalisation_method = None\n",
        "\n",
        "# Hyperparameter tuning\n",
        "hyperparameter_tuning = False"
      ]
    },
    {
      "cell_type": "code",
      "execution_count": null,
      "metadata": {
        "id": "kiBAl6-UAMRJ"
      },
      "outputs": [],
      "source": [
        "topics_over_time = topics_over_time.sort_values(by=['Topic','Timestamp'])\n",
        "if normalisation_method == 'mean':\n",
        "  topics_over_time['Frequency'] = ((topics_over_time['Frequency']\n",
        "                                   -topics_over_time['Frequency'].mean())\n",
        "                                   /topics_over_time['Frequency'].std())\n",
        "elif normalisation_method == 'min-max':\n",
        "  topics_over_time['Frequency'] = (topics_over_time['Frequency']-\n",
        "                                   topics_over_time['Frequency'].min())/(\n",
        "                                       topics_over_time['Frequency'].max()\n",
        "                                       -topics_over_time['Frequency'].min())"
      ]
    },
    {
      "cell_type": "code",
      "execution_count": null,
      "metadata": {
        "id": "GgkrHD8pANaf"
      },
      "outputs": [],
      "source": [
        "topics_over_time['Frequency_Next_Year'] = topics_over_time.groupby('Topic')['Frequency'].shift(-1)\n",
        "topics_over_time['Lag-1'] = topics_over_time.groupby('Topic')['Frequency'].shift(1)\n",
        "topics_over_time['Diff-1'] = topics_over_time.groupby('Topic')['Frequency'].diff(1)\n",
        "topics_over_time['Rolling-4'] = topics_over_time.groupby('Topic')['Frequency'].rolling(4).mean().reset_index(level=0,drop=True)"
      ]
    },
    {
      "cell_type": "markdown",
      "metadata": {
        "id": "itctgomCA7fd"
      },
      "source": [
        "Use OneHotEncoder for representing Topic feature"
      ]
    },
    {
      "cell_type": "code",
      "execution_count": null,
      "metadata": {
        "colab": {
          "base_uri": "https://localhost:8080/",
          "height": 487
        },
        "id": "3CkP3p27BBzf",
        "outputId": "80a0dc83-8d36-42e3-a052-784425ce74ad"
      },
      "outputs": [],
      "source": [
        "features_df = topics_over_time[['Timestamp','Topic','Frequency_Next_Year',\n",
        "                                'Frequency','Lag-1','Diff-1','Rolling-4']]\n",
        "\n",
        "ct = ColumnTransformer(\n",
        "    [('one_hot_encoder', OneHotEncoder(categories='auto', sparse=False),\n",
        "      ['Timestamp','Topic'])],  remainder='passthrough'\n",
        ")\n",
        "\n",
        "X = ct.fit_transform(features_df)\n",
        "features = []\n",
        "for year in timestamps:\n",
        "  features.append(f'Is_Year_{year}')\n",
        "for topic in topics:\n",
        "  features.append(f'Is_Topic_{topic}')\n",
        "features.extend(['Frequency_Next_Year','Frequency','Lag-1',\n",
        "                          'Diff-1','Rolling-4'])\n",
        "one_hot_encoded_df = pd.DataFrame(X, columns = features)\n",
        "features.remove('Frequency_Next_Year')\n",
        "one_hot_encoded_df"
      ]
    },
    {
      "cell_type": "code",
      "execution_count": null,
      "metadata": {
        "colab": {
          "base_uri": "https://localhost:8080/",
          "height": 681
        },
        "id": "YpiQCb5KG8hq",
        "outputId": "9c226875-b7d0-4db0-9d79-108a1d10a663"
      },
      "outputs": [],
      "source": [
        "f, ax = plt.subplots(figsize=(10, 8))\n",
        "corr = one_hot_encoded_df.corr()\n",
        "sns.heatmap(corr, mask=np.zeros_like(corr, dtype=np.bool),\n",
        "            cmap=sns.diverging_palette(220, 10, as_cmap=True),\n",
        "            square=True, ax=ax)"
      ]
    },
    {
      "cell_type": "markdown",
      "metadata": {
        "id": "Jm_ave4qN53W"
      },
      "source": [
        "Hyperparameter Tuning for RandomForestRegressor"
      ]
    },
    {
      "cell_type": "code",
      "execution_count": null,
      "metadata": {
        "id": "8U-_n5_FN4tU"
      },
      "outputs": [],
      "source": [
        "if hyperparameter_tuning:\n",
        "  n_estimators = [5, 20, 50, 100, 200, 300, 500, 600, 1000] # number of trees in the random forest\n",
        "  max_features = ['auto', 'sqrt'] # number of features in consideration at every split\n",
        "  max_depth = [int(x) for x in np.linspace(10, 120, num = 12)] # maximum number of levels allowed in each decision tree\n",
        "  min_samples_split = [2, 6, 10] # minimum sample number to split a node\n",
        "  min_samples_leaf = [1, 3, 4] # minimum sample number that can be stored in a leaf node\n",
        "  bootstrap = [True, False] # method used to sample data points\n",
        "else:\n",
        "  estimators = 50 \n",
        "  max_features = 'auto'\n",
        "  max_depth = 40\n",
        "  min_samples_split = 2\n",
        "  min_samples_leaf = 1\n",
        "  btstr = False"
      ]
    },
    {
      "cell_type": "code",
      "execution_count": null,
      "metadata": {
        "colab": {
          "base_uri": "https://localhost:8080/",
          "height": 81,
          "referenced_widgets": [
            "0f38ef2770fe488393789d993fe10dd2",
            "c274ebf0c2c141d78c1b1ae1b62cbda0",
            "f485da0e314c4a4eb3ae78d1116e43e6",
            "142c940886eb461993f478c1d5ad7615",
            "bdbe774b975049648deaf23e556df9e2",
            "5d98efd9e58e4dac943abcab1b56f997",
            "14ae5ec340e1416a8fe6002c7e734cdf",
            "77c9ede02698495ea65705132e6fd97c",
            "c356650ab9c9494dac9dcef24b4ee1d9",
            "39c464378af04e288919817bd9ffec9e",
            "faef7848621a448ab27a9a80b2294b25",
            "1a5f63c30fda4f23ac7441acce41bb37",
            "9bc3d308f4a34e268b1ba9357d2d6755",
            "5fd7ea4fa1694119b5dcd2f1fc064a5a",
            "7559aea990a04fc5b943750f062f68d5",
            "2d2b675ace41419f80f47a5fddce9361",
            "7f23d93e77d44ca69eab81582048e8b0",
            "6b67c3f9f3f14f028cfc536f681890a3",
            "0e71379209404a8491f2422a4b1867af",
            "3f98ebfc9f82406b8c349291169a9d02",
            "a0f745f371c24a74a7cfd7ac5288bab7",
            "53c6a5a6a6344f7c9e9d1b0ee1cc40c8"
          ]
        },
        "id": "sED8nOwsSDFK",
        "outputId": "9b24d4f6-1033-4ef4-e4d7-3e431ab46216"
      },
      "outputs": [],
      "source": [
        "if hyperparameter_tuning:\n",
        "\n",
        "  # Dataframe to store results of the hyperparameter tuning\n",
        "  hyperparameter_tuning_random_forest_df = pd.DataFrame({\n",
        "      'execution_datetime':pd.Series(dtype='str'),\n",
        "      'execution_datetime':pd.Series(dtype='float64'),\n",
        "      'split_number':pd.Series(dtype='int'),\n",
        "      'r2':pd.Series(dtype='float64'),\n",
        "      'mape':pd.Series(dtype='float64'),\n",
        "      'mae':pd.Series(dtype='float64'),\n",
        "      'mse':pd.Series(dtype='float64'),\n",
        "      'n_estimators':pd.Series(dtype='int'),\n",
        "      'max_features':pd.Series(dtype='str'),\n",
        "      'max_depth':pd.Series(dtype='int'),\n",
        "      'min_samples_split':pd.Series(dtype='int'),\n",
        "      'min_samples_leaf':pd.Series(dtype='int'),\n",
        "      'bootstrap':pd.Series(dtype='bool')\n",
        "  })\n",
        "\n",
        "  shuffled_topics_over_time = one_hot_encoded_df.sample(frac=1)\n",
        "  dataset_lenght = len(shuffled_topics_over_time)\n",
        "  dataset_split = int(dataset_lenght/10)\n",
        "\n",
        "  best_r2 = -1\n",
        "  sum_r2 = 0\n",
        "  best_yval = None\n",
        "  best_ypredicted = None\n",
        "\n",
        "  for index in trange(10):\n",
        "    run_entry = {'split_number':(index+1)}\n",
        "    train_df = shuffled_topics_over_time.iloc[(index*dataset_split):\n",
        "                                                ((index+1)*dataset_split)]\n",
        "    test_df = pd.concat([shuffled_topics_over_time.iloc[0:(index*dataset_split)],\n",
        "                          shuffled_topics_over_time.iloc[((index+1)\n",
        "                          *dataset_split):]],ignore_index=True)\n",
        "    \n",
        "    # Data preparation\n",
        "    imputer = SimpleImputer()\n",
        "    train_df = train_df.dropna(subset=['Frequency_Next_Year'])\n",
        "\n",
        "    x_training = imputer.fit_transform(train_df[features])\n",
        "    y_training = train_df['Frequency_Next_Year']\n",
        "    x_testing = imputer.transform(test_df[features])\n",
        "    y_testing = test_df['Frequency_Next_Year']\n",
        "\n",
        "    for estimators in tqdm(n_estimators):\n",
        "      run_entry['n_estimators'] = estimators\n",
        "      for mx_features in max_features:\n",
        "        run_entry['max_features'] = mx_features\n",
        "        for mx_depth in max_depth:\n",
        "          run_entry['max_depth'] = mx_depth\n",
        "          for mn_samples_leaf in min_samples_leaf:\n",
        "            run_entry['min_samples_leaf'] = mn_samples_leaf\n",
        "            for mn_samples_split in min_samples_split:\n",
        "              run_entry['min_samples_split'] = mn_samples_split\n",
        "              for btstr in bootstrap:\n",
        "                run_entry['bootstrap'] = btstr\n",
        "                start_time = time.time()\n",
        "\n",
        "                # Training phase\n",
        "                mdl = RandomForestRegressor(n_estimators=estimators,\n",
        "                                            max_features=mx_features,\n",
        "                                            max_depth=mx_depth,\n",
        "                                            min_samples_leaf = mn_samples_leaf,\n",
        "                                            min_samples_split = mn_samples_split,\n",
        "                                            bootstrap = btstr,\n",
        "                                            random_state=0, n_jobs=16)\n",
        "                mdl.fit(x_training,y_training)\n",
        "\n",
        "                # Testing phase\n",
        "                predicted_testing = mdl.predict(x_testing)\n",
        "                run_entry['execution_time'] = (time.time() - start_time)\n",
        "                run_entry['execution_datetime'] = datetime.datetime.now()\n",
        "                mask = ~np.isnan(y_testing)\n",
        "\n",
        "                run_entry['r2'] = r2_score(y_testing[mask],\n",
        "                                          predicted_testing[mask])\n",
        "                run_entry['mse'] = mean_squared_error(y_testing[mask],\n",
        "                                          predicted_testing[mask])\n",
        "                run_entry['mae'] = mean_absolute_error(y_testing[mask],\n",
        "                                          predicted_testing[mask])\n",
        "                run_entry['mape'] = mean_absolute_percentage_error(y_testing[mask],\n",
        "                                          predicted_testing[mask])\n",
        "                \n",
        "                hyperparameter_tuning_random_forest_df = hyperparameter_tuning_random_forest_df.append(run_entry,ignore_index=True)\n",
        "                \n",
        "  hyperparameter_tuning_random_forest_df.to_csv(f'results/Hyperparameter Tuning/{datetime.datetime.now().strftime(\"%Y-%m-%d-%H-%M\")}_hyperparameter_tuning_rfr.csv')\n",
        "  grouped_hyperparameters = hyperparameter_tuning_random_forest_df.groupby(\n",
        "    by=['n_estimators','max_features','max_depth','min_samples_split',\n",
        "        'min_samples_leaf','bootstrap']).mean().sort_values(by=['r2',\n",
        "                                                                    'mse',\n",
        "                                                                    'mae',\n",
        "                                                                    'mape']\n",
        "                                                            ,ascending=[False,\n",
        "                                                                        True,\n",
        "                                                                        True,\n",
        "                                                                        True])\n",
        "  grouped_hyperparameters.to_csv(\n",
        "    f'results/Hyperparameter Tuning/{datetime.datetime.now().strftime(\"%Y-%m-%d-%H-%M\")}_grouped_hyperparameter_tuning_rfr.csv')\n",
        "  grouped_hyperparameters = grouped_hyperparameters.reset_index()\n",
        "  estimators = grouped_hyperparameters['n_estimators'].iloc[0]\n",
        "  max_features = grouped_hyperparameters['max_features'].iloc[0]\n",
        "  max_depth = grouped_hyperparameters['max_depth'].iloc[0]\n",
        "  min_samples_split = grouped_hyperparameters['min_samples_split'].iloc[0]\n",
        "  min_samples_leaf = grouped_hyperparameters['min_samples_leaf'].iloc[0]\n",
        "  btstr = grouped_hyperparameters['bootstrap'].iloc[0]\n"
      ]
    },
    {
      "cell_type": "code",
      "execution_count": null,
      "metadata": {
        "id": "uve43XvYbxlF"
      },
      "outputs": [],
      "source": [
        "if hyperparameter_tuning:\n",
        "  print(hyperparameter_tuning_random_forest_df)"
      ]
    },
    {
      "cell_type": "code",
      "execution_count": null,
      "metadata": {},
      "outputs": [],
      "source": [
        "if hyperparameter_tuning:\n",
        "  print(grouped_hyperparameters)"
      ]
    },
    {
      "cell_type": "code",
      "execution_count": null,
      "metadata": {
        "id": "16A3GoEZJfCa"
      },
      "outputs": [],
      "source": [
        "shuffled_topics_over_time = one_hot_encoded_df.sample(frac=1)\n",
        "dataset_lenght = len(shuffled_topics_over_time)\n",
        "dataset_split = int(dataset_lenght/10)\n",
        "\n",
        "best_r2 = -1\n",
        "sum_r2 = 0\n",
        "best_yval = None\n",
        "best_ypredicted = None\n",
        "\n",
        "for index in range(10):\n",
        "  print(f'Split # {(index+1)}')\n",
        "  train_data = shuffled_topics_over_time.iloc[(index*dataset_split):\n",
        "                                              ((index+1)*dataset_split)]\n",
        "  test_data = pd.concat([shuffled_topics_over_time.iloc[0:(index*dataset_split)],\n",
        "                        shuffled_topics_over_time.iloc[((index+1)\n",
        "                        *dataset_split):]],ignore_index=True)\n",
        "  s_mdl, r2, yval, ypredicted = train_test_model(train_data,test_data,features)\n",
        "  sum_r2 += r2\n",
        "\n",
        "  if r2 > best_r2:\n",
        "    best_r2 = r2\n",
        "    regression_model = pickle.loads(s_mdl)\n",
        "    dump(regression_model,\n",
        "         'models/ohe_best_model.joblib')\n",
        "    best_yval = yval\n",
        "    best_ypredicted = ypredicted"
      ]
    },
    {
      "cell_type": "code",
      "execution_count": null,
      "metadata": {
        "id": "HWT0HnxeYSDc"
      },
      "outputs": [],
      "source": [
        "f\"Average R2 score: {sum_r2/10}\""
      ]
    },
    {
      "cell_type": "code",
      "execution_count": null,
      "metadata": {
        "id": "dRsmdi0uYSnb"
      },
      "outputs": [],
      "source": [
        "f\"Best R2 score: {best_r2}\""
      ]
    },
    {
      "cell_type": "code",
      "execution_count": null,
      "metadata": {
        "id": "QkcxC4bhYXpi"
      },
      "outputs": [],
      "source": [
        "plot_prediction(best_yval,best_ypredicted)"
      ]
    },
    {
      "cell_type": "markdown",
      "metadata": {
        "id": "Ijlv1srhBOTJ"
      },
      "source": [
        "Check features"
      ]
    },
    {
      "cell_type": "code",
      "execution_count": null,
      "metadata": {
        "id": "ci8x6UBD3JC8"
      },
      "outputs": [],
      "source": [
        "features = ['Topic','Frequency','Lag-1','Diff-1','Rolling-4']"
      ]
    },
    {
      "cell_type": "code",
      "execution_count": null,
      "metadata": {
        "id": "0ag4ZMeb3CfS"
      },
      "outputs": [],
      "source": [
        "sns.clustermap(topics_over_time[features].corr())"
      ]
    },
    {
      "cell_type": "code",
      "execution_count": null,
      "metadata": {
        "id": "_ejr2y99AOX_"
      },
      "outputs": [],
      "source": [
        "topics_over_time[topics_over_time['Topic']==36]"
      ]
    },
    {
      "cell_type": "code",
      "execution_count": null,
      "metadata": {
        "id": "tqZ4UOXLnokT"
      },
      "outputs": [],
      "source": [
        "value = topics_over_time[topics_over_time['Topic']==36]['Words'].unique()\n",
        "value"
      ]
    },
    {
      "cell_type": "markdown",
      "metadata": {
        "id": "_8SyY8v0KNuZ"
      },
      "source": [
        "### First data split: percentage based sampling from each topic"
      ]
    },
    {
      "cell_type": "code",
      "execution_count": null,
      "metadata": {
        "id": "pYu0ymu5Kcv1"
      },
      "outputs": [],
      "source": [
        "topics_timeseries = topics_over_time[['Topic','Frequency','Timestamp',\n",
        "                                              'Frequency_Next_Year','Lag-1',\n",
        "                                              'Diff-1',\n",
        "                                              'Rolling-4']]\n",
        "topics_list = list(topics_timeseries['Topic'].unique())\n",
        "\n",
        "train_data = pd.DataFrame()\n",
        "test_data = pd.DataFrame()\n",
        "predict_data = pd.DataFrame()\n",
        "\n",
        "for topic in topics_list:\n",
        "  temp_df = topics_timeseries[topics_timeseries['Topic']==topic].sort_values(\n",
        "      'Timestamp')\n",
        "  topic_size = len(temp_df)\n",
        "  predict_data = pd.concat([predict_data,temp_df.iloc[topic_size-1:]],\n",
        "                           ignore_index=True)\n",
        "  test_data = pd.concat([test_data,temp_df.iloc[topic_size-2:topic_size-1]],\n",
        "                        ignore_index=True)\n",
        "  train_data = pd.concat([train_data,temp_df.iloc[:topic_size-2]],\n",
        "                         ignore_index=True)\n",
        "\n",
        "timeseries_mdl,r2_timeseries, yval, ypredicted = train_test_model(train_data,\n",
        "                                                                  test_data,\n",
        "                                                                  features,\n",
        "                                                                  verbose=True)\n",
        "mdl = pickle.loads(timeseries_mdl)\n",
        "imputer = KNNImputer(n_neighbors=2)\n",
        "to_predict_values = x_testing = imputer.fit_transform(predict_data[features])\n",
        "predicted_values = mdl.predict(to_predict_values)\n",
        "predict_data['Frequency_Next_Year'] = predicted_values"
      ]
    },
    {
      "cell_type": "code",
      "execution_count": null,
      "metadata": {
        "id": "BeiQORguXAlj"
      },
      "outputs": [],
      "source": [
        "predict_data"
      ]
    },
    {
      "cell_type": "code",
      "execution_count": null,
      "metadata": {
        "id": "PLoXsUfkYkAv"
      },
      "outputs": [],
      "source": [
        "plot_prediction(yval,ypredicted)"
      ]
    },
    {
      "cell_type": "markdown",
      "metadata": {
        "id": "2dRQqh6Q08oj"
      },
      "source": [
        "### Second data split: random sampling from dataset(90/10)"
      ]
    },
    {
      "cell_type": "code",
      "execution_count": null,
      "metadata": {
        "id": "n9gHqDIcAPeh"
      },
      "outputs": [],
      "source": [
        "shuffled_topics_over_time = topics_over_time[['Topic','Frequency','Timestamp',\n",
        "                                              'Frequency_Next_Year','Lag-1',\n",
        "                                              'Diff-1',\n",
        "                                              'Rolling-4']].sample(frac=1)\n",
        "dataset_lenght = len(shuffled_topics_over_time)\n",
        "dataset_split = int(dataset_lenght/10)\n",
        "\n",
        "# Redirect output for logging purposes\n",
        "orig_stdout = sys.stdout\n",
        "f = open(f'logs/{datetime.datetime.now().strftime(\"%Y-%m-%d_%H_%M\")}_random_regression.log', \"w\")\n",
        "sys.stdout = f\n",
        "print(datetime.datetime.now())\n",
        "\n",
        "best_r2 = -1\n",
        "sum_r2 = 0\n",
        "best_yval = None\n",
        "best_ypredicted = None\n",
        "\n",
        "for index in range(10):\n",
        "  print(f'Split # {(index+1)}')\n",
        "  train_data = shuffled_topics_over_time.iloc[(index*dataset_split):\n",
        "                                              ((index+1)*dataset_split)]\n",
        "  test_data = pd.concat([shuffled_topics_over_time.iloc[0:(index*dataset_split)],\n",
        "                        shuffled_topics_over_time.iloc[((index+1)*dataset_split):]],ignore_index=True)\n",
        "  s_mdl, r2, yval, ypredicted = train_test_model(train_data,test_data,features,\n",
        "                                                 verbose=True)\n",
        "  sum_r2 += r2\n",
        "\n",
        "  if r2 > best_r2:\n",
        "    best_r2 = r2\n",
        "    regression_model = pickle.loads(s_mdl)\n",
        "    dump(regression_model,\n",
        "         'models/best_model.joblib')\n",
        "    best_yval = yval\n",
        "    best_ypredicted = ypredicted\n",
        "\n",
        "# Restore default output\n",
        "sys.stdout = orig_stdout\n",
        "f.close()\n",
        "\n"
      ]
    },
    {
      "cell_type": "code",
      "execution_count": null,
      "metadata": {
        "id": "LxbbJPLaU-UN"
      },
      "outputs": [],
      "source": [
        "f\"Average R2 score: {sum_r2/10}\""
      ]
    },
    {
      "cell_type": "code",
      "execution_count": null,
      "metadata": {
        "id": "c1oMUtgtU126"
      },
      "outputs": [],
      "source": [
        "f\"Best R2 score: {best_r2}\""
      ]
    },
    {
      "cell_type": "code",
      "execution_count": null,
      "metadata": {
        "id": "AZfe3oLRUjmT"
      },
      "outputs": [],
      "source": [
        "plot_prediction(best_yval,best_ypredicted)"
      ]
    }
  ],
  "metadata": {
    "colab": {
      "background_execution": "on",
      "collapsed_sections": [],
      "name": "Regression Model.ipynb",
      "provenance": []
    },
    "kernelspec": {
      "display_name": "Python 3",
      "name": "python3"
    },
    "language_info": {
      "codemirror_mode": {
        "name": "ipython",
        "version": 3
      },
      "file_extension": ".py",
      "mimetype": "text/x-python",
      "name": "python",
      "nbconvert_exporter": "python",
      "pygments_lexer": "ipython3",
      "version": "3.9.10"
    },
    "widgets": {
      "application/vnd.jupyter.widget-state+json": {
        "0e71379209404a8491f2422a4b1867af": {
          "model_module": "@jupyter-widgets/controls",
          "model_module_version": "1.5.0",
          "model_name": "ProgressStyleModel",
          "state": {
            "_model_module": "@jupyter-widgets/controls",
            "_model_module_version": "1.5.0",
            "_model_name": "ProgressStyleModel",
            "_view_count": null,
            "_view_module": "@jupyter-widgets/base",
            "_view_module_version": "1.2.0",
            "_view_name": "StyleView",
            "bar_color": null,
            "description_width": ""
          }
        },
        "0f38ef2770fe488393789d993fe10dd2": {
          "model_module": "@jupyter-widgets/controls",
          "model_module_version": "1.5.0",
          "model_name": "HBoxModel",
          "state": {
            "_dom_classes": [],
            "_model_module": "@jupyter-widgets/controls",
            "_model_module_version": "1.5.0",
            "_model_name": "HBoxModel",
            "_view_count": null,
            "_view_module": "@jupyter-widgets/controls",
            "_view_module_version": "1.5.0",
            "_view_name": "HBoxView",
            "box_style": "",
            "children": [
              "IPY_MODEL_f485da0e314c4a4eb3ae78d1116e43e6",
              "IPY_MODEL_142c940886eb461993f478c1d5ad7615",
              "IPY_MODEL_bdbe774b975049648deaf23e556df9e2"
            ],
            "layout": "IPY_MODEL_c274ebf0c2c141d78c1b1ae1b62cbda0"
          }
        },
        "142c940886eb461993f478c1d5ad7615": {
          "model_module": "@jupyter-widgets/controls",
          "model_module_version": "1.5.0",
          "model_name": "FloatProgressModel",
          "state": {
            "_dom_classes": [],
            "_model_module": "@jupyter-widgets/controls",
            "_model_module_version": "1.5.0",
            "_model_name": "FloatProgressModel",
            "_view_count": null,
            "_view_module": "@jupyter-widgets/controls",
            "_view_module_version": "1.5.0",
            "_view_name": "ProgressView",
            "bar_style": "",
            "description": "",
            "description_tooltip": null,
            "layout": "IPY_MODEL_c356650ab9c9494dac9dcef24b4ee1d9",
            "max": 10,
            "min": 0,
            "orientation": "horizontal",
            "style": "IPY_MODEL_77c9ede02698495ea65705132e6fd97c",
            "value": 0
          }
        },
        "14ae5ec340e1416a8fe6002c7e734cdf": {
          "model_module": "@jupyter-widgets/base",
          "model_module_version": "1.2.0",
          "model_name": "LayoutModel",
          "state": {
            "_model_module": "@jupyter-widgets/base",
            "_model_module_version": "1.2.0",
            "_model_name": "LayoutModel",
            "_view_count": null,
            "_view_module": "@jupyter-widgets/base",
            "_view_module_version": "1.2.0",
            "_view_name": "LayoutView",
            "align_content": null,
            "align_items": null,
            "align_self": null,
            "border": null,
            "bottom": null,
            "display": null,
            "flex": null,
            "flex_flow": null,
            "grid_area": null,
            "grid_auto_columns": null,
            "grid_auto_flow": null,
            "grid_auto_rows": null,
            "grid_column": null,
            "grid_gap": null,
            "grid_row": null,
            "grid_template_areas": null,
            "grid_template_columns": null,
            "grid_template_rows": null,
            "height": null,
            "justify_content": null,
            "justify_items": null,
            "left": null,
            "margin": null,
            "max_height": null,
            "max_width": null,
            "min_height": null,
            "min_width": null,
            "object_fit": null,
            "object_position": null,
            "order": null,
            "overflow": null,
            "overflow_x": null,
            "overflow_y": null,
            "padding": null,
            "right": null,
            "top": null,
            "visibility": null,
            "width": null
          }
        },
        "1a5f63c30fda4f23ac7441acce41bb37": {
          "model_module": "@jupyter-widgets/controls",
          "model_module_version": "1.5.0",
          "model_name": "HBoxModel",
          "state": {
            "_dom_classes": [],
            "_model_module": "@jupyter-widgets/controls",
            "_model_module_version": "1.5.0",
            "_model_name": "HBoxModel",
            "_view_count": null,
            "_view_module": "@jupyter-widgets/controls",
            "_view_module_version": "1.5.0",
            "_view_name": "HBoxView",
            "box_style": "",
            "children": [
              "IPY_MODEL_5fd7ea4fa1694119b5dcd2f1fc064a5a",
              "IPY_MODEL_7559aea990a04fc5b943750f062f68d5",
              "IPY_MODEL_2d2b675ace41419f80f47a5fddce9361"
            ],
            "layout": "IPY_MODEL_9bc3d308f4a34e268b1ba9357d2d6755"
          }
        },
        "2d2b675ace41419f80f47a5fddce9361": {
          "model_module": "@jupyter-widgets/controls",
          "model_module_version": "1.5.0",
          "model_name": "HTMLModel",
          "state": {
            "_dom_classes": [],
            "_model_module": "@jupyter-widgets/controls",
            "_model_module_version": "1.5.0",
            "_model_name": "HTMLModel",
            "_view_count": null,
            "_view_module": "@jupyter-widgets/controls",
            "_view_module_version": "1.5.0",
            "_view_name": "HTMLView",
            "description": "",
            "description_tooltip": null,
            "layout": "IPY_MODEL_53c6a5a6a6344f7c9e9d1b0ee1cc40c8",
            "placeholder": "​",
            "style": "IPY_MODEL_a0f745f371c24a74a7cfd7ac5288bab7",
            "value": " 0/9 [00:00&lt;?, ?it/s]"
          }
        },
        "39c464378af04e288919817bd9ffec9e": {
          "model_module": "@jupyter-widgets/controls",
          "model_module_version": "1.5.0",
          "model_name": "DescriptionStyleModel",
          "state": {
            "_model_module": "@jupyter-widgets/controls",
            "_model_module_version": "1.5.0",
            "_model_name": "DescriptionStyleModel",
            "_view_count": null,
            "_view_module": "@jupyter-widgets/base",
            "_view_module_version": "1.2.0",
            "_view_name": "StyleView",
            "description_width": ""
          }
        },
        "3f98ebfc9f82406b8c349291169a9d02": {
          "model_module": "@jupyter-widgets/base",
          "model_module_version": "1.2.0",
          "model_name": "LayoutModel",
          "state": {
            "_model_module": "@jupyter-widgets/base",
            "_model_module_version": "1.2.0",
            "_model_name": "LayoutModel",
            "_view_count": null,
            "_view_module": "@jupyter-widgets/base",
            "_view_module_version": "1.2.0",
            "_view_name": "LayoutView",
            "align_content": null,
            "align_items": null,
            "align_self": null,
            "border": null,
            "bottom": null,
            "display": null,
            "flex": null,
            "flex_flow": null,
            "grid_area": null,
            "grid_auto_columns": null,
            "grid_auto_flow": null,
            "grid_auto_rows": null,
            "grid_column": null,
            "grid_gap": null,
            "grid_row": null,
            "grid_template_areas": null,
            "grid_template_columns": null,
            "grid_template_rows": null,
            "height": null,
            "justify_content": null,
            "justify_items": null,
            "left": null,
            "margin": null,
            "max_height": null,
            "max_width": null,
            "min_height": null,
            "min_width": null,
            "object_fit": null,
            "object_position": null,
            "order": null,
            "overflow": null,
            "overflow_x": null,
            "overflow_y": null,
            "padding": null,
            "right": null,
            "top": null,
            "visibility": null,
            "width": null
          }
        },
        "53c6a5a6a6344f7c9e9d1b0ee1cc40c8": {
          "model_module": "@jupyter-widgets/base",
          "model_module_version": "1.2.0",
          "model_name": "LayoutModel",
          "state": {
            "_model_module": "@jupyter-widgets/base",
            "_model_module_version": "1.2.0",
            "_model_name": "LayoutModel",
            "_view_count": null,
            "_view_module": "@jupyter-widgets/base",
            "_view_module_version": "1.2.0",
            "_view_name": "LayoutView",
            "align_content": null,
            "align_items": null,
            "align_self": null,
            "border": null,
            "bottom": null,
            "display": null,
            "flex": null,
            "flex_flow": null,
            "grid_area": null,
            "grid_auto_columns": null,
            "grid_auto_flow": null,
            "grid_auto_rows": null,
            "grid_column": null,
            "grid_gap": null,
            "grid_row": null,
            "grid_template_areas": null,
            "grid_template_columns": null,
            "grid_template_rows": null,
            "height": null,
            "justify_content": null,
            "justify_items": null,
            "left": null,
            "margin": null,
            "max_height": null,
            "max_width": null,
            "min_height": null,
            "min_width": null,
            "object_fit": null,
            "object_position": null,
            "order": null,
            "overflow": null,
            "overflow_x": null,
            "overflow_y": null,
            "padding": null,
            "right": null,
            "top": null,
            "visibility": null,
            "width": null
          }
        },
        "5d98efd9e58e4dac943abcab1b56f997": {
          "model_module": "@jupyter-widgets/controls",
          "model_module_version": "1.5.0",
          "model_name": "DescriptionStyleModel",
          "state": {
            "_model_module": "@jupyter-widgets/controls",
            "_model_module_version": "1.5.0",
            "_model_name": "DescriptionStyleModel",
            "_view_count": null,
            "_view_module": "@jupyter-widgets/base",
            "_view_module_version": "1.2.0",
            "_view_name": "StyleView",
            "description_width": ""
          }
        },
        "5fd7ea4fa1694119b5dcd2f1fc064a5a": {
          "model_module": "@jupyter-widgets/controls",
          "model_module_version": "1.5.0",
          "model_name": "HTMLModel",
          "state": {
            "_dom_classes": [],
            "_model_module": "@jupyter-widgets/controls",
            "_model_module_version": "1.5.0",
            "_model_name": "HTMLModel",
            "_view_count": null,
            "_view_module": "@jupyter-widgets/controls",
            "_view_module_version": "1.5.0",
            "_view_name": "HTMLView",
            "description": "",
            "description_tooltip": null,
            "layout": "IPY_MODEL_6b67c3f9f3f14f028cfc536f681890a3",
            "placeholder": "​",
            "style": "IPY_MODEL_7f23d93e77d44ca69eab81582048e8b0",
            "value": "  0%"
          }
        },
        "6b67c3f9f3f14f028cfc536f681890a3": {
          "model_module": "@jupyter-widgets/base",
          "model_module_version": "1.2.0",
          "model_name": "LayoutModel",
          "state": {
            "_model_module": "@jupyter-widgets/base",
            "_model_module_version": "1.2.0",
            "_model_name": "LayoutModel",
            "_view_count": null,
            "_view_module": "@jupyter-widgets/base",
            "_view_module_version": "1.2.0",
            "_view_name": "LayoutView",
            "align_content": null,
            "align_items": null,
            "align_self": null,
            "border": null,
            "bottom": null,
            "display": null,
            "flex": null,
            "flex_flow": null,
            "grid_area": null,
            "grid_auto_columns": null,
            "grid_auto_flow": null,
            "grid_auto_rows": null,
            "grid_column": null,
            "grid_gap": null,
            "grid_row": null,
            "grid_template_areas": null,
            "grid_template_columns": null,
            "grid_template_rows": null,
            "height": null,
            "justify_content": null,
            "justify_items": null,
            "left": null,
            "margin": null,
            "max_height": null,
            "max_width": null,
            "min_height": null,
            "min_width": null,
            "object_fit": null,
            "object_position": null,
            "order": null,
            "overflow": null,
            "overflow_x": null,
            "overflow_y": null,
            "padding": null,
            "right": null,
            "top": null,
            "visibility": null,
            "width": null
          }
        },
        "7559aea990a04fc5b943750f062f68d5": {
          "model_module": "@jupyter-widgets/controls",
          "model_module_version": "1.5.0",
          "model_name": "FloatProgressModel",
          "state": {
            "_dom_classes": [],
            "_model_module": "@jupyter-widgets/controls",
            "_model_module_version": "1.5.0",
            "_model_name": "FloatProgressModel",
            "_view_count": null,
            "_view_module": "@jupyter-widgets/controls",
            "_view_module_version": "1.5.0",
            "_view_name": "ProgressView",
            "bar_style": "",
            "description": "",
            "description_tooltip": null,
            "layout": "IPY_MODEL_3f98ebfc9f82406b8c349291169a9d02",
            "max": 9,
            "min": 0,
            "orientation": "horizontal",
            "style": "IPY_MODEL_0e71379209404a8491f2422a4b1867af",
            "value": 0
          }
        },
        "77c9ede02698495ea65705132e6fd97c": {
          "model_module": "@jupyter-widgets/controls",
          "model_module_version": "1.5.0",
          "model_name": "ProgressStyleModel",
          "state": {
            "_model_module": "@jupyter-widgets/controls",
            "_model_module_version": "1.5.0",
            "_model_name": "ProgressStyleModel",
            "_view_count": null,
            "_view_module": "@jupyter-widgets/base",
            "_view_module_version": "1.2.0",
            "_view_name": "StyleView",
            "bar_color": null,
            "description_width": ""
          }
        },
        "7f23d93e77d44ca69eab81582048e8b0": {
          "model_module": "@jupyter-widgets/controls",
          "model_module_version": "1.5.0",
          "model_name": "DescriptionStyleModel",
          "state": {
            "_model_module": "@jupyter-widgets/controls",
            "_model_module_version": "1.5.0",
            "_model_name": "DescriptionStyleModel",
            "_view_count": null,
            "_view_module": "@jupyter-widgets/base",
            "_view_module_version": "1.2.0",
            "_view_name": "StyleView",
            "description_width": ""
          }
        },
        "9bc3d308f4a34e268b1ba9357d2d6755": {
          "model_module": "@jupyter-widgets/base",
          "model_module_version": "1.2.0",
          "model_name": "LayoutModel",
          "state": {
            "_model_module": "@jupyter-widgets/base",
            "_model_module_version": "1.2.0",
            "_model_name": "LayoutModel",
            "_view_count": null,
            "_view_module": "@jupyter-widgets/base",
            "_view_module_version": "1.2.0",
            "_view_name": "LayoutView",
            "align_content": null,
            "align_items": null,
            "align_self": null,
            "border": null,
            "bottom": null,
            "display": null,
            "flex": null,
            "flex_flow": null,
            "grid_area": null,
            "grid_auto_columns": null,
            "grid_auto_flow": null,
            "grid_auto_rows": null,
            "grid_column": null,
            "grid_gap": null,
            "grid_row": null,
            "grid_template_areas": null,
            "grid_template_columns": null,
            "grid_template_rows": null,
            "height": null,
            "justify_content": null,
            "justify_items": null,
            "left": null,
            "margin": null,
            "max_height": null,
            "max_width": null,
            "min_height": null,
            "min_width": null,
            "object_fit": null,
            "object_position": null,
            "order": null,
            "overflow": null,
            "overflow_x": null,
            "overflow_y": null,
            "padding": null,
            "right": null,
            "top": null,
            "visibility": null,
            "width": null
          }
        },
        "a0f745f371c24a74a7cfd7ac5288bab7": {
          "model_module": "@jupyter-widgets/controls",
          "model_module_version": "1.5.0",
          "model_name": "DescriptionStyleModel",
          "state": {
            "_model_module": "@jupyter-widgets/controls",
            "_model_module_version": "1.5.0",
            "_model_name": "DescriptionStyleModel",
            "_view_count": null,
            "_view_module": "@jupyter-widgets/base",
            "_view_module_version": "1.2.0",
            "_view_name": "StyleView",
            "description_width": ""
          }
        },
        "bdbe774b975049648deaf23e556df9e2": {
          "model_module": "@jupyter-widgets/controls",
          "model_module_version": "1.5.0",
          "model_name": "HTMLModel",
          "state": {
            "_dom_classes": [],
            "_model_module": "@jupyter-widgets/controls",
            "_model_module_version": "1.5.0",
            "_model_name": "HTMLModel",
            "_view_count": null,
            "_view_module": "@jupyter-widgets/controls",
            "_view_module_version": "1.5.0",
            "_view_name": "HTMLView",
            "description": "",
            "description_tooltip": null,
            "layout": "IPY_MODEL_faef7848621a448ab27a9a80b2294b25",
            "placeholder": "​",
            "style": "IPY_MODEL_39c464378af04e288919817bd9ffec9e",
            "value": " 0/10 [00:00&lt;?, ?it/s]"
          }
        },
        "c274ebf0c2c141d78c1b1ae1b62cbda0": {
          "model_module": "@jupyter-widgets/base",
          "model_module_version": "1.2.0",
          "model_name": "LayoutModel",
          "state": {
            "_model_module": "@jupyter-widgets/base",
            "_model_module_version": "1.2.0",
            "_model_name": "LayoutModel",
            "_view_count": null,
            "_view_module": "@jupyter-widgets/base",
            "_view_module_version": "1.2.0",
            "_view_name": "LayoutView",
            "align_content": null,
            "align_items": null,
            "align_self": null,
            "border": null,
            "bottom": null,
            "display": null,
            "flex": null,
            "flex_flow": null,
            "grid_area": null,
            "grid_auto_columns": null,
            "grid_auto_flow": null,
            "grid_auto_rows": null,
            "grid_column": null,
            "grid_gap": null,
            "grid_row": null,
            "grid_template_areas": null,
            "grid_template_columns": null,
            "grid_template_rows": null,
            "height": null,
            "justify_content": null,
            "justify_items": null,
            "left": null,
            "margin": null,
            "max_height": null,
            "max_width": null,
            "min_height": null,
            "min_width": null,
            "object_fit": null,
            "object_position": null,
            "order": null,
            "overflow": null,
            "overflow_x": null,
            "overflow_y": null,
            "padding": null,
            "right": null,
            "top": null,
            "visibility": null,
            "width": null
          }
        },
        "c356650ab9c9494dac9dcef24b4ee1d9": {
          "model_module": "@jupyter-widgets/base",
          "model_module_version": "1.2.0",
          "model_name": "LayoutModel",
          "state": {
            "_model_module": "@jupyter-widgets/base",
            "_model_module_version": "1.2.0",
            "_model_name": "LayoutModel",
            "_view_count": null,
            "_view_module": "@jupyter-widgets/base",
            "_view_module_version": "1.2.0",
            "_view_name": "LayoutView",
            "align_content": null,
            "align_items": null,
            "align_self": null,
            "border": null,
            "bottom": null,
            "display": null,
            "flex": null,
            "flex_flow": null,
            "grid_area": null,
            "grid_auto_columns": null,
            "grid_auto_flow": null,
            "grid_auto_rows": null,
            "grid_column": null,
            "grid_gap": null,
            "grid_row": null,
            "grid_template_areas": null,
            "grid_template_columns": null,
            "grid_template_rows": null,
            "height": null,
            "justify_content": null,
            "justify_items": null,
            "left": null,
            "margin": null,
            "max_height": null,
            "max_width": null,
            "min_height": null,
            "min_width": null,
            "object_fit": null,
            "object_position": null,
            "order": null,
            "overflow": null,
            "overflow_x": null,
            "overflow_y": null,
            "padding": null,
            "right": null,
            "top": null,
            "visibility": null,
            "width": null
          }
        },
        "f485da0e314c4a4eb3ae78d1116e43e6": {
          "model_module": "@jupyter-widgets/controls",
          "model_module_version": "1.5.0",
          "model_name": "HTMLModel",
          "state": {
            "_dom_classes": [],
            "_model_module": "@jupyter-widgets/controls",
            "_model_module_version": "1.5.0",
            "_model_name": "HTMLModel",
            "_view_count": null,
            "_view_module": "@jupyter-widgets/controls",
            "_view_module_version": "1.5.0",
            "_view_name": "HTMLView",
            "description": "",
            "description_tooltip": null,
            "layout": "IPY_MODEL_14ae5ec340e1416a8fe6002c7e734cdf",
            "placeholder": "​",
            "style": "IPY_MODEL_5d98efd9e58e4dac943abcab1b56f997",
            "value": "  0%"
          }
        },
        "faef7848621a448ab27a9a80b2294b25": {
          "model_module": "@jupyter-widgets/base",
          "model_module_version": "1.2.0",
          "model_name": "LayoutModel",
          "state": {
            "_model_module": "@jupyter-widgets/base",
            "_model_module_version": "1.2.0",
            "_model_name": "LayoutModel",
            "_view_count": null,
            "_view_module": "@jupyter-widgets/base",
            "_view_module_version": "1.2.0",
            "_view_name": "LayoutView",
            "align_content": null,
            "align_items": null,
            "align_self": null,
            "border": null,
            "bottom": null,
            "display": null,
            "flex": null,
            "flex_flow": null,
            "grid_area": null,
            "grid_auto_columns": null,
            "grid_auto_flow": null,
            "grid_auto_rows": null,
            "grid_column": null,
            "grid_gap": null,
            "grid_row": null,
            "grid_template_areas": null,
            "grid_template_columns": null,
            "grid_template_rows": null,
            "height": null,
            "justify_content": null,
            "justify_items": null,
            "left": null,
            "margin": null,
            "max_height": null,
            "max_width": null,
            "min_height": null,
            "min_width": null,
            "object_fit": null,
            "object_position": null,
            "order": null,
            "overflow": null,
            "overflow_x": null,
            "overflow_y": null,
            "padding": null,
            "right": null,
            "top": null,
            "visibility": null,
            "width": null
          }
        }
      }
    }
  },
  "nbformat": 4,
  "nbformat_minor": 0
}
