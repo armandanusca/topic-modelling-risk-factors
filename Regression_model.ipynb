{
 "cells": [
  {
   "cell_type": "markdown",
   "metadata": {
    "id": "g8VGTjJly3Rh"
   },
   "source": [
    "### An analysis which uses the best performing forecasting method on multiple data splits\n",
    "\n",
    "It takes as an input, the timeseries obtained from DTM.\n",
    "\n",
    "The best performing regression model was determined in Regression Parameter Tunning analysis\n",
    "\n",
    "The data is used in two different ways for training and testing:\n",
    "* random sampling it from the whole dataset, with a 90-10 ratio\n",
    "* creating progressive splits, moving the start and end date\n",
    "\n",
    "All the data splits will be K Fold Validated\n",
    "\n",
    "The end product of this analysis will be to use the model in order to predict the value of the next time step"
   ]
  },
  {
   "cell_type": "markdown",
   "metadata": {
    "id": "G9Dg7uUD0Mvj"
   },
   "source": [
    "### Initialisation and parameter settings"
   ]
  },
  {
   "cell_type": "code",
   "execution_count": null,
   "metadata": {
    "id": "xV_Zy0Qz_kp9"
   },
   "outputs": [],
   "source": [
    "import datetime\n",
    "import pickle\n",
    "import sys\n",
    "import time\n",
    "\n",
    "import numpy as np\n",
    "import pandas as pd\n",
    "import plotly.express as px\n",
    "import plotly.graph_objects as go\n",
    "import seaborn as sns\n",
    "from joblib import dump\n",
    "from sklearn.ensemble import RandomForestRegressor\n",
    "from sklearn.impute import KNNImputer, SimpleImputer\n",
    "from sklearn.metrics import (\n",
    "    mean_absolute_error,\n",
    "    mean_absolute_percentage_error,\n",
    "    mean_squared_error,\n",
    "    r2_score,\n",
    ")\n",
    "from tqdm.notebook import tqdm, trange\n",
    "from transformers import BertTokenizer"
   ]
  },
  {
   "cell_type": "code",
   "execution_count": null,
   "metadata": {
    "id": "jJ8Vc0-n_8HN"
   },
   "outputs": [],
   "source": [
    "topics_over_time = pd.read_csv(\"output/DTM/DTM_local_custom_use_default.csv\")"
   ]
  },
  {
   "cell_type": "code",
   "execution_count": null,
   "metadata": {
    "id": "Nbj4sslr21t5"
   },
   "outputs": [],
   "source": [
    "def train_test_model(train_df, test_df, features, verbose=False, imputer_type=\"simple\"):\n",
    "    # Training phase\n",
    "    train_df = train_df.dropna(subset=[\"Frequency_Next_Year\"])\n",
    "    if imputer_type == \"knn\":\n",
    "        imputer = KNNImputer(n_neighbors=2)\n",
    "    else:\n",
    "        imputer = SimpleImputer()\n",
    "\n",
    "    x_training = imputer.fit_transform(train_df[features])\n",
    "    y_training = train_df[\"Frequency_Next_Year\"]\n",
    "    mdl = RandomForestRegressor(\n",
    "        n_estimators=estimators,\n",
    "        max_features=max_features,\n",
    "        max_depth=max_depth,\n",
    "        min_samples_leaf=min_samples_leaf,\n",
    "        min_samples_split=min_samples_split,\n",
    "        bootstrap=btstr,\n",
    "        random_state=0,\n",
    "        n_jobs=16,\n",
    "    )\n",
    "    mdl.fit(x_training, y_training)\n",
    "\n",
    "    # Testing phase\n",
    "    x_testing = imputer.fit_transform(test_df[features])\n",
    "    y_testing = test_df[\"Frequency_Next_Year\"]\n",
    "    predicted_testing = mdl.predict(x_testing)\n",
    "    mask = ~np.isnan(y_testing)\n",
    "    r2 = r2_score(y_testing[mask], predicted_testing[mask])\n",
    "\n",
    "    if verbose:\n",
    "        # Output metrics for results\n",
    "        print(\n",
    "            f\"MSE: {mean_squared_error(y_testing[mask], predicted_testing[mask], squared=False)}\"\n",
    "        )\n",
    "        print(f\"MAE: {mean_absolute_error(y_testing[mask], predicted_testing[mask])}\")\n",
    "        print(\n",
    "            f\"MAPE: {mean_absolute_percentage_error(y_testing[mask], predicted_testing[mask])}\"\n",
    "        )\n",
    "        print(f\"R2: {r2}\")\n",
    "\n",
    "        # Output results for visual comparasion\n",
    "        visual_comparasion_df = test_df.loc[np.isnan(y_testing)]\n",
    "        visual_comparasion_df[\"Frequency_Next_Year\"] = predicted_testing[\n",
    "            np.isnan(y_testing)\n",
    "        ]\n",
    "        print(visual_comparasion_df)\n",
    "    s_mdl = pickle.dumps(mdl)\n",
    "\n",
    "    return (s_mdl, r2, y_testing[mask], predicted_testing[mask])"
   ]
  },
  {
   "cell_type": "code",
   "execution_count": null,
   "metadata": {
    "id": "TMxeqsSfSWVq"
   },
   "outputs": [],
   "source": [
    "def plot_prediction(yval, p):\n",
    "    t = np.linspace(min(yval), max(yval), len(yval))\n",
    "    fig = go.Figure()\n",
    "\n",
    "    # Add traces\n",
    "    fig.add_trace(go.Scatter(x=yval, y=p, mode=\"markers\", name=\"Predicted values\"))\n",
    "    fig.add_trace(go.Scatter(x=t, y=t, mode=\"lines\", name=\"Truth line\"))\n",
    "\n",
    "    fig.update_layout(\n",
    "        title=\"Actual vs Predicted values\", yaxis_zeroline=False, xaxis_zeroline=False\n",
    "    )\n",
    "    fig.show()"
   ]
  },
  {
   "cell_type": "markdown",
   "metadata": {
    "id": "C4SClfNmpfKK"
   },
   "source": [
    "### Feature engineering\n",
    "\n",
    "It creates several features to enhance the performance of the model"
   ]
  },
  {
   "cell_type": "code",
   "execution_count": null,
   "metadata": {
    "colab": {
     "base_uri": "https://localhost:8080/"
    },
    "id": "T9nQPLISAIh4",
    "outputId": "749db53a-fbae-4b29-8bee-692ac4b9c0a0"
   },
   "outputs": [],
   "source": [
    "topics_over_time.shape"
   ]
  },
  {
   "cell_type": "code",
   "execution_count": null,
   "metadata": {},
   "outputs": [],
   "source": [
    "# Used to encode words to be transformed into features\n",
    "def tokenize_words(row):\n",
    "    row[\"EWords\"] = tokenizer.encode(row[\"Words\"])\n",
    "    return row"
   ]
  },
  {
   "cell_type": "code",
   "execution_count": null,
   "metadata": {},
   "outputs": [],
   "source": [
    "# Word embedding\n",
    "model_name = \"bert-base-uncased\"\n",
    "tokenizer = BertTokenizer.from_pretrained(model_name)\n",
    "topics_over_time = topics_over_time.apply(tokenize_words, axis=1)"
   ]
  },
  {
   "cell_type": "code",
   "execution_count": null,
   "metadata": {},
   "outputs": [],
   "source": [
    "topics_over_time"
   ]
  },
  {
   "cell_type": "code",
   "execution_count": null,
   "metadata": {},
   "outputs": [],
   "source": [
    "# Extract the top 5 words and create separate columns for them to be passed on\n",
    "splitted_df = topics_over_time[\"EWords\"].apply(pd.Series)[[1, 2, 3, 4, 5]]\n",
    "topics_over_time[\"First_Word\"] = splitted_df[1].values\n",
    "topics_over_time[\"Second_Word\"] = splitted_df[2].values\n",
    "topics_over_time[\"Third_Word\"] = splitted_df[3].values\n",
    "topics_over_time[\"Fourth_Word\"] = splitted_df[4].values\n",
    "topics_over_time[\"Fifth_Word\"] = splitted_df[5].values\n",
    "topics_over_time"
   ]
  },
  {
   "cell_type": "code",
   "execution_count": null,
   "metadata": {
    "colab": {
     "base_uri": "https://localhost:8080/"
    },
    "id": "qpxB51WjeSHu",
    "outputId": "f9d42f51-81fe-4b3b-aa42-cd4cea18612f"
   },
   "outputs": [],
   "source": [
    "topics = topics_over_time[\"Topic\"].unique()\n",
    "len(topics)"
   ]
  },
  {
   "cell_type": "code",
   "execution_count": null,
   "metadata": {
    "colab": {
     "base_uri": "https://localhost:8080/"
    },
    "id": "mP3YhQo-eYLL",
    "outputId": "6a8cad50-cec7-4787-b013-0cb17705b4d8"
   },
   "outputs": [],
   "source": [
    "timestamps = topics_over_time[\"Timestamp\"].unique()\n",
    "len(timestamps)"
   ]
  },
  {
   "cell_type": "code",
   "execution_count": null,
   "metadata": {
    "id": "QTthVqSqXR4G"
   },
   "outputs": [],
   "source": [
    "# Normalisation methods available: None | mean | min-max | outliers\n",
    "normalisation_method = \"outliers\"\n",
    "outlier_limit = 25\n",
    "\n",
    "# Hyperparameter tuning\n",
    "hyperparameter_tuning = False"
   ]
  },
  {
   "cell_type": "code",
   "execution_count": null,
   "metadata": {},
   "outputs": [],
   "source": [
    "fig = px.histogram(\n",
    "    topics_over_time,\n",
    "    x=\"Frequency\",\n",
    "    nbins=100,\n",
    "    labels={\"size\": \"Length of extracted Risk Factors section\"},\n",
    "    title=\"Distribution of frequency for each topic\",\n",
    ")\n",
    "fig.show()"
   ]
  },
  {
   "cell_type": "code",
   "execution_count": null,
   "metadata": {
    "id": "kiBAl6-UAMRJ"
   },
   "outputs": [],
   "source": [
    "topics_over_time = topics_over_time.sort_values(by=[\"Topic\", \"Timestamp\"])\n",
    "if normalisation_method == \"mean\":\n",
    "    topics_over_time[\"Frequency\"] = (\n",
    "        topics_over_time[\"Frequency\"] - topics_over_time[\"Frequency\"].mean()\n",
    "    ) / topics_over_time[\"Frequency\"].std()\n",
    "elif normalisation_method == \"min-max\":\n",
    "    topics_over_time[\"Frequency\"] = (\n",
    "        topics_over_time[\"Frequency\"] - topics_over_time[\"Frequency\"].min()\n",
    "    ) / (topics_over_time[\"Frequency\"].max() - topics_over_time[\"Frequency\"].min())\n",
    "elif normalisation_method == \"outliers\":\n",
    "    topics_over_time = topics_over_time[topics_over_time[\"Frequency\"] <= outlier_limit]"
   ]
  },
  {
   "cell_type": "code",
   "execution_count": null,
   "metadata": {
    "id": "GgkrHD8pANaf"
   },
   "outputs": [],
   "source": [
    "topics_over_time[\"Frequency_Next_Year\"] = topics_over_time.groupby(\"Topic\")[\n",
    "    \"Frequency\"\n",
    "].shift(-1)\n",
    "topics_over_time[\"Lag-1\"] = topics_over_time.groupby(\"Topic\")[\"Frequency\"].shift(1)\n",
    "topics_over_time[\"Diff-1\"] = topics_over_time.groupby(\"Topic\")[\"Frequency\"].diff(1)\n",
    "topics_over_time[\"Rolling-4\"] = (\n",
    "    topics_over_time.groupby(\"Topic\")[\"Frequency\"]\n",
    "    .rolling(4)\n",
    "    .mean()\n",
    "    .reset_index(level=0, drop=True)\n",
    ")"
   ]
  },
  {
   "cell_type": "markdown",
   "metadata": {},
   "source": [
    "### Feature correlation"
   ]
  },
  {
   "cell_type": "markdown",
   "metadata": {
    "id": "Jm_ave4qN53W"
   },
   "source": [
    "Hyperparameter Tuning for RandomForestRegressor"
   ]
  },
  {
   "cell_type": "code",
   "execution_count": null,
   "metadata": {
    "id": "8U-_n5_FN4tU"
   },
   "outputs": [],
   "source": [
    "if hyperparameter_tuning:\n",
    "    n_estimators = [\n",
    "        5,\n",
    "        20,\n",
    "        50,\n",
    "        100,\n",
    "        300,\n",
    "        600,\n",
    "        1000,\n",
    "    ]  # number of trees in the random forest\n",
    "    max_features = [\n",
    "        \"auto\",\n",
    "        \"sqrt\",\n",
    "    ]  # number of features in consideration at every split\n",
    "    max_depth = [\n",
    "        int(x) for x in np.linspace(10, 120, num=12)\n",
    "    ]  # maximum number of levels allowed in each decision tree\n",
    "    min_samples_split = [2, 4, 6, 10]  # minimum sample number to split a node\n",
    "    min_samples_leaf = [\n",
    "        1,\n",
    "        2,\n",
    "        3,\n",
    "        4,\n",
    "    ]  # minimum sample number that can be stored in a leaf node\n",
    "    bootstrap = [True, False]  # method used to sample data points\n",
    "else:\n",
    "    estimators = 1000\n",
    "    max_features = \"sqrt\"\n",
    "    max_depth = 50\n",
    "    min_samples_split = 2\n",
    "    min_samples_leaf = 1\n",
    "    btstr = True"
   ]
  },
  {
   "cell_type": "code",
   "execution_count": null,
   "metadata": {
    "colab": {
     "base_uri": "https://localhost:8080/",
     "height": 81,
     "referenced_widgets": [
      "0f38ef2770fe488393789d993fe10dd2",
      "c274ebf0c2c141d78c1b1ae1b62cbda0",
      "f485da0e314c4a4eb3ae78d1116e43e6",
      "142c940886eb461993f478c1d5ad7615",
      "bdbe774b975049648deaf23e556df9e2",
      "5d98efd9e58e4dac943abcab1b56f997",
      "14ae5ec340e1416a8fe6002c7e734cdf",
      "77c9ede02698495ea65705132e6fd97c",
      "c356650ab9c9494dac9dcef24b4ee1d9",
      "39c464378af04e288919817bd9ffec9e",
      "faef7848621a448ab27a9a80b2294b25",
      "1a5f63c30fda4f23ac7441acce41bb37",
      "9bc3d308f4a34e268b1ba9357d2d6755",
      "5fd7ea4fa1694119b5dcd2f1fc064a5a",
      "7559aea990a04fc5b943750f062f68d5",
      "2d2b675ace41419f80f47a5fddce9361",
      "7f23d93e77d44ca69eab81582048e8b0",
      "6b67c3f9f3f14f028cfc536f681890a3",
      "0e71379209404a8491f2422a4b1867af",
      "3f98ebfc9f82406b8c349291169a9d02",
      "a0f745f371c24a74a7cfd7ac5288bab7",
      "53c6a5a6a6344f7c9e9d1b0ee1cc40c8"
     ]
    },
    "id": "sED8nOwsSDFK",
    "outputId": "9b24d4f6-1033-4ef4-e4d7-3e431ab46216"
   },
   "outputs": [],
   "source": [
    "if hyperparameter_tuning:\n",
    "    # Dataframe to store results of the hyperparameter tuning\n",
    "    hyperparameter_tuning_random_forest_df = pd.DataFrame(\n",
    "        {\n",
    "            \"execution_datetime\": pd.Series(dtype=\"datetime64[ns]\"),\n",
    "            \"split_number\": pd.Series(dtype=\"int\"),\n",
    "            \"r2\": pd.Series(dtype=\"float64\"),\n",
    "            \"mape\": pd.Series(dtype=\"float64\"),\n",
    "            \"mae\": pd.Series(dtype=\"float64\"),\n",
    "            \"mse\": pd.Series(dtype=\"float64\"),\n",
    "            \"n_estimators\": pd.Series(dtype=\"int\"),\n",
    "            \"max_features\": pd.Series(dtype=\"str\"),\n",
    "            \"max_depth\": pd.Series(dtype=\"int\"),\n",
    "            \"min_samples_split\": pd.Series(dtype=\"int\"),\n",
    "            \"min_samples_leaf\": pd.Series(dtype=\"int\"),\n",
    "            \"bootstrap\": pd.Series(dtype=\"bool\"),\n",
    "        }\n",
    "    )\n",
    "\n",
    "    shuffled_topics_over_time = one_hot_encoded_df.sample(frac=1)\n",
    "    dataset_lenght = len(shuffled_topics_over_time)\n",
    "    dataset_split = int(dataset_lenght / 10)\n",
    "\n",
    "    best_r2 = -1\n",
    "    sum_r2 = 0\n",
    "    best_yval = None\n",
    "    best_ypredicted = None\n",
    "\n",
    "    for index in trange(10):\n",
    "        run_entry = {\"split_number\": (index + 1)}\n",
    "        train_df = shuffled_topics_over_time.iloc[\n",
    "            (index * dataset_split) : ((index + 1) * dataset_split)\n",
    "        ]\n",
    "        test_df = pd.concat(\n",
    "            [\n",
    "                shuffled_topics_over_time.iloc[0 : (index * dataset_split)],\n",
    "                shuffled_topics_over_time.iloc[((index + 1) * dataset_split) :],\n",
    "            ],\n",
    "            ignore_index=True,\n",
    "        )\n",
    "\n",
    "        # Data preparation\n",
    "        imputer = SimpleImputer()\n",
    "        train_df = train_df.dropna(subset=[\"Frequency_Next_Year\"])\n",
    "        features = [\n",
    "            \"Topic\",\n",
    "            \"Frequency\",\n",
    "            \"Lag-1\",\n",
    "            \"Diff-1\",\n",
    "            \"Rolling-4\",\n",
    "        ]\n",
    "\n",
    "        x_training = imputer.fit_transform(train_df[features])\n",
    "        y_training = train_df[\"Frequency_Next_Year\"]\n",
    "        x_testing = imputer.transform(test_df[features])\n",
    "        y_testing = test_df[\"Frequency_Next_Year\"]\n",
    "\n",
    "        for estimators in tqdm(n_estimators):\n",
    "            run_entry[\"n_estimators\"] = estimators\n",
    "            for mx_features in max_features:\n",
    "                run_entry[\"max_features\"] = mx_features\n",
    "                for mx_depth in max_depth:\n",
    "                    run_entry[\"max_depth\"] = mx_depth\n",
    "                    for mn_samples_leaf in min_samples_leaf:\n",
    "                        run_entry[\"min_samples_leaf\"] = mn_samples_leaf\n",
    "                        for mn_samples_split in min_samples_split:\n",
    "                            run_entry[\"min_samples_split\"] = mn_samples_split\n",
    "                            for btstr in bootstrap:\n",
    "                                run_entry[\"bootstrap\"] = btstr\n",
    "                                start_time = time.time()\n",
    "\n",
    "                                # Training phase\n",
    "                                mdl = RandomForestRegressor(\n",
    "                                    n_estimators=estimators,\n",
    "                                    max_features=mx_features,\n",
    "                                    max_depth=mx_depth,\n",
    "                                    min_samples_leaf=mn_samples_leaf,\n",
    "                                    min_samples_split=mn_samples_split,\n",
    "                                    bootstrap=btstr,\n",
    "                                    random_state=0,\n",
    "                                    n_jobs=16,\n",
    "                                )\n",
    "                                mdl.fit(x_training, y_training)\n",
    "\n",
    "                                # Testing phase\n",
    "                                predicted_testing = mdl.predict(x_testing)\n",
    "                                run_entry[\"execution_time\"] = time.time() - start_time\n",
    "                                run_entry[\"execution_datetime\"] = (\n",
    "                                    datetime.datetime.now()\n",
    "                                )\n",
    "                                mask = ~np.isnan(y_testing)\n",
    "\n",
    "                                run_entry[\"r2\"] = r2_score(\n",
    "                                    y_testing[mask], predicted_testing[mask]\n",
    "                                )\n",
    "                                run_entry[\"mse\"] = mean_squared_error(\n",
    "                                    y_testing[mask], predicted_testing[mask]\n",
    "                                )\n",
    "                                run_entry[\"mae\"] = mean_absolute_error(\n",
    "                                    y_testing[mask], predicted_testing[mask]\n",
    "                                )\n",
    "                                run_entry[\"mape\"] = mean_absolute_percentage_error(\n",
    "                                    y_testing[mask], predicted_testing[mask]\n",
    "                                )\n",
    "\n",
    "                                hyperparameter_tuning_random_forest_df = (\n",
    "                                    hyperparameter_tuning_random_forest_df.append(\n",
    "                                        run_entry, ignore_index=True\n",
    "                                    )\n",
    "                                )\n",
    "\n",
    "    hyperparameter_tuning_random_forest_df.to_csv(\n",
    "        f\"results/Hyperparameter Tuning/{datetime.datetime.now().strftime('%Y-%m-%d-%H-%M')}_hyperparameter_tuning_rfr.csv\"\n",
    "    )\n",
    "    grouped_hyperparameters = (\n",
    "        hyperparameter_tuning_random_forest_df.groupby(\n",
    "            by=[\n",
    "                \"n_estimators\",\n",
    "                \"max_features\",\n",
    "                \"max_depth\",\n",
    "                \"min_samples_split\",\n",
    "                \"min_samples_leaf\",\n",
    "                \"bootstrap\",\n",
    "            ]\n",
    "        )\n",
    "        .mean()\n",
    "        .sort_values(\n",
    "            by=[\"r2\", \"mse\", \"mae\", \"mape\"], ascending=[False, True, True, True]\n",
    "        )\n",
    "    )\n",
    "    grouped_hyperparameters.to_csv(\n",
    "        f\"results/Hyperparameter Tuning/{datetime.datetime.now().strftime('%Y-%m-%d-%H-%M')}_grouped_hyperparameter_tuning_rfr.csv\"\n",
    "    )\n",
    "    grouped_hyperparameters = grouped_hyperparameters.reset_index()\n",
    "    estimators = grouped_hyperparameters[\"n_estimators\"].iloc[0]\n",
    "    max_features = grouped_hyperparameters[\"max_features\"].iloc[0]\n",
    "    max_depth = grouped_hyperparameters[\"max_depth\"].iloc[0]\n",
    "    min_samples_split = grouped_hyperparameters[\"min_samples_split\"].iloc[0]\n",
    "    min_samples_leaf = grouped_hyperparameters[\"min_samples_leaf\"].iloc[0]\n",
    "    btstr = grouped_hyperparameters[\"bootstrap\"].iloc[0]"
   ]
  },
  {
   "cell_type": "code",
   "execution_count": null,
   "metadata": {
    "id": "uve43XvYbxlF"
   },
   "outputs": [],
   "source": [
    "if hyperparameter_tuning:\n",
    "    print(hyperparameter_tuning_random_forest_df)"
   ]
  },
  {
   "cell_type": "code",
   "execution_count": null,
   "metadata": {},
   "outputs": [],
   "source": [
    "if hyperparameter_tuning:\n",
    "    print(grouped_hyperparameters)"
   ]
  },
  {
   "cell_type": "markdown",
   "metadata": {},
   "source": [
    "### First version of the model\n",
    "Data is interpreted as individual points, with `Topic` and `Timestamp` as one-hot numeric array"
   ]
  },
  {
   "cell_type": "code",
   "execution_count": null,
   "metadata": {
    "id": "16A3GoEZJfCa"
   },
   "outputs": [],
   "source": [
    "# shuffled_topics_over_time = one_hot_encoded_df.sample(frac=1)\n",
    "# dataset_lenght = len(shuffled_topics_over_time)\n",
    "# dataset_split = int(dataset_lenght / 10)\n",
    "\n",
    "# best_r2 = -1\n",
    "# sum_r2 = 0\n",
    "# best_yval = None\n",
    "# best_ypredicted = None\n",
    "\n",
    "# for index in range(10):\n",
    "#     print(f\"Split # {(index+1)}\")\n",
    "#     train_data = shuffled_topics_over_time.iloc[\n",
    "#         (index * dataset_split) : ((index + 1) * dataset_split)\n",
    "#     ]\n",
    "#     test_data = pd.concat(\n",
    "#         [\n",
    "#             shuffled_topics_over_time.iloc[0 : (index * dataset_split)],\n",
    "#             shuffled_topics_over_time.iloc[((index + 1) * dataset_split) :],\n",
    "#         ],\n",
    "#         ignore_index=True,\n",
    "#     )\n",
    "#     s_mdl, r2, yval, ypredicted = train_test_model(train_data, test_data, features,verbose=True)\n",
    "#     sum_r2 += r2\n",
    "\n",
    "#     if r2 > best_r2:\n",
    "#         best_r2 = r2\n",
    "#         regression_model = pickle.loads(s_mdl)\n",
    "#         dump(regression_model, \"models/ohe_regression_best_model.joblib\")\n",
    "#         best_yval = yval\n",
    "#         best_ypredicted = ypredicted\n"
   ]
  },
  {
   "cell_type": "code",
   "execution_count": null,
   "metadata": {
    "id": "HWT0HnxeYSDc"
   },
   "outputs": [],
   "source": [
    "# f\"Average R2 score: {sum_r2/10}\""
   ]
  },
  {
   "cell_type": "code",
   "execution_count": null,
   "metadata": {
    "id": "dRsmdi0uYSnb"
   },
   "outputs": [],
   "source": [
    "# f\"Best R2 score: {best_r2}\""
   ]
  },
  {
   "cell_type": "code",
   "execution_count": null,
   "metadata": {
    "id": "QkcxC4bhYXpi"
   },
   "outputs": [],
   "source": [
    "# plot_prediction(best_yval,best_ypredicted)"
   ]
  },
  {
   "cell_type": "markdown",
   "metadata": {
    "id": "Ijlv1srhBOTJ"
   },
   "source": [
    "### Second version of the model\n",
    "`Topic` and `Timestamp` features are numerical array (which may lead to ordinal biases)"
   ]
  },
  {
   "cell_type": "code",
   "execution_count": null,
   "metadata": {
    "id": "ci8x6UBD3JC8"
   },
   "outputs": [],
   "source": [
    "features = [\n",
    "    \"Topic\",\n",
    "    \"Frequency\",\n",
    "    \"Lag-1\",\n",
    "    \"Diff-1\",\n",
    "    \"Rolling-4\",\n",
    "]"
   ]
  },
  {
   "cell_type": "markdown",
   "metadata": {},
   "source": [
    "### Feature correlation"
   ]
  },
  {
   "cell_type": "code",
   "execution_count": null,
   "metadata": {
    "id": "0ag4ZMeb3CfS"
   },
   "outputs": [],
   "source": [
    "sns.clustermap(topics_over_time[features].corr())"
   ]
  },
  {
   "cell_type": "code",
   "execution_count": null,
   "metadata": {},
   "outputs": [],
   "source": [
    "sns.clustermap(\n",
    "    topics_over_time[\n",
    "        [\n",
    "            \"Topic\",\n",
    "            \"Frequency\",\n",
    "            \"Lag-1\",\n",
    "            \"Diff-1\",\n",
    "            \"Rolling-4\",\n",
    "            \"First_Word\",\n",
    "            \"Second_Word\",\n",
    "            \"Third_Word\",\n",
    "            \"Fourth_Word\",\n",
    "            \"Fifth_Word\",\n",
    "            \"Frequency_Next_Year\",\n",
    "        ]\n",
    "    ].corr(),\n",
    "    annot=True,\n",
    ")"
   ]
  },
  {
   "cell_type": "code",
   "execution_count": null,
   "metadata": {
    "id": "_ejr2y99AOX_"
   },
   "outputs": [],
   "source": [
    "topics_over_time[topics_over_time[\"Topic\"] == 36]"
   ]
  },
  {
   "cell_type": "code",
   "execution_count": null,
   "metadata": {
    "id": "tqZ4UOXLnokT"
   },
   "outputs": [],
   "source": [
    "value = topics_over_time[topics_over_time[\"Topic\"] == 36][\"Words\"].unique()\n",
    "value"
   ]
  },
  {
   "cell_type": "markdown",
   "metadata": {
    "id": "_8SyY8v0KNuZ"
   },
   "source": [
    "### First data split: percentage based sampling from each topic\n",
    "\n",
    "This provides a balanced split of data from each topic"
   ]
  },
  {
   "cell_type": "code",
   "execution_count": null,
   "metadata": {
    "id": "pYu0ymu5Kcv1"
   },
   "outputs": [],
   "source": [
    "topics_timeseries = topics_over_time[\n",
    "    [\n",
    "        \"Topic\",\n",
    "        \"Frequency\",\n",
    "        \"Timestamp\",\n",
    "        \"Frequency_Next_Year\",\n",
    "        \"Lag-1\",\n",
    "        \"Diff-1\",\n",
    "        \"Rolling-4\",\n",
    "    ]\n",
    "]\n",
    "topics_list = list(topics_timeseries[\"Topic\"].unique())\n",
    "\n",
    "train_data = pd.DataFrame()\n",
    "test_data = pd.DataFrame()\n",
    "predict_data = pd.DataFrame()\n",
    "\n",
    "for topic in topics_list:\n",
    "    temp_df = topics_timeseries[topics_timeseries[\"Topic\"] == topic].sort_values(\n",
    "        \"Timestamp\"\n",
    "    )\n",
    "    topic_size = len(temp_df)\n",
    "    predict_data = pd.concat(\n",
    "        [predict_data, temp_df.iloc[topic_size - 1 :]], ignore_index=True\n",
    "    )\n",
    "    test_data = pd.concat(\n",
    "        [test_data, temp_df.iloc[topic_size - 2 : topic_size - 1]], ignore_index=True\n",
    "    )\n",
    "    train_data = pd.concat(\n",
    "        [train_data, temp_df.iloc[: topic_size - 2]], ignore_index=True\n",
    "    )\n",
    "\n",
    "timeseries_mdl, r2_timeseries, yval, ypredicted = train_test_model(\n",
    "    train_data, test_data, features, verbose=True\n",
    ")\n",
    "mdl = pickle.loads(timeseries_mdl)\n",
    "imputer = KNNImputer(n_neighbors=2)\n",
    "to_predict_values = x_testing = imputer.fit_transform(predict_data[features])\n",
    "predicted_values = mdl.predict(to_predict_values)\n",
    "predict_data[\"Frequency_Next_Year\"] = predicted_values"
   ]
  },
  {
   "cell_type": "code",
   "execution_count": null,
   "metadata": {
    "id": "BeiQORguXAlj"
   },
   "outputs": [],
   "source": [
    "predict_data"
   ]
  },
  {
   "cell_type": "code",
   "execution_count": null,
   "metadata": {},
   "outputs": [],
   "source": [
    "predicted_topics_2022 = predict_data[predict_data[\"Timestamp\"] == \"2021-01-01\"]\n",
    "predicted_topics_2022 = predicted_topics_2022\n",
    "topics_details = topics_over_time[[\"Topic\", \"Timestamp\", \"Words\", \"Frequency\", \"Name\"]]\n",
    "predicted_topics_2022 = predicted_topics_2022.merge(\n",
    "    topics_details, on=[\"Topic\", \"Timestamp\"], how=\"left\"\n",
    ")\n",
    "predicted_topics_2022 = (\n",
    "    predicted_topics_2022[\n",
    "        [\"Topic\", \"Frequency_x\", \"Frequency_Next_Year\", \"Words\", \"Name\"]\n",
    "    ]\n",
    "    .rename(\n",
    "        columns={\n",
    "            \"Frequency_x\": \"Importance_2021\",\n",
    "            \"Frequency_Next_Year\": \"Importance_2022\",\n",
    "        }\n",
    "    )\n",
    "    .sort_values(by=\"Topic\")\n",
    ")\n",
    "predicted_topics_2022.to_csv(\"predicted_topics_2022.csv\", index=False)\n",
    "predicted_topics_2022"
   ]
  },
  {
   "cell_type": "code",
   "execution_count": null,
   "metadata": {
    "id": "PLoXsUfkYkAv"
   },
   "outputs": [],
   "source": [
    "plot_prediction(yval, ypredicted)"
   ]
  },
  {
   "cell_type": "markdown",
   "metadata": {
    "id": "2dRQqh6Q08oj"
   },
   "source": [
    "### Second data split: random sampling from dataset\n",
    "\n",
    "This versions interprets every point from the timeseries generated by DTM as a singular independent one"
   ]
  },
  {
   "cell_type": "code",
   "execution_count": null,
   "metadata": {
    "id": "n9gHqDIcAPeh"
   },
   "outputs": [],
   "source": [
    "shuffled_topics_over_time = topics_over_time[\n",
    "    [\n",
    "        \"Topic\",\n",
    "        \"Frequency\",\n",
    "        \"Timestamp\",\n",
    "        \"Frequency_Next_Year\",\n",
    "        \"Lag-1\",\n",
    "        \"Diff-1\",\n",
    "        \"Rolling-4\",\n",
    "    ]\n",
    "].sample(frac=1)\n",
    "dataset_lenght = len(shuffled_topics_over_time)\n",
    "dataset_split = int(dataset_lenght / 10)\n",
    "\n",
    "# Redirect output for logging purposes\n",
    "orig_stdout = sys.stdout\n",
    "f = open(\n",
    "    f\"logs/{datetime.datetime.now().strftime('%Y-%m-%d_%H_%M')}_random_regression.log\",\n",
    "    \"w\",\n",
    ")\n",
    "sys.stdout = f\n",
    "print(datetime.datetime.now())\n",
    "\n",
    "best_r2 = -1\n",
    "sum_r2 = 0\n",
    "best_yval = None\n",
    "best_ypredicted = None\n",
    "\n",
    "for index in range(10):\n",
    "    print(f\"Split # {(index + 1)}\")\n",
    "    train_data = shuffled_topics_over_time.iloc[\n",
    "        (index * dataset_split) : ((index + 1) * dataset_split)\n",
    "    ]\n",
    "    test_data = pd.concat(\n",
    "        [\n",
    "            shuffled_topics_over_time.iloc[0 : (index * dataset_split)],\n",
    "            shuffled_topics_over_time.iloc[((index + 1) * dataset_split) :],\n",
    "        ],\n",
    "        ignore_index=True,\n",
    "    )\n",
    "    s_mdl, r2, yval, ypredicted = train_test_model(\n",
    "        train_data, test_data, features, verbose=True\n",
    "    )\n",
    "    sum_r2 += r2\n",
    "\n",
    "    if r2 > best_r2:\n",
    "        best_r2 = r2\n",
    "        regression_model = pickle.loads(s_mdl)\n",
    "        dump(regression_model, \"models/regression_best_model.joblib\")\n",
    "        best_yval = yval\n",
    "        best_ypredicted = ypredicted\n",
    "\n",
    "# Restore default output\n",
    "sys.stdout = orig_stdout\n",
    "f.close()"
   ]
  },
  {
   "cell_type": "code",
   "execution_count": null,
   "metadata": {
    "id": "LxbbJPLaU-UN"
   },
   "outputs": [],
   "source": [
    "f\"Average R2 score: {sum_r2 / 10}\""
   ]
  },
  {
   "cell_type": "code",
   "execution_count": null,
   "metadata": {
    "id": "c1oMUtgtU126"
   },
   "outputs": [],
   "source": [
    "f\"Best R2 score: {best_r2}\""
   ]
  },
  {
   "cell_type": "code",
   "execution_count": null,
   "metadata": {
    "id": "AZfe3oLRUjmT"
   },
   "outputs": [],
   "source": [
    "plot_prediction(best_yval, best_ypredicted)"
   ]
  }
 ],
 "metadata": {
  "colab": {
   "background_execution": "on",
   "collapsed_sections": [],
   "name": "Regression Model.ipynb",
   "provenance": []
  },
  "kernelspec": {
   "display_name": ".venv",
   "language": "python",
   "name": "python3"
  },
  "language_info": {
   "codemirror_mode": {
    "name": "ipython",
    "version": 3
   },
   "file_extension": ".py",
   "mimetype": "text/x-python",
   "name": "python",
   "nbconvert_exporter": "python",
   "pygments_lexer": "ipython3",
   "version": "3.13.3"
  },
  "widgets": {
   "application/vnd.jupyter.widget-state+json": {
    "0e71379209404a8491f2422a4b1867af": {
     "model_module": "@jupyter-widgets/controls",
     "model_module_version": "1.5.0",
     "model_name": "ProgressStyleModel",
     "state": {
      "_model_module": "@jupyter-widgets/controls",
      "_model_module_version": "1.5.0",
      "_model_name": "ProgressStyleModel",
      "_view_count": null,
      "_view_module": "@jupyter-widgets/base",
      "_view_module_version": "1.2.0",
      "_view_name": "StyleView",
      "bar_color": null,
      "description_width": ""
     }
    },
    "0f38ef2770fe488393789d993fe10dd2": {
     "model_module": "@jupyter-widgets/controls",
     "model_module_version": "1.5.0",
     "model_name": "HBoxModel",
     "state": {
      "_dom_classes": [],
      "_model_module": "@jupyter-widgets/controls",
      "_model_module_version": "1.5.0",
      "_model_name": "HBoxModel",
      "_view_count": null,
      "_view_module": "@jupyter-widgets/controls",
      "_view_module_version": "1.5.0",
      "_view_name": "HBoxView",
      "box_style": "",
      "children": [
       "IPY_MODEL_f485da0e314c4a4eb3ae78d1116e43e6",
       "IPY_MODEL_142c940886eb461993f478c1d5ad7615",
       "IPY_MODEL_bdbe774b975049648deaf23e556df9e2"
      ],
      "layout": "IPY_MODEL_c274ebf0c2c141d78c1b1ae1b62cbda0"
     }
    },
    "142c940886eb461993f478c1d5ad7615": {
     "model_module": "@jupyter-widgets/controls",
     "model_module_version": "1.5.0",
     "model_name": "FloatProgressModel",
     "state": {
      "_dom_classes": [],
      "_model_module": "@jupyter-widgets/controls",
      "_model_module_version": "1.5.0",
      "_model_name": "FloatProgressModel",
      "_view_count": null,
      "_view_module": "@jupyter-widgets/controls",
      "_view_module_version": "1.5.0",
      "_view_name": "ProgressView",
      "bar_style": "",
      "description": "",
      "description_tooltip": null,
      "layout": "IPY_MODEL_c356650ab9c9494dac9dcef24b4ee1d9",
      "max": 10,
      "min": 0,
      "orientation": "horizontal",
      "style": "IPY_MODEL_77c9ede02698495ea65705132e6fd97c",
      "value": 0
     }
    },
    "14ae5ec340e1416a8fe6002c7e734cdf": {
     "model_module": "@jupyter-widgets/base",
     "model_module_version": "1.2.0",
     "model_name": "LayoutModel",
     "state": {
      "_model_module": "@jupyter-widgets/base",
      "_model_module_version": "1.2.0",
      "_model_name": "LayoutModel",
      "_view_count": null,
      "_view_module": "@jupyter-widgets/base",
      "_view_module_version": "1.2.0",
      "_view_name": "LayoutView",
      "align_content": null,
      "align_items": null,
      "align_self": null,
      "border": null,
      "bottom": null,
      "display": null,
      "flex": null,
      "flex_flow": null,
      "grid_area": null,
      "grid_auto_columns": null,
      "grid_auto_flow": null,
      "grid_auto_rows": null,
      "grid_column": null,
      "grid_gap": null,
      "grid_row": null,
      "grid_template_areas": null,
      "grid_template_columns": null,
      "grid_template_rows": null,
      "height": null,
      "justify_content": null,
      "justify_items": null,
      "left": null,
      "margin": null,
      "max_height": null,
      "max_width": null,
      "min_height": null,
      "min_width": null,
      "object_fit": null,
      "object_position": null,
      "order": null,
      "overflow": null,
      "overflow_x": null,
      "overflow_y": null,
      "padding": null,
      "right": null,
      "top": null,
      "visibility": null,
      "width": null
     }
    },
    "1a5f63c30fda4f23ac7441acce41bb37": {
     "model_module": "@jupyter-widgets/controls",
     "model_module_version": "1.5.0",
     "model_name": "HBoxModel",
     "state": {
      "_dom_classes": [],
      "_model_module": "@jupyter-widgets/controls",
      "_model_module_version": "1.5.0",
      "_model_name": "HBoxModel",
      "_view_count": null,
      "_view_module": "@jupyter-widgets/controls",
      "_view_module_version": "1.5.0",
      "_view_name": "HBoxView",
      "box_style": "",
      "children": [
       "IPY_MODEL_5fd7ea4fa1694119b5dcd2f1fc064a5a",
       "IPY_MODEL_7559aea990a04fc5b943750f062f68d5",
       "IPY_MODEL_2d2b675ace41419f80f47a5fddce9361"
      ],
      "layout": "IPY_MODEL_9bc3d308f4a34e268b1ba9357d2d6755"
     }
    },
    "2d2b675ace41419f80f47a5fddce9361": {
     "model_module": "@jupyter-widgets/controls",
     "model_module_version": "1.5.0",
     "model_name": "HTMLModel",
     "state": {
      "_dom_classes": [],
      "_model_module": "@jupyter-widgets/controls",
      "_model_module_version": "1.5.0",
      "_model_name": "HTMLModel",
      "_view_count": null,
      "_view_module": "@jupyter-widgets/controls",
      "_view_module_version": "1.5.0",
      "_view_name": "HTMLView",
      "description": "",
      "description_tooltip": null,
      "layout": "IPY_MODEL_53c6a5a6a6344f7c9e9d1b0ee1cc40c8",
      "placeholder": "​",
      "style": "IPY_MODEL_a0f745f371c24a74a7cfd7ac5288bab7",
      "value": " 0/9 [00:00&lt;?, ?it/s]"
     }
    },
    "39c464378af04e288919817bd9ffec9e": {
     "model_module": "@jupyter-widgets/controls",
     "model_module_version": "1.5.0",
     "model_name": "DescriptionStyleModel",
     "state": {
      "_model_module": "@jupyter-widgets/controls",
      "_model_module_version": "1.5.0",
      "_model_name": "DescriptionStyleModel",
      "_view_count": null,
      "_view_module": "@jupyter-widgets/base",
      "_view_module_version": "1.2.0",
      "_view_name": "StyleView",
      "description_width": ""
     }
    },
    "3f98ebfc9f82406b8c349291169a9d02": {
     "model_module": "@jupyter-widgets/base",
     "model_module_version": "1.2.0",
     "model_name": "LayoutModel",
     "state": {
      "_model_module": "@jupyter-widgets/base",
      "_model_module_version": "1.2.0",
      "_model_name": "LayoutModel",
      "_view_count": null,
      "_view_module": "@jupyter-widgets/base",
      "_view_module_version": "1.2.0",
      "_view_name": "LayoutView",
      "align_content": null,
      "align_items": null,
      "align_self": null,
      "border": null,
      "bottom": null,
      "display": null,
      "flex": null,
      "flex_flow": null,
      "grid_area": null,
      "grid_auto_columns": null,
      "grid_auto_flow": null,
      "grid_auto_rows": null,
      "grid_column": null,
      "grid_gap": null,
      "grid_row": null,
      "grid_template_areas": null,
      "grid_template_columns": null,
      "grid_template_rows": null,
      "height": null,
      "justify_content": null,
      "justify_items": null,
      "left": null,
      "margin": null,
      "max_height": null,
      "max_width": null,
      "min_height": null,
      "min_width": null,
      "object_fit": null,
      "object_position": null,
      "order": null,
      "overflow": null,
      "overflow_x": null,
      "overflow_y": null,
      "padding": null,
      "right": null,
      "top": null,
      "visibility": null,
      "width": null
     }
    },
    "53c6a5a6a6344f7c9e9d1b0ee1cc40c8": {
     "model_module": "@jupyter-widgets/base",
     "model_module_version": "1.2.0",
     "model_name": "LayoutModel",
     "state": {
      "_model_module": "@jupyter-widgets/base",
      "_model_module_version": "1.2.0",
      "_model_name": "LayoutModel",
      "_view_count": null,
      "_view_module": "@jupyter-widgets/base",
      "_view_module_version": "1.2.0",
      "_view_name": "LayoutView",
      "align_content": null,
      "align_items": null,
      "align_self": null,
      "border": null,
      "bottom": null,
      "display": null,
      "flex": null,
      "flex_flow": null,
      "grid_area": null,
      "grid_auto_columns": null,
      "grid_auto_flow": null,
      "grid_auto_rows": null,
      "grid_column": null,
      "grid_gap": null,
      "grid_row": null,
      "grid_template_areas": null,
      "grid_template_columns": null,
      "grid_template_rows": null,
      "height": null,
      "justify_content": null,
      "justify_items": null,
      "left": null,
      "margin": null,
      "max_height": null,
      "max_width": null,
      "min_height": null,
      "min_width": null,
      "object_fit": null,
      "object_position": null,
      "order": null,
      "overflow": null,
      "overflow_x": null,
      "overflow_y": null,
      "padding": null,
      "right": null,
      "top": null,
      "visibility": null,
      "width": null
     }
    },
    "5d98efd9e58e4dac943abcab1b56f997": {
     "model_module": "@jupyter-widgets/controls",
     "model_module_version": "1.5.0",
     "model_name": "DescriptionStyleModel",
     "state": {
      "_model_module": "@jupyter-widgets/controls",
      "_model_module_version": "1.5.0",
      "_model_name": "DescriptionStyleModel",
      "_view_count": null,
      "_view_module": "@jupyter-widgets/base",
      "_view_module_version": "1.2.0",
      "_view_name": "StyleView",
      "description_width": ""
     }
    },
    "5fd7ea4fa1694119b5dcd2f1fc064a5a": {
     "model_module": "@jupyter-widgets/controls",
     "model_module_version": "1.5.0",
     "model_name": "HTMLModel",
     "state": {
      "_dom_classes": [],
      "_model_module": "@jupyter-widgets/controls",
      "_model_module_version": "1.5.0",
      "_model_name": "HTMLModel",
      "_view_count": null,
      "_view_module": "@jupyter-widgets/controls",
      "_view_module_version": "1.5.0",
      "_view_name": "HTMLView",
      "description": "",
      "description_tooltip": null,
      "layout": "IPY_MODEL_6b67c3f9f3f14f028cfc536f681890a3",
      "placeholder": "​",
      "style": "IPY_MODEL_7f23d93e77d44ca69eab81582048e8b0",
      "value": "  0%"
     }
    },
    "6b67c3f9f3f14f028cfc536f681890a3": {
     "model_module": "@jupyter-widgets/base",
     "model_module_version": "1.2.0",
     "model_name": "LayoutModel",
     "state": {
      "_model_module": "@jupyter-widgets/base",
      "_model_module_version": "1.2.0",
      "_model_name": "LayoutModel",
      "_view_count": null,
      "_view_module": "@jupyter-widgets/base",
      "_view_module_version": "1.2.0",
      "_view_name": "LayoutView",
      "align_content": null,
      "align_items": null,
      "align_self": null,
      "border": null,
      "bottom": null,
      "display": null,
      "flex": null,
      "flex_flow": null,
      "grid_area": null,
      "grid_auto_columns": null,
      "grid_auto_flow": null,
      "grid_auto_rows": null,
      "grid_column": null,
      "grid_gap": null,
      "grid_row": null,
      "grid_template_areas": null,
      "grid_template_columns": null,
      "grid_template_rows": null,
      "height": null,
      "justify_content": null,
      "justify_items": null,
      "left": null,
      "margin": null,
      "max_height": null,
      "max_width": null,
      "min_height": null,
      "min_width": null,
      "object_fit": null,
      "object_position": null,
      "order": null,
      "overflow": null,
      "overflow_x": null,
      "overflow_y": null,
      "padding": null,
      "right": null,
      "top": null,
      "visibility": null,
      "width": null
     }
    },
    "7559aea990a04fc5b943750f062f68d5": {
     "model_module": "@jupyter-widgets/controls",
     "model_module_version": "1.5.0",
     "model_name": "FloatProgressModel",
     "state": {
      "_dom_classes": [],
      "_model_module": "@jupyter-widgets/controls",
      "_model_module_version": "1.5.0",
      "_model_name": "FloatProgressModel",
      "_view_count": null,
      "_view_module": "@jupyter-widgets/controls",
      "_view_module_version": "1.5.0",
      "_view_name": "ProgressView",
      "bar_style": "",
      "description": "",
      "description_tooltip": null,
      "layout": "IPY_MODEL_3f98ebfc9f82406b8c349291169a9d02",
      "max": 9,
      "min": 0,
      "orientation": "horizontal",
      "style": "IPY_MODEL_0e71379209404a8491f2422a4b1867af",
      "value": 0
     }
    },
    "77c9ede02698495ea65705132e6fd97c": {
     "model_module": "@jupyter-widgets/controls",
     "model_module_version": "1.5.0",
     "model_name": "ProgressStyleModel",
     "state": {
      "_model_module": "@jupyter-widgets/controls",
      "_model_module_version": "1.5.0",
      "_model_name": "ProgressStyleModel",
      "_view_count": null,
      "_view_module": "@jupyter-widgets/base",
      "_view_module_version": "1.2.0",
      "_view_name": "StyleView",
      "bar_color": null,
      "description_width": ""
     }
    },
    "7f23d93e77d44ca69eab81582048e8b0": {
     "model_module": "@jupyter-widgets/controls",
     "model_module_version": "1.5.0",
     "model_name": "DescriptionStyleModel",
     "state": {
      "_model_module": "@jupyter-widgets/controls",
      "_model_module_version": "1.5.0",
      "_model_name": "DescriptionStyleModel",
      "_view_count": null,
      "_view_module": "@jupyter-widgets/base",
      "_view_module_version": "1.2.0",
      "_view_name": "StyleView",
      "description_width": ""
     }
    },
    "9bc3d308f4a34e268b1ba9357d2d6755": {
     "model_module": "@jupyter-widgets/base",
     "model_module_version": "1.2.0",
     "model_name": "LayoutModel",
     "state": {
      "_model_module": "@jupyter-widgets/base",
      "_model_module_version": "1.2.0",
      "_model_name": "LayoutModel",
      "_view_count": null,
      "_view_module": "@jupyter-widgets/base",
      "_view_module_version": "1.2.0",
      "_view_name": "LayoutView",
      "align_content": null,
      "align_items": null,
      "align_self": null,
      "border": null,
      "bottom": null,
      "display": null,
      "flex": null,
      "flex_flow": null,
      "grid_area": null,
      "grid_auto_columns": null,
      "grid_auto_flow": null,
      "grid_auto_rows": null,
      "grid_column": null,
      "grid_gap": null,
      "grid_row": null,
      "grid_template_areas": null,
      "grid_template_columns": null,
      "grid_template_rows": null,
      "height": null,
      "justify_content": null,
      "justify_items": null,
      "left": null,
      "margin": null,
      "max_height": null,
      "max_width": null,
      "min_height": null,
      "min_width": null,
      "object_fit": null,
      "object_position": null,
      "order": null,
      "overflow": null,
      "overflow_x": null,
      "overflow_y": null,
      "padding": null,
      "right": null,
      "top": null,
      "visibility": null,
      "width": null
     }
    },
    "a0f745f371c24a74a7cfd7ac5288bab7": {
     "model_module": "@jupyter-widgets/controls",
     "model_module_version": "1.5.0",
     "model_name": "DescriptionStyleModel",
     "state": {
      "_model_module": "@jupyter-widgets/controls",
      "_model_module_version": "1.5.0",
      "_model_name": "DescriptionStyleModel",
      "_view_count": null,
      "_view_module": "@jupyter-widgets/base",
      "_view_module_version": "1.2.0",
      "_view_name": "StyleView",
      "description_width": ""
     }
    },
    "bdbe774b975049648deaf23e556df9e2": {
     "model_module": "@jupyter-widgets/controls",
     "model_module_version": "1.5.0",
     "model_name": "HTMLModel",
     "state": {
      "_dom_classes": [],
      "_model_module": "@jupyter-widgets/controls",
      "_model_module_version": "1.5.0",
      "_model_name": "HTMLModel",
      "_view_count": null,
      "_view_module": "@jupyter-widgets/controls",
      "_view_module_version": "1.5.0",
      "_view_name": "HTMLView",
      "description": "",
      "description_tooltip": null,
      "layout": "IPY_MODEL_faef7848621a448ab27a9a80b2294b25",
      "placeholder": "​",
      "style": "IPY_MODEL_39c464378af04e288919817bd9ffec9e",
      "value": " 0/10 [00:00&lt;?, ?it/s]"
     }
    },
    "c274ebf0c2c141d78c1b1ae1b62cbda0": {
     "model_module": "@jupyter-widgets/base",
     "model_module_version": "1.2.0",
     "model_name": "LayoutModel",
     "state": {
      "_model_module": "@jupyter-widgets/base",
      "_model_module_version": "1.2.0",
      "_model_name": "LayoutModel",
      "_view_count": null,
      "_view_module": "@jupyter-widgets/base",
      "_view_module_version": "1.2.0",
      "_view_name": "LayoutView",
      "align_content": null,
      "align_items": null,
      "align_self": null,
      "border": null,
      "bottom": null,
      "display": null,
      "flex": null,
      "flex_flow": null,
      "grid_area": null,
      "grid_auto_columns": null,
      "grid_auto_flow": null,
      "grid_auto_rows": null,
      "grid_column": null,
      "grid_gap": null,
      "grid_row": null,
      "grid_template_areas": null,
      "grid_template_columns": null,
      "grid_template_rows": null,
      "height": null,
      "justify_content": null,
      "justify_items": null,
      "left": null,
      "margin": null,
      "max_height": null,
      "max_width": null,
      "min_height": null,
      "min_width": null,
      "object_fit": null,
      "object_position": null,
      "order": null,
      "overflow": null,
      "overflow_x": null,
      "overflow_y": null,
      "padding": null,
      "right": null,
      "top": null,
      "visibility": null,
      "width": null
     }
    },
    "c356650ab9c9494dac9dcef24b4ee1d9": {
     "model_module": "@jupyter-widgets/base",
     "model_module_version": "1.2.0",
     "model_name": "LayoutModel",
     "state": {
      "_model_module": "@jupyter-widgets/base",
      "_model_module_version": "1.2.0",
      "_model_name": "LayoutModel",
      "_view_count": null,
      "_view_module": "@jupyter-widgets/base",
      "_view_module_version": "1.2.0",
      "_view_name": "LayoutView",
      "align_content": null,
      "align_items": null,
      "align_self": null,
      "border": null,
      "bottom": null,
      "display": null,
      "flex": null,
      "flex_flow": null,
      "grid_area": null,
      "grid_auto_columns": null,
      "grid_auto_flow": null,
      "grid_auto_rows": null,
      "grid_column": null,
      "grid_gap": null,
      "grid_row": null,
      "grid_template_areas": null,
      "grid_template_columns": null,
      "grid_template_rows": null,
      "height": null,
      "justify_content": null,
      "justify_items": null,
      "left": null,
      "margin": null,
      "max_height": null,
      "max_width": null,
      "min_height": null,
      "min_width": null,
      "object_fit": null,
      "object_position": null,
      "order": null,
      "overflow": null,
      "overflow_x": null,
      "overflow_y": null,
      "padding": null,
      "right": null,
      "top": null,
      "visibility": null,
      "width": null
     }
    },
    "f485da0e314c4a4eb3ae78d1116e43e6": {
     "model_module": "@jupyter-widgets/controls",
     "model_module_version": "1.5.0",
     "model_name": "HTMLModel",
     "state": {
      "_dom_classes": [],
      "_model_module": "@jupyter-widgets/controls",
      "_model_module_version": "1.5.0",
      "_model_name": "HTMLModel",
      "_view_count": null,
      "_view_module": "@jupyter-widgets/controls",
      "_view_module_version": "1.5.0",
      "_view_name": "HTMLView",
      "description": "",
      "description_tooltip": null,
      "layout": "IPY_MODEL_14ae5ec340e1416a8fe6002c7e734cdf",
      "placeholder": "​",
      "style": "IPY_MODEL_5d98efd9e58e4dac943abcab1b56f997",
      "value": "  0%"
     }
    },
    "faef7848621a448ab27a9a80b2294b25": {
     "model_module": "@jupyter-widgets/base",
     "model_module_version": "1.2.0",
     "model_name": "LayoutModel",
     "state": {
      "_model_module": "@jupyter-widgets/base",
      "_model_module_version": "1.2.0",
      "_model_name": "LayoutModel",
      "_view_count": null,
      "_view_module": "@jupyter-widgets/base",
      "_view_module_version": "1.2.0",
      "_view_name": "LayoutView",
      "align_content": null,
      "align_items": null,
      "align_self": null,
      "border": null,
      "bottom": null,
      "display": null,
      "flex": null,
      "flex_flow": null,
      "grid_area": null,
      "grid_auto_columns": null,
      "grid_auto_flow": null,
      "grid_auto_rows": null,
      "grid_column": null,
      "grid_gap": null,
      "grid_row": null,
      "grid_template_areas": null,
      "grid_template_columns": null,
      "grid_template_rows": null,
      "height": null,
      "justify_content": null,
      "justify_items": null,
      "left": null,
      "margin": null,
      "max_height": null,
      "max_width": null,
      "min_height": null,
      "min_width": null,
      "object_fit": null,
      "object_position": null,
      "order": null,
      "overflow": null,
      "overflow_x": null,
      "overflow_y": null,
      "padding": null,
      "right": null,
      "top": null,
      "visibility": null,
      "width": null
     }
    }
   }
  }
 },
 "nbformat": 4,
 "nbformat_minor": 0
}
