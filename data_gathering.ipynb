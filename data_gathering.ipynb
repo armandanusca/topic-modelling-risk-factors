{
 "cells": [
  {
   "cell_type": "code",
   "execution_count": null,
   "metadata": {},
   "outputs": [],
   "source": [
    "import json\n",
    "import os\n",
    "import re\n",
    "import shutil\n",
    "\n",
    "import pandas as pd\n",
    "from anyascii import anyascii\n",
    "from bs4 import BeautifulSoup\n",
    "from pymongo import MongoClient\n",
    "from sec_edgar_downloader import Downloader\n",
    "from tqdm.notebook import tqdm\n"
   ]
  },
  {
   "cell_type": "markdown",
   "metadata": {},
   "source": [
    "# Parameters\n",
    "\n",
    "- upl_text: int - the ratio between the positions of index 1A and index 1B\n",
    "- lrts: int - Lower boundary from which fragments become relevant data\n",
    "\n",
    "(Default values were selected empirically)\n"
   ]
  },
  {
   "cell_type": "code",
   "execution_count": null,
   "metadata": {},
   "outputs": [],
   "source": [
    "upl_text = 10\n",
    "lrts = 50\n",
    "\n",
    "# There are two types of documents obtained by sec_edgar_downloader library\n",
    "# The first one - 'latest' - is a web-ready version, which retain the information better after parsing\n",
    "# The second one - 'legacy' - is a text based version, which retains the document structure and readability better\n",
    "targeted_document = 'latest'\n"
   ]
  },
  {
   "cell_type": "code",
   "execution_count": null,
   "metadata": {},
   "outputs": [],
   "source": [
    "# Connection to DB\n",
    "client = MongoClient('127.0.0.1', 27017)\n",
    "db = client.frtp\n",
    "collection = db.documents\n"
   ]
  },
  {
   "cell_type": "code",
   "execution_count": null,
   "metadata": {},
   "outputs": [],
   "source": [
    "# Importing all company tickers available from SEC EDGAR\n",
    "with open('static/company_tickers.json') as j:\n",
    "    company_tickers = json.load(j)\n",
    "all_tickers = []\n",
    "for company in company_tickers:\n",
    "    all_tickers.append(company_tickers[company]['ticker'])\n",
    "print(\"Number of tickers available in SEC EDGAR:\", len(all_tickers))\n",
    "all_tickers[:5]\n"
   ]
  },
  {
   "cell_type": "code",
   "execution_count": null,
   "metadata": {},
   "outputs": [],
   "source": [
    "dl = Downloader()\n"
   ]
  },
  {
   "cell_type": "code",
   "execution_count": null,
   "metadata": {},
   "outputs": [],
   "source": [
    "def get_10k_reports_ticker_timeframe(ticker, start_date, end_date):\n",
    "    years = []\n",
    "    filenames = []\n",
    "    dl.get(\"10-K\", ticker, after=start_date, before=end_date)\n",
    "    try:\n",
    "        for folder in os.listdir(os.getcwd() + f'/sec-edgar-filings/{ticker}/10-K/'):\n",
    "            year = folder.split('-')[1]\n",
    "            filename = f'data/{year}-{ticker}-report.txt'\n",
    "            result = collection.find({\"year\": str(year), \"ticker\": ticker})\n",
    "            df = pd.DataFrame(list(result))\n",
    "            if df.shape[0] > 0:\n",
    "                print(f\"The 10K report of {ticker} from 20{year} is already in the DB\")\n",
    "                shutil.rmtree(os.getcwd() + f'/sec-edgar-filings/{ticker}/10-K/' + folder+'/')\n",
    "                continue\n",
    "            try:\n",
    "                if targeted_document == 'latest':\n",
    "                    targeted_filename = 'filing-details.html'\n",
    "                else:\n",
    "                    targeted_filename = 'full-submission.txt'\n",
    "                with open(os.getcwd() + f'/sec-edgar-filings/{ticker}/10-K/' + folder + '/filing-details.html', encoding='utf-8') as fp:\n",
    "                    try:\n",
    "                        soup = BeautifulSoup(fp)\n",
    "                    except UnicodeDecodeError:\n",
    "                        print(\"File Error: \"+filename)\n",
    "                        continue\n",
    "                text = soup.get_text(strip=True)\n",
    "                text = anyascii(text)\n",
    "                with open(filename, 'w+') as f:\n",
    "                    f.write(text)\n",
    "                years.append(year)\n",
    "                filenames.append(filename)\n",
    "            except FileNotFoundError:\n",
    "                print(ticker, f\"does not have 10K reports in {year}\")\n",
    "                shutil.rmtree(os.getcwd() + f'/sec-edgar-filings/{ticker}/10-K/' + folder + '/')\n",
    "        shutil.rmtree(os.getcwd() + f'/sec-edgar-filings/{ticker}')\n",
    "    except FileNotFoundError:\n",
    "        print(ticker, \" does not have 10K reports in the selected timeframe\")\n",
    "    return years, filenames\n"
   ]
  },
  {
   "cell_type": "code",
   "execution_count": null,
   "metadata": {},
   "outputs": [],
   "source": [
    "years, filenames = get_10k_reports_ticker_timeframe('TSLA', '2010-01-01', '2015-01-01')\n",
    "years, filenames\n"
   ]
  },
  {
   "cell_type": "code",
   "execution_count": null,
   "metadata": {},
   "outputs": [],
   "source": [
    "def store_risk_factors_fragments_from_file(filename, ticker, year):\n",
    "    ids_list = []\n",
    "    with open(filename) as f:\n",
    "        text = f.read()\n",
    "    pos_1a = [m.start() for m in re.finditer('Item 1A', text)]\n",
    "    pos_1b = [m.start() for m in re.finditer('Item 1B', text)]\n",
    "    fragments = {}\n",
    "    index_pos1a = 0\n",
    "    index_pos1b = 0\n",
    "    while index_pos1a < len(pos_1a) and index_pos1b < len(pos_1b):\n",
    "        pos1a = pos_1a[index_pos1a]\n",
    "        pos1b = pos_1b[index_pos1b]\n",
    "        if pos1a * upl_text < pos1b:\n",
    "            index_pos1a += 1\n",
    "            continue\n",
    "        if pos1a > pos1b:\n",
    "            index_pos1b += 1\n",
    "            continue\n",
    "        fragments[(pos1a, pos1b)] = text[pos1a:pos1b]\n",
    "        index_pos1a += 1\n",
    "        index_pos1b += 1\n",
    "\n",
    "    for ifragment in fragments.keys():\n",
    "        fgr = fragments[ifragment]\n",
    "        if collection.find_one({\n",
    "            'ticker': ticker,\n",
    "            'year': year,\n",
    "            'size': len(fgr)\n",
    "        }):\n",
    "            continue\n",
    "        id = collection.insert_one({\n",
    "            'ticker': ticker,\n",
    "            'year': year,\n",
    "            'start_index': ifragment[0],\n",
    "            'end_index': ifragment[1],\n",
    "            'size': len(fgr),\n",
    "            'text': fgr\n",
    "        }).inserted_id\n",
    "        ids_list.append(id)\n",
    "    os.remove(filename)\n",
    "    return ids_list\n"
   ]
  },
  {
   "cell_type": "code",
   "execution_count": null,
   "metadata": {},
   "outputs": [],
   "source": [
    "import sys\n",
    "\n",
    "orig_stdout = sys.stdout\n",
    "f = open('logs/text_data_gathering.log', 'w')\n",
    "sys.stdout = f"
   ]
  },
  {
   "cell_type": "code",
   "execution_count": null,
   "metadata": {},
   "outputs": [],
   "source": [
    "last_ticker_checked = 'NM-PG'"
   ]
  },
  {
   "cell_type": "code",
   "execution_count": null,
   "metadata": {},
   "outputs": [],
   "source": [
    "if last_ticker_checked is None:\n",
    "    remaining_tickers = all_tickers\n",
    "else:\n",
    "    remaining_index = all_tickers.index(last_ticker_checked)\n",
    "    remaining_tickers = all_tickers[remaining_index:]\n",
    "\n",
    "for ticker in tqdm(remaining_tickers):\n",
    "    years, filenames = get_10k_reports_ticker_timeframe(ticker, '2008-01-01', '2022-01-01')\n",
    "    filenames = list(set(filenames))\n",
    "    result = collection.delete_many({'size': {'$lt': lrts}})# Removed fragments too small to be relevant from the DB\n",
    "    result.deleted_count\n",
    "    for index in range(0, len(filenames)):\n",
    "        ids_list = store_risk_factors_fragments_from_file(filenames[index], ticker, years[index])\n"
   ]
  },
  {
   "cell_type": "code",
   "execution_count": null,
   "metadata": {},
   "outputs": [],
   "source": [
    "sys.stdout = orig_stdout\n",
    "f.close()\n"
   ]
  }
 ],
 "metadata": {
  "interpreter": {
   "hash": "916dbcbb3f70747c44a77c7bcd40155683ae19c65e1c03b4aa3499c5328201f1"
  },
  "kernelspec": {
   "display_name": "Python 3.9.7 64-bit",
   "language": "python",
   "name": "python3"
  },
  "language_info": {
   "codemirror_mode": {
    "name": "ipython",
    "version": 3
   },
   "file_extension": ".py",
   "mimetype": "text/x-python",
   "name": "python",
   "nbconvert_exporter": "python",
   "pygments_lexer": "ipython3",
   "version": "3.9.10"
  },
  "orig_nbformat": 4
 },
 "nbformat": 4,
 "nbformat_minor": 2
}
